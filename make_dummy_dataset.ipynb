{
 "cells": [
  {
   "cell_type": "code",
   "execution_count": null,
   "metadata": {},
   "outputs": [],
   "source": []
  },
  {
   "cell_type": "markdown",
   "metadata": {},
   "source": [
    "ASAP CRN Metadata dummy test data \n",
    "\n",
    "\n",
    "11 Nov 2023\n",
    "Andy Henrie\n",
    "\n"
   ]
  },
  {
   "cell_type": "code",
   "execution_count": 2,
   "metadata": {},
   "outputs": [
    {
     "name": "stdout",
     "output_type": "stream",
     "text": [
      "Streamlit NOT successfully. using dummy `st` class\n"
     ]
    }
   ],
   "source": [
    "import pandas as pd\n",
    "\n",
    "from pathlib import Path\n",
    "\n",
    "\n",
    "# local helpers\n",
    "from utils.qcutils import validate_table, force_enum_string, reorder_table_to_CDE\n",
    "from utils.io import ReportCollector, get_dtypes_dict, read_meta_table\n",
    "\n",
    "\n",
    "%load_ext autoreload\n",
    "%autoreload 2\n"
   ]
  },
  {
   "cell_type": "markdown",
   "metadata": {},
   "source": [
    "## Load CDEs"
   ]
  },
  {
   "cell_type": "code",
   "execution_count": 3,
   "metadata": {},
   "outputs": [],
   "source": [
    "CDE_path = Path.cwd() / \"ASAP_CDE_v1.csv\" \n",
    "\n",
    "CDEv1 = pd.read_csv( Path.cwd() / \"ASAP_CDE_v1.csv\" )\n",
    "CDEv2 = pd.read_csv( Path.cwd() / \"ASAP_CDE_v2.csv\" )\n",
    "\n"
   ]
  },
  {
   "cell_type": "markdown",
   "metadata": {},
   "source": [
    "# create helpers - port_v1_tables"
   ]
  },
  {
   "cell_type": "markdown",
   "metadata": {},
   "source": [
    "## Team Hardy"
   ]
  },
  {
   "cell_type": "code",
   "execution_count": 4,
   "metadata": {},
   "outputs": [],
   "source": [
    "tables_path = Path.cwd() / \"clean/team-Hardy\" / \"v2_20231109\"\n",
    "\n",
    "# Initialize the data types dictionary\n",
    "dtypes_dict = get_dtypes_dict(CDEv2)\n",
    "\n",
    "SUBJECT = read_meta_table(f\"{tables_path}/SUBJECT.csv\", dtypes_dict)\n",
    "CLINPATH = read_meta_table(f\"{tables_path}/CLINPATH.csv\", dtypes_dict)\n",
    "STUDY = read_meta_table(f\"{tables_path}/STUDY.csv\", dtypes_dict)\n",
    "PROTOCOL = read_meta_table(f\"{tables_path}/PROTOCOL.csv\", dtypes_dict)\n",
    "SAMPLE = read_meta_table(f\"{tables_path}/SAMPLE.csv\", dtypes_dict)\n",
    "DATA = read_meta_table(f\"{tables_path}/DATA.csv\", dtypes_dict)\n"
   ]
  },
  {
   "cell_type": "code",
   "execution_count": 5,
   "metadata": {},
   "outputs": [],
   "source": [
    "# want to make some reduntan source_subject_id and subject_id\n",
    "\n",
    "\n",
    "dupSUBJECT = SUBJECT.copy()\n"
   ]
  },
  {
   "cell_type": "code",
   "execution_count": 6,
   "metadata": {},
   "outputs": [],
   "source": [
    "# assign SAMPLE['subject_id'] randomly from dupSUBJECT['subject_id']\n",
    "dupSAMPLE = SAMPLE.copy()\n"
   ]
  },
  {
   "cell_type": "markdown",
   "metadata": {},
   "source": [
    "## Team Lee"
   ]
  },
  {
   "cell_type": "code",
   "execution_count": 16,
   "metadata": {},
   "outputs": [],
   "source": [
    "tables_path = Path.cwd() / \"clean/team-Lee\" / \"v2_20231109\"\n",
    "\n",
    "\n",
    "SUBJECT = read_meta_table(f\"{tables_path}/SUBJECT.csv\", dtypes_dict)\n",
    "CLINPATH = read_meta_table(f\"{tables_path}/CLINPATH.csv\", dtypes_dict)\n",
    "STUDY = read_meta_table(f\"{tables_path}/STUDY.csv\", dtypes_dict)\n",
    "PROTOCOL = read_meta_table(f\"{tables_path}/PROTOCOL.csv\", dtypes_dict)\n",
    "SAMPLE = read_meta_table(f\"{tables_path}/SAMPLE.csv\", dtypes_dict)\n"
   ]
  },
  {
   "cell_type": "code",
   "execution_count": 17,
   "metadata": {},
   "outputs": [
    {
     "data": {
      "text/html": [
       "<div>\n",
       "<style scoped>\n",
       "    .dataframe tbody tr th:only-of-type {\n",
       "        vertical-align: middle;\n",
       "    }\n",
       "\n",
       "    .dataframe tbody tr th {\n",
       "        vertical-align: top;\n",
       "    }\n",
       "\n",
       "    .dataframe thead th {\n",
       "        text-align: right;\n",
       "    }\n",
       "</style>\n",
       "<table border=\"1\" class=\"dataframe\">\n",
       "  <thead>\n",
       "    <tr style=\"text-align: right;\">\n",
       "      <th></th>\n",
       "      <th>subject_id</th>\n",
       "      <th>source_subject_id</th>\n",
       "      <th>AMPPD_id</th>\n",
       "      <th>GP2_id</th>\n",
       "      <th>biobank_name</th>\n",
       "      <th>organism</th>\n",
       "      <th>sex</th>\n",
       "      <th>age_at_collection</th>\n",
       "      <th>race</th>\n",
       "      <th>ethnicity</th>\n",
       "      <th>...</th>\n",
       "      <th>hx_dementia_mci</th>\n",
       "      <th>hx_melanoma</th>\n",
       "      <th>education_level</th>\n",
       "      <th>smoking_status</th>\n",
       "      <th>smoking_years</th>\n",
       "      <th>APOE_e4_status</th>\n",
       "      <th>cognitive_status</th>\n",
       "      <th>time_from_baseline</th>\n",
       "      <th>primary_diagnosis</th>\n",
       "      <th>primary_diagnosis_text</th>\n",
       "    </tr>\n",
       "  </thead>\n",
       "  <tbody>\n",
       "    <tr>\n",
       "      <th>14</th>\n",
       "      <td>HC_2067</td>\n",
       "      <td>20-67</td>\n",
       "      <td>&lt;NA&gt;</td>\n",
       "      <td>&lt;NA&gt;</td>\n",
       "      <td>Banner Sun Health Research Institute</td>\n",
       "      <td>Human</td>\n",
       "      <td>Male</td>\n",
       "      <td>72</td>\n",
       "      <td>White</td>\n",
       "      <td>Not Reported</td>\n",
       "      <td>...</td>\n",
       "      <td>No</td>\n",
       "      <td>&lt;NA&gt;</td>\n",
       "      <td>&lt;NA&gt;</td>\n",
       "      <td>Unknown</td>\n",
       "      <td>NaN</td>\n",
       "      <td>23</td>\n",
       "      <td>&lt;NA&gt;</td>\n",
       "      <td>0</td>\n",
       "      <td>No PD nor other neurological disorder</td>\n",
       "      <td>NaN</td>\n",
       "    </tr>\n",
       "    <tr>\n",
       "      <th>13</th>\n",
       "      <td>HC_2062</td>\n",
       "      <td>20-62</td>\n",
       "      <td>&lt;NA&gt;</td>\n",
       "      <td>&lt;NA&gt;</td>\n",
       "      <td>Banner Sun Health Research Institute</td>\n",
       "      <td>Human</td>\n",
       "      <td>Male</td>\n",
       "      <td>81</td>\n",
       "      <td>White</td>\n",
       "      <td>Not Reported</td>\n",
       "      <td>...</td>\n",
       "      <td>No</td>\n",
       "      <td>&lt;NA&gt;</td>\n",
       "      <td>&lt;NA&gt;</td>\n",
       "      <td>Unknown</td>\n",
       "      <td>NaN</td>\n",
       "      <td>33</td>\n",
       "      <td>Normal</td>\n",
       "      <td>0</td>\n",
       "      <td>No PD nor other neurological disorder</td>\n",
       "      <td>NaN</td>\n",
       "    </tr>\n",
       "    <tr>\n",
       "      <th>17</th>\n",
       "      <td>PD_1312</td>\n",
       "      <td>13-12</td>\n",
       "      <td>&lt;NA&gt;</td>\n",
       "      <td>&lt;NA&gt;</td>\n",
       "      <td>Banner Sun Health Research Institute</td>\n",
       "      <td>Human</td>\n",
       "      <td>Male</td>\n",
       "      <td>84</td>\n",
       "      <td>White</td>\n",
       "      <td>Not Reported</td>\n",
       "      <td>...</td>\n",
       "      <td>No</td>\n",
       "      <td>&lt;NA&gt;</td>\n",
       "      <td>&lt;NA&gt;</td>\n",
       "      <td>Unknown</td>\n",
       "      <td>NaN</td>\n",
       "      <td>34</td>\n",
       "      <td>Normal</td>\n",
       "      <td>0</td>\n",
       "      <td>Idiopathic PD</td>\n",
       "      <td>NaN</td>\n",
       "    </tr>\n",
       "    <tr>\n",
       "      <th>3</th>\n",
       "      <td>PD_1921</td>\n",
       "      <td>19-21</td>\n",
       "      <td>&lt;NA&gt;</td>\n",
       "      <td>&lt;NA&gt;</td>\n",
       "      <td>Banner Sun Health Research Institute</td>\n",
       "      <td>Human</td>\n",
       "      <td>Male</td>\n",
       "      <td>82</td>\n",
       "      <td>White</td>\n",
       "      <td>Not Reported</td>\n",
       "      <td>...</td>\n",
       "      <td>Yes</td>\n",
       "      <td>&lt;NA&gt;</td>\n",
       "      <td>&lt;NA&gt;</td>\n",
       "      <td>Unknown</td>\n",
       "      <td>NaN</td>\n",
       "      <td>33</td>\n",
       "      <td>MCI</td>\n",
       "      <td>0</td>\n",
       "      <td>Idiopathic PD</td>\n",
       "      <td>NaN</td>\n",
       "    </tr>\n",
       "    <tr>\n",
       "      <th>21</th>\n",
       "      <td>PD_1902</td>\n",
       "      <td>19-02</td>\n",
       "      <td>&lt;NA&gt;</td>\n",
       "      <td>&lt;NA&gt;</td>\n",
       "      <td>Banner Sun Health Research Institute</td>\n",
       "      <td>Human</td>\n",
       "      <td>Male</td>\n",
       "      <td>73</td>\n",
       "      <td>White</td>\n",
       "      <td>Not Reported</td>\n",
       "      <td>...</td>\n",
       "      <td>Yes</td>\n",
       "      <td>&lt;NA&gt;</td>\n",
       "      <td>&lt;NA&gt;</td>\n",
       "      <td>Unknown</td>\n",
       "      <td>NaN</td>\n",
       "      <td>34</td>\n",
       "      <td>&lt;NA&gt;</td>\n",
       "      <td>0</td>\n",
       "      <td>Idiopathic PD</td>\n",
       "      <td>NaN</td>\n",
       "    </tr>\n",
       "    <tr>\n",
       "      <th>10</th>\n",
       "      <td>HC_1864</td>\n",
       "      <td>18-64</td>\n",
       "      <td>&lt;NA&gt;</td>\n",
       "      <td>&lt;NA&gt;</td>\n",
       "      <td>Banner Sun Health Research Institute</td>\n",
       "      <td>Human</td>\n",
       "      <td>Male</td>\n",
       "      <td>72</td>\n",
       "      <td>White</td>\n",
       "      <td>Not Reported</td>\n",
       "      <td>...</td>\n",
       "      <td>No</td>\n",
       "      <td>&lt;NA&gt;</td>\n",
       "      <td>&lt;NA&gt;</td>\n",
       "      <td>Unknown</td>\n",
       "      <td>NaN</td>\n",
       "      <td>33</td>\n",
       "      <td>Normal</td>\n",
       "      <td>0</td>\n",
       "      <td>No PD nor other neurological disorder</td>\n",
       "      <td>NaN</td>\n",
       "    </tr>\n",
       "    <tr>\n",
       "      <th>18</th>\n",
       "      <td>PD_1317</td>\n",
       "      <td>13-17</td>\n",
       "      <td>&lt;NA&gt;</td>\n",
       "      <td>&lt;NA&gt;</td>\n",
       "      <td>Banner Sun Health Research Institute</td>\n",
       "      <td>Human</td>\n",
       "      <td>Male</td>\n",
       "      <td>83</td>\n",
       "      <td>White</td>\n",
       "      <td>Not Reported</td>\n",
       "      <td>...</td>\n",
       "      <td>No</td>\n",
       "      <td>&lt;NA&gt;</td>\n",
       "      <td>&lt;NA&gt;</td>\n",
       "      <td>Unknown</td>\n",
       "      <td>NaN</td>\n",
       "      <td>44</td>\n",
       "      <td>Normal</td>\n",
       "      <td>0</td>\n",
       "      <td>Idiopathic PD</td>\n",
       "      <td>NaN</td>\n",
       "    </tr>\n",
       "    <tr>\n",
       "      <th>19</th>\n",
       "      <td>PD_1504</td>\n",
       "      <td>15-04</td>\n",
       "      <td>&lt;NA&gt;</td>\n",
       "      <td>&lt;NA&gt;</td>\n",
       "      <td>Banner Sun Health Research Institute</td>\n",
       "      <td>Human</td>\n",
       "      <td>Female</td>\n",
       "      <td>72</td>\n",
       "      <td>White</td>\n",
       "      <td>Not Reported</td>\n",
       "      <td>...</td>\n",
       "      <td>Yes</td>\n",
       "      <td>&lt;NA&gt;</td>\n",
       "      <td>&lt;NA&gt;</td>\n",
       "      <td>Unknown</td>\n",
       "      <td>NaN</td>\n",
       "      <td>23</td>\n",
       "      <td>MCI</td>\n",
       "      <td>0</td>\n",
       "      <td>Idiopathic PD</td>\n",
       "      <td>NaN</td>\n",
       "    </tr>\n",
       "  </tbody>\n",
       "</table>\n",
       "<p>8 rows × 25 columns</p>\n",
       "</div>"
      ],
      "text/plain": [
       "   subject_id source_subject_id AMPPD_id GP2_id  \\\n",
       "14    HC_2067             20-67     <NA>   <NA>   \n",
       "13    HC_2062             20-62     <NA>   <NA>   \n",
       "17    PD_1312             13-12     <NA>   <NA>   \n",
       "3     PD_1921             19-21     <NA>   <NA>   \n",
       "21    PD_1902             19-02     <NA>   <NA>   \n",
       "10    HC_1864             18-64     <NA>   <NA>   \n",
       "18    PD_1317             13-17     <NA>   <NA>   \n",
       "19    PD_1504             15-04     <NA>   <NA>   \n",
       "\n",
       "                            biobank_name organism     sex  age_at_collection  \\\n",
       "14  Banner Sun Health Research Institute    Human    Male                 72   \n",
       "13  Banner Sun Health Research Institute    Human    Male                 81   \n",
       "17  Banner Sun Health Research Institute    Human    Male                 84   \n",
       "3   Banner Sun Health Research Institute    Human    Male                 82   \n",
       "21  Banner Sun Health Research Institute    Human    Male                 73   \n",
       "10  Banner Sun Health Research Institute    Human    Male                 72   \n",
       "18  Banner Sun Health Research Institute    Human    Male                 83   \n",
       "19  Banner Sun Health Research Institute    Human  Female                 72   \n",
       "\n",
       "     race     ethnicity  ... hx_dementia_mci hx_melanoma  education_level  \\\n",
       "14  White  Not Reported  ...              No        <NA>             <NA>   \n",
       "13  White  Not Reported  ...              No        <NA>             <NA>   \n",
       "17  White  Not Reported  ...              No        <NA>             <NA>   \n",
       "3   White  Not Reported  ...             Yes        <NA>             <NA>   \n",
       "21  White  Not Reported  ...             Yes        <NA>             <NA>   \n",
       "10  White  Not Reported  ...              No        <NA>             <NA>   \n",
       "18  White  Not Reported  ...              No        <NA>             <NA>   \n",
       "19  White  Not Reported  ...             Yes        <NA>             <NA>   \n",
       "\n",
       "    smoking_status  smoking_years APOE_e4_status cognitive_status  \\\n",
       "14         Unknown            NaN             23             <NA>   \n",
       "13         Unknown            NaN             33           Normal   \n",
       "17         Unknown            NaN             34           Normal   \n",
       "3          Unknown            NaN             33              MCI   \n",
       "21         Unknown            NaN             34             <NA>   \n",
       "10         Unknown            NaN             33           Normal   \n",
       "18         Unknown            NaN             44           Normal   \n",
       "19         Unknown            NaN             23              MCI   \n",
       "\n",
       "   time_from_baseline                      primary_diagnosis  \\\n",
       "14                  0  No PD nor other neurological disorder   \n",
       "13                  0  No PD nor other neurological disorder   \n",
       "17                  0                          Idiopathic PD   \n",
       "3                   0                          Idiopathic PD   \n",
       "21                  0                          Idiopathic PD   \n",
       "10                  0  No PD nor other neurological disorder   \n",
       "18                  0                          Idiopathic PD   \n",
       "19                  0                          Idiopathic PD   \n",
       "\n",
       "    primary_diagnosis_text  \n",
       "14                     NaN  \n",
       "13                     NaN  \n",
       "17                     NaN  \n",
       "3                      NaN  \n",
       "21                     NaN  \n",
       "10                     NaN  \n",
       "18                     NaN  \n",
       "19                     NaN  \n",
       "\n",
       "[8 rows x 25 columns]"
      ]
     },
     "execution_count": 17,
     "metadata": {},
     "output_type": "execute_result"
    }
   ],
   "source": [
    "tmp = SUBJECT.sample(n=24, replace=False, random_state=1)\n",
    "\n",
    "dupSUBJECT1 = tmp.iloc[:8]\n",
    "dupSUBJECT2 = tmp.iloc[8:16]\n",
    "dupSUBJECT3 = tmp.iloc[16:]\n",
    "dupSUBJECT1"
   ]
  },
  {
   "cell_type": "code",
   "execution_count": 18,
   "metadata": {},
   "outputs": [],
   "source": [
    "tmp = SAMPLE.sample(n=24, replace=False, random_state=1)\n",
    "dupSAMPLE1 = tmp.iloc[:8]\n",
    "dupSAMPLE2 = tmp.iloc[8:16]\n",
    "dupSAMPLE3 = tmp.iloc[16:]\n",
    "\n",
    "\n"
   ]
  },
  {
   "cell_type": "code",
   "execution_count": 19,
   "metadata": {},
   "outputs": [],
   "source": [
    "# append some SUBJECTs and SAMPLEs but with GP2 ids from Hardy\n",
    "# first call make subject_id and source_subject_ids different by adding \"dup_\"\n",
    "dupSUBJECT1[\"subject_id\"] = \"dup_\" + dupSUBJECT1[\"subject_id\"]\n",
    "dupSUBJECT1[\"source_subject_id\"] = \"dup_\" + dupSUBJECT1[\"source_subject_id\"]\n",
    "# then replace the gp2_id with the gp2_id from Hardy\n",
    "dupSUBJECT1[\"GP2_id\"] = dupSUBJECT[\"GP2_id\"]"
   ]
  },
  {
   "cell_type": "code",
   "execution_count": 20,
   "metadata": {},
   "outputs": [],
   "source": [
    "\n",
    "\n",
    "dupSUBJECT2[\"subject_id\"] = \"dup_\" + dupSUBJECT2[\"subject_id\"]\n",
    "# and source_subject with the gp2_id from Hardy\n",
    "dupSUBJECT2[\"source_subject_id\"] = dupSUBJECT[\"source_subject_id\"][30:38].values"
   ]
  },
  {
   "cell_type": "code",
   "execution_count": 21,
   "metadata": {},
   "outputs": [],
   "source": [
    "\n",
    "\n",
    "dupSUBJECT3[\"subject_id\"] = \"dup_\" + dupSUBJECT2[\"subject_id\"]\n",
    "# and source_subject with the gp2_id from Hardy\n",
    "dupSUBJECT3[\"source_subject_id\"] = \"dup_\" + dupSUBJECT[\"source_subject_id\"][30:38].values\n",
    "dupSUBJECT3[\"GP2_id\"] = dupSUBJECT[\"GP2_id\"]\n"
   ]
  },
  {
   "cell_type": "code",
   "execution_count": 22,
   "metadata": {},
   "outputs": [
    {
     "name": "stderr",
     "output_type": "stream",
     "text": [
      "/var/folders/0z/hvx6j8cn6yj3bqbyq6rtsxm40000gn/T/ipykernel_24315/2413039177.py:1: SettingWithCopyWarning: \n",
      "A value is trying to be set on a copy of a slice from a DataFrame.\n",
      "Try using .loc[row_indexer,col_indexer] = value instead\n",
      "\n",
      "See the caveats in the documentation: https://pandas.pydata.org/pandas-docs/stable/user_guide/indexing.html#returning-a-view-versus-a-copy\n",
      "  dupSAMPLE1['sample_id'] = \"dup_\" + dupSAMPLE1['sample_id']\n",
      "/var/folders/0z/hvx6j8cn6yj3bqbyq6rtsxm40000gn/T/ipykernel_24315/2413039177.py:2: SettingWithCopyWarning: \n",
      "A value is trying to be set on a copy of a slice from a DataFrame.\n",
      "Try using .loc[row_indexer,col_indexer] = value instead\n",
      "\n",
      "See the caveats in the documentation: https://pandas.pydata.org/pandas-docs/stable/user_guide/indexing.html#returning-a-view-versus-a-copy\n",
      "  dupSAMPLE1['subject_id'] = dupSUBJECT1['subject_id']\n"
     ]
    }
   ],
   "source": [
    "dupSAMPLE1['sample_id'] = \"dup_\" + dupSAMPLE1['sample_id']\n",
    "dupSAMPLE1['subject_id'] = dupSUBJECT1['subject_id']\n"
   ]
  },
  {
   "cell_type": "code",
   "execution_count": 23,
   "metadata": {},
   "outputs": [
    {
     "name": "stderr",
     "output_type": "stream",
     "text": [
      "/var/folders/0z/hvx6j8cn6yj3bqbyq6rtsxm40000gn/T/ipykernel_24315/3939467110.py:1: SettingWithCopyWarning: \n",
      "A value is trying to be set on a copy of a slice from a DataFrame.\n",
      "Try using .loc[row_indexer,col_indexer] = value instead\n",
      "\n",
      "See the caveats in the documentation: https://pandas.pydata.org/pandas-docs/stable/user_guide/indexing.html#returning-a-view-versus-a-copy\n",
      "  dupSAMPLE2['sample_id'] = \"dup_\" + dupSAMPLE2['sample_id']\n",
      "/var/folders/0z/hvx6j8cn6yj3bqbyq6rtsxm40000gn/T/ipykernel_24315/3939467110.py:2: SettingWithCopyWarning: \n",
      "A value is trying to be set on a copy of a slice from a DataFrame.\n",
      "Try using .loc[row_indexer,col_indexer] = value instead\n",
      "\n",
      "See the caveats in the documentation: https://pandas.pydata.org/pandas-docs/stable/user_guide/indexing.html#returning-a-view-versus-a-copy\n",
      "  dupSAMPLE2['subject_id'] = dupSUBJECT2['subject_id']\n"
     ]
    }
   ],
   "source": [
    "\n",
    "dupSAMPLE2['sample_id'] = \"dup_\" + dupSAMPLE2['sample_id']\n",
    "dupSAMPLE2['subject_id'] = dupSUBJECT2['subject_id']\n"
   ]
  },
  {
   "cell_type": "code",
   "execution_count": 24,
   "metadata": {},
   "outputs": [
    {
     "name": "stderr",
     "output_type": "stream",
     "text": [
      "/var/folders/0z/hvx6j8cn6yj3bqbyq6rtsxm40000gn/T/ipykernel_24315/4066630161.py:1: SettingWithCopyWarning: \n",
      "A value is trying to be set on a copy of a slice from a DataFrame.\n",
      "Try using .loc[row_indexer,col_indexer] = value instead\n",
      "\n",
      "See the caveats in the documentation: https://pandas.pydata.org/pandas-docs/stable/user_guide/indexing.html#returning-a-view-versus-a-copy\n",
      "  dupSAMPLE3['sample_id'] = \"dup_\" + dupSAMPLE3['sample_id']\n",
      "/var/folders/0z/hvx6j8cn6yj3bqbyq6rtsxm40000gn/T/ipykernel_24315/4066630161.py:2: SettingWithCopyWarning: \n",
      "A value is trying to be set on a copy of a slice from a DataFrame.\n",
      "Try using .loc[row_indexer,col_indexer] = value instead\n",
      "\n",
      "See the caveats in the documentation: https://pandas.pydata.org/pandas-docs/stable/user_guide/indexing.html#returning-a-view-versus-a-copy\n",
      "  dupSAMPLE3['subject_id'] = dupSAMPLE3['subject_id']\n"
     ]
    }
   ],
   "source": [
    "\n",
    "\n",
    "dupSAMPLE3['sample_id'] = \"dup_\" + dupSAMPLE3['sample_id']\n",
    "dupSAMPLE3['subject_id'] = dupSAMPLE3['subject_id']\n",
    "\n"
   ]
  },
  {
   "cell_type": "code",
   "execution_count": 26,
   "metadata": {},
   "outputs": [],
   "source": [
    "dSAMPLE = pd.concat([SAMPLE, dupSAMPLE1, dupSAMPLE2, dupSAMPLE3], ignore_index=True).dropna(subset=['subject_id', 'sample_id'])\n",
    "dSUBJECT = pd.concat([SUBJECT, dupSUBJECT1, dupSUBJECT2, dupSUBJECT3], ignore_index=True).dropna(subset=['subject_id'])\n",
    "\n",
    "dSTUDY = STUDY.copy()\n",
    "dSTUDY['ASAP_team_name'] = \"TEAM-TEST\""
   ]
  },
  {
   "cell_type": "code",
   "execution_count": 27,
   "metadata": {},
   "outputs": [],
   "source": [
    "import datetime\n",
    "# Get the current date and time\n",
    "current_date = datetime.datetime.now()\n",
    "tables_path = Path.cwd() / \"clean/team-Test\"\n",
    "if not tables_path.exists():\n",
    "    tables_path.mkdir(parents=True, exist_ok=True)\n",
    "\n",
    "# Format the date as a string in the format 'YYYYMMDD'\n",
    "date_str = current_date.strftime('%Y%m%d')\n",
    "\n",
    "out_dir = \"v2\"\n",
    "export_root = tables_path / f\"{out_dir}_{date_str}\"\n",
    "if not export_root.exists():\n",
    "    export_root.mkdir(parents=True, exist_ok=True)\n",
    "\n",
    "\n",
    "dSTUDY.to_csv( export_root / \"STUDY.csv\")\n",
    "PROTOCOL.to_csv(export_root / \"PROTOCOL.csv\")\n",
    "dSAMPLE.to_csv(export_root / \"SAMPLE.csv\")\n",
    "dSUBJECT.to_csv(export_root / \"SUBJECT.csv\")\n",
    "CLINPATH.to_csv(export_root / \"CLINPATH.csv\")\n",
    "DATA.to_csv(export_root / \"DATA.csv\")"
   ]
  },
  {
   "cell_type": "code",
   "execution_count": 112,
   "metadata": {},
   "outputs": [
    {
     "data": {
      "text/plain": [
       "PosixPath('/Users/ergonyc/Projects/ASAP/meta-clean/clean/team-Test/v2_20231110')"
      ]
     },
     "execution_count": 112,
     "metadata": {},
     "output_type": "execute_result"
    }
   ],
   "source": [
    "export_root"
   ]
  },
  {
   "cell_type": "markdown",
   "metadata": {},
   "source": [
    "## Team Hafler"
   ]
  },
  {
   "cell_type": "code",
   "execution_count": 241,
   "metadata": {},
   "outputs": [],
   "source": [
    "tables_path = Path.cwd() / \"clean/team-Hafler\" / \"v2_20231109\"\n",
    "\n",
    "\n",
    "SUBJECT = read_meta_table(f\"{tables_path}/SUBJECT.csv\", dtypes_dict)\n",
    "CLINPATH = read_meta_table(f\"{tables_path}/CLINPATH.csv\", dtypes_dict)\n",
    "STUDY = read_meta_table(f\"{tables_path}/STUDY.csv\", dtypes_dict)\n",
    "PROTOCOL = read_meta_table(f\"{tables_path}/PROTOCOL.csv\", dtypes_dict)\n",
    "SAMPLE = read_meta_table(f\"{tables_path}/SAMPLE.csv\", dtypes_dict)\n",
    "\n"
   ]
  }
 ],
 "metadata": {
  "kernelspec": {
   "display_name": "scverse10",
   "language": "python",
   "name": "python3"
  },
  "language_info": {
   "codemirror_mode": {
    "name": "ipython",
    "version": 3
   },
   "file_extension": ".py",
   "mimetype": "text/x-python",
   "name": "python",
   "nbconvert_exporter": "python",
   "pygments_lexer": "ipython3",
   "version": "3.10.13"
  },
  "orig_nbformat": 4
 },
 "nbformat": 4,
 "nbformat_minor": 2
}
