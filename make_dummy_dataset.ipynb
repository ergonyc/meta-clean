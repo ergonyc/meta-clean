{
 "cells": [
  {
   "cell_type": "code",
   "execution_count": null,
   "metadata": {},
   "outputs": [],
   "source": []
  },
  {
   "cell_type": "markdown",
   "metadata": {},
   "source": [
    "ASAP CRN Metadata dummy test data \n",
    "\n",
    "\n",
    "11 Nov 2023\n",
    "Andy Henrie\n",
    "\n"
   ]
  },
  {
   "cell_type": "code",
   "execution_count": 1,
   "metadata": {},
   "outputs": [
    {
     "name": "stdout",
     "output_type": "stream",
     "text": [
      "Streamlit NOT successfully. using dummy `st` class\n"
     ]
    }
   ],
   "source": [
    "import pandas as pd\n",
    "\n",
    "from pathlib import Path\n",
    "\n",
    "\n",
    "# local helpers\n",
    "from utils.qcutils import validate_table, force_enum_string, reorder_table_to_CDE\n",
    "from utils.io import ReportCollector, get_dtypes_dict, read_meta_table"
   ]
  },
  {
   "cell_type": "markdown",
   "metadata": {},
   "source": [
    "## Load CDEs"
   ]
  },
  {
   "cell_type": "code",
   "execution_count": 148,
   "metadata": {},
   "outputs": [],
   "source": [
    "CDE_path = Path.cwd() / \"ASAP_CDE_v1.csv\" \n",
    "\n",
    "CDEv1 = pd.read_csv( Path.cwd() / \"ASAP_CDE_v1.csv\" )\n",
    "CDEv2 = pd.read_csv( Path.cwd() / \"ASAP_CDE_v2.csv\" )\n",
    "\n"
   ]
  },
  {
   "cell_type": "markdown",
   "metadata": {},
   "source": [
    "# create helpers - port_v1_tables"
   ]
  },
  {
   "cell_type": "markdown",
   "metadata": {},
   "source": [
    "## Team Hardy"
   ]
  },
  {
   "cell_type": "code",
   "execution_count": 149,
   "metadata": {},
   "outputs": [],
   "source": [
    "tables_path = Path.cwd() / \"clean/team-Hardy\" / \"v2_20231109\"\n",
    "\n",
    "# Initialize the data types dictionary\n",
    "dtypes_dict = get_dtypes_dict(CDEv2)\n",
    "\n",
    "SUBJECT = read_meta_table(f\"{tables_path}/SUBJECT.csv\", dtypes_dict)\n",
    "CLINPATH = read_meta_table(f\"{tables_path}/CLINPATH.csv\", dtypes_dict)\n",
    "STUDY = read_meta_table(f\"{tables_path}/STUDY.csv\", dtypes_dict)\n",
    "PROTOCOL = read_meta_table(f\"{tables_path}/PROTOCOL.csv\", dtypes_dict)\n",
    "SAMPLE = read_meta_table(f\"{tables_path}/SAMPLE.csv\", dtypes_dict)\n",
    "DATA = read_meta_table(f\"{tables_path}/DATA.csv\", dtypes_dict)\n"
   ]
  },
  {
   "cell_type": "code",
   "execution_count": 150,
   "metadata": {},
   "outputs": [],
   "source": [
    "# want to make some reduntan source_subject_id and subject_id\n",
    "\n",
    "\n",
    "dupSUBJECT = SUBJECT.copy()\n"
   ]
  },
  {
   "cell_type": "code",
   "execution_count": 151,
   "metadata": {},
   "outputs": [],
   "source": [
    "# assign SAMPLE['subject_id'] randomly from dupSUBJECT['subject_id']\n",
    "dupSAMPLE = SAMPLE.copy()\n"
   ]
  },
  {
   "cell_type": "markdown",
   "metadata": {},
   "source": [
    "## Team Lee"
   ]
  },
  {
   "cell_type": "code",
   "execution_count": 152,
   "metadata": {},
   "outputs": [],
   "source": [
    "tables_path = Path.cwd() / \"clean/team-Lee\" / \"v2_20231109\"\n",
    "\n",
    "\n",
    "SUBJECT = read_meta_table(f\"{tables_path}/SUBJECT.csv\", dtypes_dict)\n",
    "CLINPATH = read_meta_table(f\"{tables_path}/CLINPATH.csv\", dtypes_dict)\n",
    "STUDY = read_meta_table(f\"{tables_path}/STUDY.csv\", dtypes_dict)\n",
    "PROTOCOL = read_meta_table(f\"{tables_path}/PROTOCOL.csv\", dtypes_dict)\n",
    "SAMPLE = read_meta_table(f\"{tables_path}/SAMPLE.csv\", dtypes_dict)\n"
   ]
  },
  {
   "cell_type": "code",
   "execution_count": 153,
   "metadata": {},
   "outputs": [],
   "source": [
    "tmp = SUBJECT.sample(n=24, replace=False, random_state=1)\n",
    "\n",
    "dupSUBJECT1 = tmp.iloc[:8]\n",
    "dupSUBJECT2 = tmp.iloc[8:16]\n",
    "dupSUBJECT3 = tmp.iloc[16:]\n"
   ]
  },
  {
   "cell_type": "code",
   "execution_count": 154,
   "metadata": {},
   "outputs": [],
   "source": [
    "tmp = SAMPLE.sample(n=24, replace=False, random_state=1)\n",
    "dupSAMPLE1 = tmp.iloc[:8]\n",
    "dupSAMPLE2 = tmp.iloc[8:16]\n",
    "dupSAMPLE3 = tmp.iloc[16:]\n",
    "\n",
    "\n"
   ]
  },
  {
   "cell_type": "code",
   "execution_count": 155,
   "metadata": {},
   "outputs": [],
   "source": [
    "# append some SUBJECTs and SAMPLEs but with GP2 ids from Hardy\n",
    "# first call make subject_id and source_subject_ids different by adding \"dup_\"\n",
    "dupSUBJECT1[\"subject_id\"] = \"dup_\" + dupSUBJECT1[\"subject_id\"]\n",
    "dupSUBJECT1[\"source_subject_id\"] = \"dup_\" + dupSUBJECT1[\"source_subject_id\"]\n",
    "# then replace the gp2_id with the gp2_id from Hardy\n",
    "dupSUBJECT1[\"GP2_id\"] = dupSUBJECT[\"GP2_id\"]"
   ]
  },
  {
   "cell_type": "code",
   "execution_count": 156,
   "metadata": {},
   "outputs": [],
   "source": [
    "\n",
    "\n",
    "dupSUBJECT2[\"subject_id\"] = \"dup_\" + dupSUBJECT2[\"subject_id\"]\n",
    "# and source_subject with the gp2_id from Hardy\n",
    "dupSUBJECT2[\"source_subject_id\"] = dupSUBJECT[\"source_subject_id\"][30:38].values"
   ]
  },
  {
   "cell_type": "code",
   "execution_count": 157,
   "metadata": {},
   "outputs": [],
   "source": [
    "\n",
    "\n",
    "dupSUBJECT3[\"subject_id\"] = \"dup_\" + dupSUBJECT2[\"subject_id\"]\n",
    "# and source_subject with the gp2_id from Hardy\n",
    "dupSUBJECT3[\"source_subject_id\"] = \"dup_\" + dupSUBJECT[\"source_subject_id\"][30:38].values\n",
    "dupSUBJECT3[\"GP2_id\"] = dupSUBJECT[\"GP2_id\"]\n"
   ]
  },
  {
   "cell_type": "code",
   "execution_count": 158,
   "metadata": {},
   "outputs": [
    {
     "name": "stderr",
     "output_type": "stream",
     "text": [
      "/var/folders/0z/hvx6j8cn6yj3bqbyq6rtsxm40000gn/T/ipykernel_69035/2413039177.py:1: SettingWithCopyWarning: \n",
      "A value is trying to be set on a copy of a slice from a DataFrame.\n",
      "Try using .loc[row_indexer,col_indexer] = value instead\n",
      "\n",
      "See the caveats in the documentation: https://pandas.pydata.org/pandas-docs/stable/user_guide/indexing.html#returning-a-view-versus-a-copy\n",
      "  dupSAMPLE1['sample_id'] = \"dup_\" + dupSAMPLE1['sample_id']\n",
      "/var/folders/0z/hvx6j8cn6yj3bqbyq6rtsxm40000gn/T/ipykernel_69035/2413039177.py:2: SettingWithCopyWarning: \n",
      "A value is trying to be set on a copy of a slice from a DataFrame.\n",
      "Try using .loc[row_indexer,col_indexer] = value instead\n",
      "\n",
      "See the caveats in the documentation: https://pandas.pydata.org/pandas-docs/stable/user_guide/indexing.html#returning-a-view-versus-a-copy\n",
      "  dupSAMPLE1['subject_id'] = dupSUBJECT1['subject_id']\n"
     ]
    }
   ],
   "source": [
    "dupSAMPLE1['sample_id'] = \"dup_\" + dupSAMPLE1['sample_id']\n",
    "dupSAMPLE1['subject_id'] = dupSUBJECT1['subject_id']\n"
   ]
  },
  {
   "cell_type": "code",
   "execution_count": 159,
   "metadata": {},
   "outputs": [
    {
     "name": "stderr",
     "output_type": "stream",
     "text": [
      "/var/folders/0z/hvx6j8cn6yj3bqbyq6rtsxm40000gn/T/ipykernel_69035/3939467110.py:1: SettingWithCopyWarning: \n",
      "A value is trying to be set on a copy of a slice from a DataFrame.\n",
      "Try using .loc[row_indexer,col_indexer] = value instead\n",
      "\n",
      "See the caveats in the documentation: https://pandas.pydata.org/pandas-docs/stable/user_guide/indexing.html#returning-a-view-versus-a-copy\n",
      "  dupSAMPLE2['sample_id'] = \"dup_\" + dupSAMPLE2['sample_id']\n",
      "/var/folders/0z/hvx6j8cn6yj3bqbyq6rtsxm40000gn/T/ipykernel_69035/3939467110.py:2: SettingWithCopyWarning: \n",
      "A value is trying to be set on a copy of a slice from a DataFrame.\n",
      "Try using .loc[row_indexer,col_indexer] = value instead\n",
      "\n",
      "See the caveats in the documentation: https://pandas.pydata.org/pandas-docs/stable/user_guide/indexing.html#returning-a-view-versus-a-copy\n",
      "  dupSAMPLE2['subject_id'] = dupSUBJECT2['subject_id']\n"
     ]
    }
   ],
   "source": [
    "\n",
    "dupSAMPLE2['sample_id'] = \"dup_\" + dupSAMPLE2['sample_id']\n",
    "dupSAMPLE2['subject_id'] = dupSUBJECT2['subject_id']\n"
   ]
  },
  {
   "cell_type": "code",
   "execution_count": 160,
   "metadata": {},
   "outputs": [
    {
     "name": "stderr",
     "output_type": "stream",
     "text": [
      "/var/folders/0z/hvx6j8cn6yj3bqbyq6rtsxm40000gn/T/ipykernel_69035/4066630161.py:1: SettingWithCopyWarning: \n",
      "A value is trying to be set on a copy of a slice from a DataFrame.\n",
      "Try using .loc[row_indexer,col_indexer] = value instead\n",
      "\n",
      "See the caveats in the documentation: https://pandas.pydata.org/pandas-docs/stable/user_guide/indexing.html#returning-a-view-versus-a-copy\n",
      "  dupSAMPLE3['sample_id'] = \"dup_\" + dupSAMPLE3['sample_id']\n",
      "/var/folders/0z/hvx6j8cn6yj3bqbyq6rtsxm40000gn/T/ipykernel_69035/4066630161.py:2: SettingWithCopyWarning: \n",
      "A value is trying to be set on a copy of a slice from a DataFrame.\n",
      "Try using .loc[row_indexer,col_indexer] = value instead\n",
      "\n",
      "See the caveats in the documentation: https://pandas.pydata.org/pandas-docs/stable/user_guide/indexing.html#returning-a-view-versus-a-copy\n",
      "  dupSAMPLE3['subject_id'] = dupSAMPLE3['subject_id']\n"
     ]
    }
   ],
   "source": [
    "\n",
    "\n",
    "dupSAMPLE3['sample_id'] = \"dup_\" + dupSAMPLE3['sample_id']\n",
    "dupSAMPLE3['subject_id'] = dupSAMPLE3['subject_id']\n",
    "\n"
   ]
  },
  {
   "cell_type": "code",
   "execution_count": 168,
   "metadata": {},
   "outputs": [],
   "source": [
    "dSAMPLE = pd.concat([SAMPLE, dupSAMPLE1, dupSAMPLE2, dupSAMPLE3], ignore_index=True).dropna(subset=['subject_id'])\n",
    "dSUBJECT = pd.concat([SUBJECT, dupSUBJECT1, dupSUBJECT2, dupSUBJECT3], ignore_index=True).dropna(subset=['subject_id'])\n",
    "\n",
    "dSTUDY = STUDY.copy()\n",
    "dSTUDY['ASAP_team_name'] = \"TEAM-TEST\""
   ]
  },
  {
   "cell_type": "code",
   "execution_count": 169,
   "metadata": {},
   "outputs": [],
   "source": [
    "import datetime\n",
    "# Get the current date and time\n",
    "current_date = datetime.datetime.now()\n",
    "tables_path = Path.cwd() / \"clean/team-Test\"\n",
    "if not tables_path.exists():\n",
    "    tables_path.mkdir(parents=True, exist_ok=True)\n",
    "\n",
    "# Format the date as a string in the format 'YYYYMMDD'\n",
    "date_str = current_date.strftime('%Y%m%d')\n",
    "\n",
    "out_dir = \"v2\"\n",
    "export_root = tables_path / f\"{out_dir}_{date_str}\"\n",
    "if not export_root.exists():\n",
    "    export_root.mkdir(parents=True, exist_ok=True)\n",
    "\n",
    "\n",
    "dSTUDY.to_csv( export_root / \"STUDY.csv\")\n",
    "PROTOCOL.to_csv(export_root / \"PROTOCOL.csv\")\n",
    "dSAMPLE.to_csv(export_root / \"SAMPLE.csv\")\n",
    "dSUBJECT.to_csv(export_root / \"SUBJECT.csv\")\n",
    "CLINPATH.to_csv(export_root / \"CLINPATH.csv\")\n",
    "DATA.to_csv(export_root / \"DATA.csv\")"
   ]
  },
  {
   "cell_type": "code",
   "execution_count": 112,
   "metadata": {},
   "outputs": [
    {
     "data": {
      "text/plain": [
       "PosixPath('/Users/ergonyc/Projects/ASAP/meta-clean/clean/team-Test/v2_20231110')"
      ]
     },
     "execution_count": 112,
     "metadata": {},
     "output_type": "execute_result"
    }
   ],
   "source": [
    "export_root"
   ]
  },
  {
   "cell_type": "markdown",
   "metadata": {},
   "source": [
    "## Team Hafler"
   ]
  },
  {
   "cell_type": "code",
   "execution_count": 241,
   "metadata": {},
   "outputs": [],
   "source": [
    "tables_path = Path.cwd() / \"clean/team-Hafler\" / \"v2_20231109\"\n",
    "\n",
    "\n",
    "SUBJECT = read_meta_table(f\"{tables_path}/SUBJECT.csv\", dtypes_dict)\n",
    "CLINPATH = read_meta_table(f\"{tables_path}/CLINPATH.csv\", dtypes_dict)\n",
    "STUDY = read_meta_table(f\"{tables_path}/STUDY.csv\", dtypes_dict)\n",
    "PROTOCOL = read_meta_table(f\"{tables_path}/PROTOCOL.csv\", dtypes_dict)\n",
    "SAMPLE = read_meta_table(f\"{tables_path}/SAMPLE.csv\", dtypes_dict)\n",
    "\n"
   ]
  }
 ],
 "metadata": {
  "kernelspec": {
   "display_name": "scverse10",
   "language": "python",
   "name": "python3"
  },
  "language_info": {
   "codemirror_mode": {
    "name": "ipython",
    "version": 3
   },
   "file_extension": ".py",
   "mimetype": "text/x-python",
   "name": "python",
   "nbconvert_exporter": "python",
   "pygments_lexer": "ipython3",
   "version": "3.10.13"
  },
  "orig_nbformat": 4
 },
 "nbformat": 4,
 "nbformat_minor": 2
}
