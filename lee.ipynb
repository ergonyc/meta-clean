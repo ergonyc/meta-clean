{
 "cells": [
  {
   "cell_type": "markdown",
   "metadata": {},
   "source": [
    "ASAP CRN Metadata validation - wave 1\n",
    "\n",
    "# Team Lee. ASAP CRN Metadata validation - wave 1\n",
    "\n",
    "\n",
    "\n",
    "28 Nov 2023\n",
    "Andy Henrie\n",
    "\n",
    "\n"
   ]
  },
  {
   "cell_type": "code",
   "execution_count": 95,
   "metadata": {},
   "outputs": [
    {
     "name": "stdout",
     "output_type": "stream",
     "text": [
      "The autoreload extension is already loaded. To reload it, use:\n",
      "  %reload_ext autoreload\n"
     ]
    }
   ],
   "source": [
    "import pandas as pd\n",
    "\n",
    "from pathlib import Path\n",
    "\n",
    "from utils.io import read_meta_table, get_dtypes_dict, ReportCollector\n",
    "from utils.qcutils import prep_table, validate_table, validate_file, read_ASAP_CDE, reorder_table_to_CDE\n",
    "\n",
    "\n",
    "\n",
    "%load_ext autoreload\n",
    "%autoreload 2\n"
   ]
  },
  {
   "cell_type": "markdown",
   "metadata": {},
   "source": [
    "## Clean V1 Table\n",
    "write clean metadata tables according to CDE v1"
   ]
  },
  {
   "cell_type": "markdown",
   "metadata": {},
   "source": [
    "### Team Lee"
   ]
  },
  {
   "cell_type": "code",
   "execution_count": 96,
   "metadata": {},
   "outputs": [
    {
     "name": "stdout",
     "output_type": "stream",
     "text": [
      "read url\n"
     ]
    }
   ],
   "source": [
    "## convert \n",
    "data_path = Path.home() / (\"Projects/ASAP/team-lee\")\n",
    "metadata_path = data_path / \"metadata/ogmetadata\"\n",
    "\n",
    "SUBJECT = pd.read_csv(f\"{metadata_path}/SUBJECT.tsv\", delimiter=\"\\t\")\n",
    "SAMPLE = pd.read_csv(f\"{metadata_path}/SAMPLE.tsv\",delimiter=\"\\t\")\n",
    "\n",
    "CLINPATH = pd.read_csv(f\"{metadata_path}/CLINPATH.csv\",delimiter=\",\")\n",
    "STUDY = pd.read_csv(f\"{metadata_path}/STUDY.tsv\",delimiter=\"\\t\")\n",
    "PROTOCOL = pd.read_csv(f\"{metadata_path}/PROTOCOL.tsv\",delimiter=\"\\t\")\n",
    "\n",
    "metadata_version = \"v1\"\n",
    "\n",
    "CDE_df,dtypes_dict = read_ASAP_CDE(metadata_version=metadata_version)\n",
    "METADATA_VERSION_DATE = f\"{metadata_version}_{pd.Timestamp.now().strftime('%Y%m%d')}\""
   ]
  },
  {
   "cell_type": "code",
   "execution_count": 97,
   "metadata": {},
   "outputs": [
    {
     "data": {
      "text/html": [
       "<div>\n",
       "<style scoped>\n",
       "    .dataframe tbody tr th:only-of-type {\n",
       "        vertical-align: middle;\n",
       "    }\n",
       "\n",
       "    .dataframe tbody tr th {\n",
       "        vertical-align: top;\n",
       "    }\n",
       "\n",
       "    .dataframe thead th {\n",
       "        text-align: right;\n",
       "    }\n",
       "</style>\n",
       "<table border=\"1\" class=\"dataframe\">\n",
       "  <thead>\n",
       "    <tr style=\"text-align: right;\">\n",
       "      <th></th>\n",
       "      <th>Unnamed: 0</th>\n",
       "      <th>Unnamed: 1</th>\n",
       "      <th>Unnamed: 2</th>\n",
       "      <th>Team-Lee-Bras-Lab-Info</th>\n",
       "      <th>Field</th>\n",
       "      <th>Description</th>\n",
       "      <th>Data type</th>\n",
       "      <th>Validation</th>\n",
       "      <th>Note</th>\n",
       "      <th>Required/Optional</th>\n",
       "    </tr>\n",
       "  </thead>\n",
       "  <tbody>\n",
       "    <tr>\n",
       "      <th>0</th>\n",
       "      <td>Is senescence a component of human PD and does...</td>\n",
       "      <td>project_name</td>\n",
       "      <td>Project Name/Title</td>\n",
       "      <td>String</td>\n",
       "      <td>NaN</td>\n",
       "      <td>Unique and clear title.</td>\n",
       "      <td>Required</td>\n",
       "      <td>NaN</td>\n",
       "      <td>NaN</td>\n",
       "      <td>NaN</td>\n",
       "    </tr>\n",
       "    <tr>\n",
       "      <th>1</th>\n",
       "      <td>Human snRNA-seq PD Senesence Jose Bras Team Lee</td>\n",
       "      <td>project_dataset</td>\n",
       "      <td>Dataset name</td>\n",
       "      <td>String</td>\n",
       "      <td>NaN</td>\n",
       "      <td>A Dataset name is required for each submission...</td>\n",
       "      <td>Required</td>\n",
       "      <td>NaN</td>\n",
       "      <td>NaN</td>\n",
       "      <td>NaN</td>\n",
       "    </tr>\n",
       "    <tr>\n",
       "      <th>2</th>\n",
       "      <td>Characterize the neuropathological progression...</td>\n",
       "      <td>project_description</td>\n",
       "      <td>Brief description of the goals and objectives ...</td>\n",
       "      <td>String</td>\n",
       "      <td>NaN</td>\n",
       "      <td>NaN</td>\n",
       "      <td>Required</td>\n",
       "      <td>NaN</td>\n",
       "      <td>NaN</td>\n",
       "      <td>NaN</td>\n",
       "    </tr>\n",
       "    <tr>\n",
       "      <th>3</th>\n",
       "      <td>TEAM-LEE</td>\n",
       "      <td>ASAP_team_name</td>\n",
       "      <td>ASAP Team e.g. \"Scherzer\"</td>\n",
       "      <td>Enum</td>\n",
       "      <td>[\"TEAM-LEE\",\"TEAM-HAFLER\",\"TEAM-HARDY\",....]</td>\n",
       "      <td>NaN</td>\n",
       "      <td>Required</td>\n",
       "      <td>NaN</td>\n",
       "      <td>NaN</td>\n",
       "      <td>NaN</td>\n",
       "    </tr>\n",
       "    <tr>\n",
       "      <th>4</th>\n",
       "      <td>Bras</td>\n",
       "      <td>ASAP_lab_name</td>\n",
       "      <td>ASAP Lab under the above team e.g. \"Dong\"</td>\n",
       "      <td>String</td>\n",
       "      <td>NaN</td>\n",
       "      <td>NaN</td>\n",
       "      <td>Required</td>\n",
       "      <td>NaN</td>\n",
       "      <td>NaN</td>\n",
       "      <td>NaN</td>\n",
       "    </tr>\n",
       "  </tbody>\n",
       "</table>\n",
       "</div>"
      ],
      "text/plain": [
       "                                          Unnamed: 0           Unnamed: 1  \\\n",
       "0  Is senescence a component of human PD and does...         project_name   \n",
       "1    Human snRNA-seq PD Senesence Jose Bras Team Lee      project_dataset   \n",
       "2  Characterize the neuropathological progression...  project_description   \n",
       "3                                           TEAM-LEE       ASAP_team_name   \n",
       "4                                               Bras        ASAP_lab_name   \n",
       "\n",
       "                                          Unnamed: 2 Team-Lee-Bras-Lab-Info  \\\n",
       "0                                 Project Name/Title                 String   \n",
       "1                                       Dataset name                 String   \n",
       "2  Brief description of the goals and objectives ...                 String   \n",
       "3                          ASAP Team e.g. \"Scherzer\"                   Enum   \n",
       "4          ASAP Lab under the above team e.g. \"Dong\"                 String   \n",
       "\n",
       "                                          Field  \\\n",
       "0                                           NaN   \n",
       "1                                           NaN   \n",
       "2                                           NaN   \n",
       "3  [\"TEAM-LEE\",\"TEAM-HAFLER\",\"TEAM-HARDY\",....]   \n",
       "4                                           NaN   \n",
       "\n",
       "                                         Description Data type  Validation  \\\n",
       "0                            Unique and clear title.  Required         NaN   \n",
       "1  A Dataset name is required for each submission...  Required         NaN   \n",
       "2                                                NaN  Required         NaN   \n",
       "3                                                NaN  Required         NaN   \n",
       "4                                                NaN  Required         NaN   \n",
       "\n",
       "   Note  Required/Optional  \n",
       "0   NaN                NaN  \n",
       "1   NaN                NaN  \n",
       "2   NaN                NaN  \n",
       "3   NaN                NaN  \n",
       "4   NaN                NaN  "
      ]
     },
     "execution_count": 97,
     "metadata": {},
     "output_type": "execute_result"
    }
   ],
   "source": [
    "STUDY = pd.read_csv(metadata_path / \"STUDY.tsv\",delimiter=\"\\t\")\n",
    "STUDY.to_csv(data_path / \"STUDY_.csv\")\n",
    "STUDY = pd.read_csv(data_path / \"STUDY_.csv\")\n",
    "STUDY.head()\n"
   ]
  },
  {
   "cell_type": "code",
   "execution_count": 98,
   "metadata": {},
   "outputs": [
    {
     "data": {
      "text/html": [
       "<div>\n",
       "<style scoped>\n",
       "    .dataframe tbody tr th:only-of-type {\n",
       "        vertical-align: middle;\n",
       "    }\n",
       "\n",
       "    .dataframe tbody tr th {\n",
       "        vertical-align: top;\n",
       "    }\n",
       "\n",
       "    .dataframe thead th {\n",
       "        text-align: right;\n",
       "    }\n",
       "</style>\n",
       "<table border=\"1\" class=\"dataframe\">\n",
       "  <thead>\n",
       "    <tr style=\"text-align: right;\">\n",
       "      <th></th>\n",
       "      <th>project_name</th>\n",
       "      <th>project_dataset</th>\n",
       "      <th>project_description</th>\n",
       "      <th>ASAP_team_name</th>\n",
       "      <th>ASAP_lab_name</th>\n",
       "      <th>PI_full_name</th>\n",
       "      <th>PI_email</th>\n",
       "      <th>submitter_id</th>\n",
       "      <th>submitter_name</th>\n",
       "      <th>submittor_email</th>\n",
       "      <th>...</th>\n",
       "      <th>other_funding_source</th>\n",
       "      <th>publication_DOI</th>\n",
       "      <th>publication_PMID</th>\n",
       "      <th>number_of_brain_samples</th>\n",
       "      <th>brain_regions</th>\n",
       "      <th>types_of_samples</th>\n",
       "      <th>PI_ORCHID</th>\n",
       "      <th>PI_google_scholar_id</th>\n",
       "      <th>DUA_version</th>\n",
       "      <th>metadata_version_date</th>\n",
       "    </tr>\n",
       "  </thead>\n",
       "  <tbody>\n",
       "    <tr>\n",
       "      <th>1</th>\n",
       "      <td>Is senescence a component of human PD and does...</td>\n",
       "      <td>Human snRNA-seq PD Senesence Jose Bras Team Lee</td>\n",
       "      <td>Characterize the neuropathological progression...</td>\n",
       "      <td>TEAM-LEE</td>\n",
       "      <td>Bras</td>\n",
       "      <td>Jose, Bras</td>\n",
       "      <td>jose.bras@vai.org</td>\n",
       "      <td>Lee, L, Marshall ; Kimberly, E, Paquette ; Kai...</td>\n",
       "      <td>Kaitlyn E Westra</td>\n",
       "      <td>kaitlyn.westra@vai.org</td>\n",
       "      <td>...</td>\n",
       "      <td>NaN</td>\n",
       "      <td>NaN</td>\n",
       "      <td>NaN</td>\n",
       "      <td>75</td>\n",
       "      <td>hippocampus; middle frontal gyrus; substantia ...</td>\n",
       "      <td>human PD and control postmortem brains</td>\n",
       "      <td>NaN</td>\n",
       "      <td>NaN</td>\n",
       "      <td>unsure</td>\n",
       "      <td>NaN</td>\n",
       "    </tr>\n",
       "  </tbody>\n",
       "</table>\n",
       "<p>1 rows × 21 columns</p>\n",
       "</div>"
      ],
      "text/plain": [
       "0                                       project_name  \\\n",
       "1  Is senescence a component of human PD and does...   \n",
       "\n",
       "0                                  project_dataset  \\\n",
       "1  Human snRNA-seq PD Senesence Jose Bras Team Lee   \n",
       "\n",
       "0                                project_description ASAP_team_name  \\\n",
       "1  Characterize the neuropathological progression...       TEAM-LEE   \n",
       "\n",
       "0 ASAP_lab_name PI_full_name           PI_email  \\\n",
       "1          Bras   Jose, Bras  jose.bras@vai.org   \n",
       "\n",
       "0                                       submitter_id    submitter_name  \\\n",
       "1  Lee, L, Marshall ; Kimberly, E, Paquette ; Kai...  Kaitlyn E Westra   \n",
       "\n",
       "0         submittor_email  ... other_funding_source publication_DOI  \\\n",
       "1  kaitlyn.westra@vai.org  ...                  NaN             NaN   \n",
       "\n",
       "0 publication_PMID number_of_brain_samples  \\\n",
       "1              NaN                      75   \n",
       "\n",
       "0                                      brain_regions  \\\n",
       "1  hippocampus; middle frontal gyrus; substantia ...   \n",
       "\n",
       "0                        types_of_samples PI_ORCHID PI_google_scholar_id  \\\n",
       "1  human PD and control postmortem brains       NaN                  NaN   \n",
       "\n",
       "0 DUA_version metadata_version_date  \n",
       "1      unsure                   NaN  \n",
       "\n",
       "[1 rows x 21 columns]"
      ]
     },
     "execution_count": 98,
     "metadata": {},
     "output_type": "execute_result"
    }
   ],
   "source": [
    "\n",
    "# fix STUDY formatting\n",
    "tmp = pd.DataFrame()\n",
    "tmp = STUDY[[\"Unnamed: 1\",\"Unnamed: 0\"]].transpose().reset_index().drop(columns=[\"index\"])\n",
    "tmp.columns = tmp.iloc[0]\n",
    "STUDY = tmp.drop([0])\n",
    "# STUDY[[\"Unnamed: 1\"]].transpose().reset_index().drop(columns=[\"index\"]), tmp\n",
    "STUDY.head()"
   ]
  },
  {
   "cell_type": "code",
   "execution_count": 99,
   "metadata": {},
   "outputs": [
    {
     "name": "stdout",
     "output_type": "stream",
     "text": [
      "🚨⚠️❗ **Missing Required Fields in STUDY: submitter_email**\n",
      "No empty entries (Nan) found in _Required_ fields.\n",
      "No empty entries (Nan) found in _Optional_ fields.\n",
      "## Enum fields have valid values in STUDY. 🥳\n",
      "\n"
     ]
    }
   ],
   "source": [
    "metadata_version_date = \"v1, SEPT2023\"\n",
    "STUDY[\"metadata_version_date\"] = METADATA_VERSION_DATE\n",
    "# Testing the function with STUDY.csv and CDE.csv\n",
    "STUDY.replace(\"Nan\", \"\", inplace=True)\n",
    "\n",
    "# Need to rename submitter_id to contributor_names\n",
    "STUDY = STUDY.rename(columns={\"submitter_id\": \"contributor_names\"})\n",
    "\n",
    "report = ReportCollector(destination=\"\")\n",
    "\n",
    "validate_table(STUDY, \"STUDY\", CDE_df, report)\n",
    "\n",
    "report.print_log()\n"
   ]
  },
  {
   "cell_type": "markdown",
   "metadata": {},
   "source": [
    "Collect additional metadata from covar.csv .. i.e. batch"
   ]
  },
  {
   "cell_type": "code",
   "execution_count": 100,
   "metadata": {},
   "outputs": [],
   "source": [
    "\n",
    "metadata_path = Path.home() / (\"Projects/ASAP/team-lee/metadata\")\n",
    "HIP_covar = pd.read_csv(f\"{metadata_path}/HIP/covar.csv\")\n",
    "HIP_cases = pd.read_csv(f\"{metadata_path}/HIP/PD_ASAP_Sample_batch_information_banner_cases.csv\").dropna(axis=0,how='all')\n",
    "HIP_control = pd.read_csv(f\"{metadata_path}/HIP/PD_ASAP_Sample_batch_information_banner_controls.csv\")\n",
    "\n",
    "MFG_covar = pd.read_csv(f\"{metadata_path}/MFG/covar.csv\") # includes 'PMI' ?\n",
    "MFG_cases = pd.read_csv(f\"{metadata_path}/MFG/PD_ASAP_Sample_batch_information_banner_cases.csv\").dropna(axis=0,how='all')\n",
    "MFG_control = pd.read_csv(f\"{metadata_path}/MFG/PD_ASAP_Sample_batch_information_banner_controls.csv\")\n",
    "\n",
    "\n",
    "SN_covar = pd.read_csv(f\"{metadata_path}/SN/covar.csv\")\n",
    "SN_cases = pd.read_csv(f\"{metadata_path}/SN/PD_ASAP_Sample_batch_information_banner_cases.csv\").dropna(axis=0,how='all')\n",
    "SN_control = pd.read_csv(f\"{metadata_path}/SN/PD_ASAP_Sample_batch_information_banner_controls.csv\")"
   ]
  },
  {
   "cell_type": "code",
   "execution_count": 101,
   "metadata": {},
   "outputs": [],
   "source": [
    "# Hippocampus samples\n",
    "# HIP_cases[\"GROUPcv\"]=\"PD\"\n",
    "# HIP_control[\"GROUPcv\"]=\"HC\"\n",
    "\n",
    "HIP_meta = pd.concat([HIP_cases, HIP_control], axis=0, ignore_index=True)\n",
    "HIP_meta[\"GROUPcv\"]= HIP_meta[\"PD\"].apply(lambda x: \"PD\" if (x==\"yes\") else \"HC\")\n"
   ]
  },
  {
   "cell_type": "code",
   "execution_count": 102,
   "metadata": {},
   "outputs": [],
   "source": [
    "\n",
    "\n",
    "HIP_meta['MERGE_ID'] = \"HIP_\" + HIP_meta['GROUPcv'] +\"_\" + HIP_meta['CaseID'].str.replace('-','')\n",
    "HIP_covar['MERGE_ID'] = HIP_covar['COUNT_ID']\n",
    "# the fastqs follow COUNT_ID insteald of SEQ_ID naming convention\n",
    "HIP_covar['SEQ_ID'] = HIP_covar['COUNT_ID']\n",
    "\n"
   ]
  },
  {
   "cell_type": "code",
   "execution_count": 103,
   "metadata": {},
   "outputs": [],
   "source": [
    "# there's a bug in the meta table... skip for now\n",
    "HIP_TABLE = pd.merge(HIP_covar, HIP_meta, on='MERGE_ID', how='outer')\n",
    "\n",
    "# HIP_TABLE = HIP_covar\n",
    "HIP_TABLE['subdir']=\"HIP\"\n"
   ]
  },
  {
   "cell_type": "code",
   "execution_count": 104,
   "metadata": {},
   "outputs": [],
   "source": [
    "test = HIP_TABLE[[\"MERGE_ID\",\"SEQ_ID\",\"GROUPcv\",\"subdir\",'PD']]"
   ]
  },
  {
   "cell_type": "code",
   "execution_count": 105,
   "metadata": {},
   "outputs": [],
   "source": [
    "### medial frontal gyrus samples\n",
    "MFG_meta = pd.concat([MFG_cases, MFG_control], axis=0, ignore_index=True)\n",
    "MFG_meta[\"GROUPcv\"]= MFG_meta[\"PD\"].apply(lambda x: \"PD\" if (x==\"yes\") else \"HC\")\n",
    "\n",
    "# make a MERGE_ID column because the formatting is inconsistent\n",
    "MFG_meta['MERGE_ID'] = \"MFG_\" + MFG_meta['GROUPcv'] +\"_\" + MFG_meta['CaseID'].str.replace('-','')\n",
    "MFG_covar['MERGE_ID'] = MFG_covar['SAMPLE']\n",
    "# the fastqs are in SEQ_ID \n",
    "\n",
    "# there's a bug in the meta table... skip for now\n",
    "MFG_TABLE = pd.merge(MFG_covar, MFG_meta, on='MERGE_ID', how='inner')\n",
    "MFG_TABLE['subdir']=\"MFG\"\n",
    "\n",
    "\n",
    "\n",
    "# Substantia Nigra\n",
    "SN_meta = pd.concat([SN_cases, SN_control], axis=0, ignore_index=True)\n",
    "SN_meta[\"GROUPcv\"] = SN_meta[\"PD\"].apply(lambda x: \"PD\" if (x==\"yes\") else \"HC\")\n",
    "\n",
    "SN_meta['MERGE_ID'] = \"SN_\" + MFG_meta['GROUPcv'] +\"_\" + MFG_meta['CaseID'].str.replace('-','')\n",
    "SN_covar['MERGE_ID'] = SN_covar['SAMPLE']\n",
    "\n",
    "# there's a bug in the meta table... skip for now\n",
    "SN_TABLE = pd.merge(SN_covar, SN_meta, on='MERGE_ID', how='outer')\n",
    "SN_TABLE['subdir']=\"SN\"\n",
    "\n",
    "\n",
    "### concatenate SN, MSG, and HIP tables into one 'all_samples' table\n",
    "all_samples = pd.concat([HIP_TABLE, MFG_TABLE, SN_TABLE], axis=0, ignore_index=True)\n"
   ]
  },
  {
   "cell_type": "code",
   "execution_count": 106,
   "metadata": {},
   "outputs": [],
   "source": [
    "\n",
    "SAMPLE_ALL = SAMPLE.merge(all_samples, left_on='sample_id', right_on='MERGE_ID', how='left')\n",
    "SAMPLE_ALL.to_csv(\"alternate_metadata.csv\")"
   ]
  },
  {
   "cell_type": "code",
   "execution_count": 107,
   "metadata": {},
   "outputs": [],
   "source": [
    "SAMPLE_og = SAMPLE.copy()\n",
    "SAMPLE['batch'] = SAMPLE_ALL['BATCH']"
   ]
  },
  {
   "cell_type": "code",
   "execution_count": 108,
   "metadata": {},
   "outputs": [],
   "source": [
    "# Extract the fields with DataType as \"Enum\" or \"String\" for the \"sample\" table from CDE.csv\n",
    "SAMPLE = prep_table(SAMPLE, CDE_df)\n",
    "# for field in string_enum_fields:\n",
    "#     if field in SAMPLE.columns:\n",
    "#         SAMPLE[field] = SAMPLE[field].astype(str)\n"
   ]
  },
  {
   "cell_type": "code",
   "execution_count": 109,
   "metadata": {},
   "outputs": [
    {
     "name": "stdout",
     "output_type": "stream",
     "text": [
      "All required fields are present in *PROTOCOL* table.\n",
      "No empty entries (Nan) found in _Required_ fields.\n",
      "No empty entries (Nan) found in _Optional_ fields.\n",
      "## Enum fields have valid values in PROTOCOL. 🥳\n",
      "\n"
     ]
    }
   ],
   "source": [
    "# Testing the function with PROTOCOL.csv and CDE.csv\n",
    "\n",
    "report = ReportCollector(destination=\"\")\n",
    "validate_table(PROTOCOL, \"PROTOCOL\", CDE_df, report)\n",
    "report.print_log()"
   ]
  },
  {
   "cell_type": "code",
   "execution_count": 110,
   "metadata": {},
   "outputs": [
    {
     "name": "stdout",
     "output_type": "stream",
     "text": [
      "All required fields are present in *SUBJECT* table.\n",
      "No empty entries (Nan) found in _Required_ fields.\n",
      "🚨⚠️❗ **Optional Fields with Empty (nan) values:**\n",
      "\n",
      "\t- primary_diagnosis_text: 23/25 empty rows\n",
      "## Enum fields have valid values in SUBJECT. 🥳\n",
      "\n"
     ]
    }
   ],
   "source": [
    "# Extract the fields with DataType as \"Enum\" or \"String\" for the \"sample\" table from CDE.csv\n",
    "SUBJECT.replace(\"Nan\", \"\", inplace=True)\n",
    "\n",
    "\n",
    "SUBJECT = prep_table(SUBJECT, CDE_df)\n",
    "\n",
    "\n",
    "report = ReportCollector(destination=\"logs\")\n",
    "validate_table(SUBJECT, \"SUBJECT\", CDE_df, report)\n",
    "report.print_log()"
   ]
  },
  {
   "cell_type": "code",
   "execution_count": 111,
   "metadata": {},
   "outputs": [
    {
     "data": {
      "text/html": [
       "<div>\n",
       "<style scoped>\n",
       "    .dataframe tbody tr th:only-of-type {\n",
       "        vertical-align: middle;\n",
       "    }\n",
       "\n",
       "    .dataframe tbody tr th {\n",
       "        vertical-align: top;\n",
       "    }\n",
       "\n",
       "    .dataframe thead th {\n",
       "        text-align: right;\n",
       "    }\n",
       "</style>\n",
       "<table border=\"1\" class=\"dataframe\">\n",
       "  <thead>\n",
       "    <tr style=\"text-align: right;\">\n",
       "      <th></th>\n",
       "      <th>subject_id</th>\n",
       "      <th>source_subject_id</th>\n",
       "      <th>biobank_name</th>\n",
       "      <th>organism</th>\n",
       "      <th>sex</th>\n",
       "      <th>age_at_collection</th>\n",
       "      <th>race</th>\n",
       "      <th>ethnicity</th>\n",
       "      <th>duration_pmi</th>\n",
       "      <th>primary_diagnosis</th>\n",
       "      <th>primary_diagnosis_text</th>\n",
       "    </tr>\n",
       "  </thead>\n",
       "  <tbody>\n",
       "    <tr>\n",
       "      <th>0</th>\n",
       "      <td>HC_1225</td>\n",
       "      <td>12-25</td>\n",
       "      <td>Banner Sun Health Research Institute</td>\n",
       "      <td>Human</td>\n",
       "      <td>Male</td>\n",
       "      <td>80</td>\n",
       "      <td>White</td>\n",
       "      <td>Not Reported</td>\n",
       "      <td>3.50</td>\n",
       "      <td>No PD nor other neurological disorder</td>\n",
       "      <td>NaN</td>\n",
       "    </tr>\n",
       "    <tr>\n",
       "      <th>1</th>\n",
       "      <td>HC_0602</td>\n",
       "      <td>06-02</td>\n",
       "      <td>Banner Sun Health Research Institute</td>\n",
       "      <td>Human</td>\n",
       "      <td>Male</td>\n",
       "      <td>84</td>\n",
       "      <td>White</td>\n",
       "      <td>Not Reported</td>\n",
       "      <td>2.66</td>\n",
       "      <td>Other neurological disorder</td>\n",
       "      <td>Mild Cognitive Impairment</td>\n",
       "    </tr>\n",
       "    <tr>\n",
       "      <th>2</th>\n",
       "      <td>PD_0009</td>\n",
       "      <td>00-09</td>\n",
       "      <td>Banner Sun Health Research Institute</td>\n",
       "      <td>Human</td>\n",
       "      <td>Male</td>\n",
       "      <td>64</td>\n",
       "      <td>White</td>\n",
       "      <td>Not Reported</td>\n",
       "      <td>4.00</td>\n",
       "      <td>Idiopathic PD</td>\n",
       "      <td>NaN</td>\n",
       "    </tr>\n",
       "    <tr>\n",
       "      <th>3</th>\n",
       "      <td>PD_1921</td>\n",
       "      <td>19-21</td>\n",
       "      <td>Banner Sun Health Research Institute</td>\n",
       "      <td>Human</td>\n",
       "      <td>Male</td>\n",
       "      <td>82</td>\n",
       "      <td>White</td>\n",
       "      <td>Not Reported</td>\n",
       "      <td>3.93</td>\n",
       "      <td>Idiopathic PD</td>\n",
       "      <td>NaN</td>\n",
       "    </tr>\n",
       "    <tr>\n",
       "      <th>4</th>\n",
       "      <td>PD_2058</td>\n",
       "      <td>20-58</td>\n",
       "      <td>Banner Sun Health Research Institute</td>\n",
       "      <td>Human</td>\n",
       "      <td>Male</td>\n",
       "      <td>87</td>\n",
       "      <td>White</td>\n",
       "      <td>Not Reported</td>\n",
       "      <td>3.17</td>\n",
       "      <td>Idiopathic PD</td>\n",
       "      <td>NaN</td>\n",
       "    </tr>\n",
       "  </tbody>\n",
       "</table>\n",
       "</div>"
      ],
      "text/plain": [
       "  subject_id source_subject_id                          biobank_name organism  \\\n",
       "0    HC_1225             12-25  Banner Sun Health Research Institute    Human   \n",
       "1    HC_0602             06-02  Banner Sun Health Research Institute    Human   \n",
       "2    PD_0009             00-09  Banner Sun Health Research Institute    Human   \n",
       "3    PD_1921             19-21  Banner Sun Health Research Institute    Human   \n",
       "4    PD_2058             20-58  Banner Sun Health Research Institute    Human   \n",
       "\n",
       "    sex  age_at_collection   race     ethnicity  duration_pmi  \\\n",
       "0  Male                 80  White  Not Reported          3.50   \n",
       "1  Male                 84  White  Not Reported          2.66   \n",
       "2  Male                 64  White  Not Reported          4.00   \n",
       "3  Male                 82  White  Not Reported          3.93   \n",
       "4  Male                 87  White  Not Reported          3.17   \n",
       "\n",
       "                       primary_diagnosis     primary_diagnosis_text  \n",
       "0  No PD nor other neurological disorder                        NaN  \n",
       "1            Other neurological disorder  Mild Cognitive Impairment  \n",
       "2                          Idiopathic PD                        NaN  \n",
       "3                          Idiopathic PD                        NaN  \n",
       "4                          Idiopathic PD                        NaN  "
      ]
     },
     "execution_count": 111,
     "metadata": {},
     "output_type": "execute_result"
    }
   ],
   "source": [
    "SUBJECT.head()"
   ]
  },
  {
   "cell_type": "code",
   "execution_count": 112,
   "metadata": {},
   "outputs": [],
   "source": [
    "SAMPLE.replace(\"Nan\", \"\", inplace=True)\n",
    "\n",
    "SAMPLE = prep_table(SAMPLE, CDE_df)\n"
   ]
  },
  {
   "cell_type": "code",
   "execution_count": 113,
   "metadata": {},
   "outputs": [],
   "source": [
    "SAMPLE['file_type'] = SAMPLE['file_type'].replace({\"Fastq\":\"fastq\"})\n"
   ]
  },
  {
   "cell_type": "code",
   "execution_count": 114,
   "metadata": {},
   "outputs": [],
   "source": [
    "# fix file_name and file_MD5 which need to be exploded (do this last for simplicity. i.e. to keep one sample per row rather than one file per row)\n",
    "\n",
    "# Step 1: Split the values in the columns based on commas\n",
    "SAMPLE['file_name'] = SAMPLE['file_name'].str.split(',')\n",
    "SAMPLE['file_MD5(R1,R2)'] = SAMPLE['file_MD5(R1,R2)'].str.split(',')\n",
    "\n",
    "# Step 2: Explode both 'file_name' and 'file_MD5(R1,R2)' columns together\n",
    "SAMPLE = SAMPLE.explode(['file_name', 'file_MD5(R1,R2)'])\n",
    "\n",
    "# Step 3: Rename the \"file_MD5(R1,R2)\" column to \"file_MD5\"\n",
    "SAMPLE = SAMPLE.rename(columns={\"file_MD5(R1,R2)\": \"file_MD5\"})\n",
    "\n"
   ]
  },
  {
   "cell_type": "code",
   "execution_count": 115,
   "metadata": {},
   "outputs": [
    {
     "name": "stdout",
     "output_type": "stream",
     "text": [
      "All required fields are present in *SAMPLE* table.\n",
      "🚨⚠️❗ **Required Fields with Empty (nan) values:**\n",
      "\n",
      "\t- source_RIN: 150/150 empty rows\n",
      "\n",
      "\t- RIN: 150/150 empty rows\n",
      "🚨⚠️❗ **Optional Fields with Empty (nan) values:**\n",
      "\n",
      "\t- pm_PH: 150/150 empty rows\n",
      "## Enum fields have valid values in SAMPLE. 🥳\n",
      "\n"
     ]
    }
   ],
   "source": [
    "\n",
    "\n",
    "report = ReportCollector(destination=\"\")\n",
    "validate_table(SAMPLE, \"SAMPLE\", CDE_df, report)\n",
    "report.print_log()\n"
   ]
  },
  {
   "cell_type": "code",
   "execution_count": 116,
   "metadata": {},
   "outputs": [],
   "source": [
    "# fix subject id in SAMPLE\n",
    "\n",
    "samp_id_mapper = dict(zip(SUBJECT['source_subject_id'], SUBJECT['subject_id']))\n",
    "SAMPLE['subject_id'] = SAMPLE['subject_id'].map(samp_id_mapper)"
   ]
  },
  {
   "cell_type": "code",
   "execution_count": 117,
   "metadata": {},
   "outputs": [
    {
     "data": {
      "text/html": [
       "<div>\n",
       "<style scoped>\n",
       "    .dataframe tbody tr th:only-of-type {\n",
       "        vertical-align: middle;\n",
       "    }\n",
       "\n",
       "    .dataframe tbody tr th {\n",
       "        vertical-align: top;\n",
       "    }\n",
       "\n",
       "    .dataframe thead th {\n",
       "        text-align: right;\n",
       "    }\n",
       "</style>\n",
       "<table border=\"1\" class=\"dataframe\">\n",
       "  <thead>\n",
       "    <tr style=\"text-align: right;\">\n",
       "      <th></th>\n",
       "      <th>sample_id</th>\n",
       "      <th>source_sample_id</th>\n",
       "      <th>subject_id</th>\n",
       "      <th>replicate</th>\n",
       "      <th>replicate_count</th>\n",
       "      <th>repeated_sample</th>\n",
       "      <th>tissue</th>\n",
       "      <th>brain_region</th>\n",
       "      <th>source_RIN</th>\n",
       "      <th>RIN</th>\n",
       "      <th>...</th>\n",
       "      <th>self_reported_ethnicity_ontology_term_id</th>\n",
       "      <th>disease_ontology_term_id</th>\n",
       "      <th>tissue_ontology_term_id</th>\n",
       "      <th>cell_type_ontology_term_id</th>\n",
       "      <th>assay_ontology_term_id</th>\n",
       "      <th>suspension_type</th>\n",
       "      <th>DV2000</th>\n",
       "      <th>pm_PH</th>\n",
       "      <th>donor_id</th>\n",
       "      <th>batch</th>\n",
       "    </tr>\n",
       "  </thead>\n",
       "  <tbody>\n",
       "    <tr>\n",
       "      <th>0</th>\n",
       "      <td>MFG_HC_1225</td>\n",
       "      <td>12-25</td>\n",
       "      <td>HC_1225</td>\n",
       "      <td>rep1</td>\n",
       "      <td>1</td>\n",
       "      <td>0</td>\n",
       "      <td>Brain</td>\n",
       "      <td>Middle_Frontal_Gyrus</td>\n",
       "      <td>NaN</td>\n",
       "      <td>NaN</td>\n",
       "      <td>...</td>\n",
       "      <td>Unknown</td>\n",
       "      <td>PATO:0000461</td>\n",
       "      <td>UBERON:0002702</td>\n",
       "      <td>NA(multiple)</td>\n",
       "      <td>EFO:0030004</td>\n",
       "      <td>nucleus</td>\n",
       "      <td>NaN</td>\n",
       "      <td>NaN</td>\n",
       "      <td></td>\n",
       "      <td>BATCH_4</td>\n",
       "    </tr>\n",
       "    <tr>\n",
       "      <th>0</th>\n",
       "      <td>MFG_HC_1225</td>\n",
       "      <td>12-25</td>\n",
       "      <td>HC_1225</td>\n",
       "      <td>rep1</td>\n",
       "      <td>1</td>\n",
       "      <td>0</td>\n",
       "      <td>Brain</td>\n",
       "      <td>Middle_Frontal_Gyrus</td>\n",
       "      <td>NaN</td>\n",
       "      <td>NaN</td>\n",
       "      <td>...</td>\n",
       "      <td>Unknown</td>\n",
       "      <td>PATO:0000461</td>\n",
       "      <td>UBERON:0002702</td>\n",
       "      <td>NA(multiple)</td>\n",
       "      <td>EFO:0030004</td>\n",
       "      <td>nucleus</td>\n",
       "      <td>NaN</td>\n",
       "      <td>NaN</td>\n",
       "      <td></td>\n",
       "      <td>BATCH_4</td>\n",
       "    </tr>\n",
       "    <tr>\n",
       "      <th>1</th>\n",
       "      <td>MFG_HC_0602</td>\n",
       "      <td>06-02</td>\n",
       "      <td>HC_0602</td>\n",
       "      <td>rep1</td>\n",
       "      <td>1</td>\n",
       "      <td>0</td>\n",
       "      <td>Brain</td>\n",
       "      <td>Middle_Frontal_Gyrus</td>\n",
       "      <td>NaN</td>\n",
       "      <td>NaN</td>\n",
       "      <td>...</td>\n",
       "      <td>Unknown</td>\n",
       "      <td>PATO:0000461</td>\n",
       "      <td>UBERON:0002702</td>\n",
       "      <td>NA(multiple)</td>\n",
       "      <td>EFO:0030004</td>\n",
       "      <td>nucleus</td>\n",
       "      <td>NaN</td>\n",
       "      <td>NaN</td>\n",
       "      <td></td>\n",
       "      <td>BATCH_4</td>\n",
       "    </tr>\n",
       "    <tr>\n",
       "      <th>1</th>\n",
       "      <td>MFG_HC_0602</td>\n",
       "      <td>06-02</td>\n",
       "      <td>HC_0602</td>\n",
       "      <td>rep1</td>\n",
       "      <td>1</td>\n",
       "      <td>0</td>\n",
       "      <td>Brain</td>\n",
       "      <td>Middle_Frontal_Gyrus</td>\n",
       "      <td>NaN</td>\n",
       "      <td>NaN</td>\n",
       "      <td>...</td>\n",
       "      <td>Unknown</td>\n",
       "      <td>PATO:0000461</td>\n",
       "      <td>UBERON:0002702</td>\n",
       "      <td>NA(multiple)</td>\n",
       "      <td>EFO:0030004</td>\n",
       "      <td>nucleus</td>\n",
       "      <td>NaN</td>\n",
       "      <td>NaN</td>\n",
       "      <td></td>\n",
       "      <td>BATCH_4</td>\n",
       "    </tr>\n",
       "    <tr>\n",
       "      <th>2</th>\n",
       "      <td>MFG_PD_0009</td>\n",
       "      <td>00-09</td>\n",
       "      <td>PD_0009</td>\n",
       "      <td>rep1</td>\n",
       "      <td>1</td>\n",
       "      <td>0</td>\n",
       "      <td>Brain</td>\n",
       "      <td>Middle_Frontal_Gyrus</td>\n",
       "      <td>NaN</td>\n",
       "      <td>NaN</td>\n",
       "      <td>...</td>\n",
       "      <td>Unknown</td>\n",
       "      <td>MONDO:0005180</td>\n",
       "      <td>UBERON:0002702</td>\n",
       "      <td>NA(multiple)</td>\n",
       "      <td>EFO:0030004</td>\n",
       "      <td>nucleus</td>\n",
       "      <td>NaN</td>\n",
       "      <td>NaN</td>\n",
       "      <td></td>\n",
       "      <td>BATCH_4</td>\n",
       "    </tr>\n",
       "  </tbody>\n",
       "</table>\n",
       "<p>5 rows × 42 columns</p>\n",
       "</div>"
      ],
      "text/plain": [
       "     sample_id source_sample_id subject_id replicate  replicate_count  \\\n",
       "0  MFG_HC_1225            12-25    HC_1225      rep1                1   \n",
       "0  MFG_HC_1225            12-25    HC_1225      rep1                1   \n",
       "1  MFG_HC_0602            06-02    HC_0602      rep1                1   \n",
       "1  MFG_HC_0602            06-02    HC_0602      rep1                1   \n",
       "2  MFG_PD_0009            00-09    PD_0009      rep1                1   \n",
       "\n",
       "   repeated_sample tissue          brain_region  source_RIN  RIN  ...  \\\n",
       "0                0  Brain  Middle_Frontal_Gyrus         NaN  NaN  ...   \n",
       "0                0  Brain  Middle_Frontal_Gyrus         NaN  NaN  ...   \n",
       "1                0  Brain  Middle_Frontal_Gyrus         NaN  NaN  ...   \n",
       "1                0  Brain  Middle_Frontal_Gyrus         NaN  NaN  ...   \n",
       "2                0  Brain  Middle_Frontal_Gyrus         NaN  NaN  ...   \n",
       "\n",
       "  self_reported_ethnicity_ontology_term_id  disease_ontology_term_id  \\\n",
       "0                                  Unknown              PATO:0000461   \n",
       "0                                  Unknown              PATO:0000461   \n",
       "1                                  Unknown              PATO:0000461   \n",
       "1                                  Unknown              PATO:0000461   \n",
       "2                                  Unknown             MONDO:0005180   \n",
       "\n",
       "  tissue_ontology_term_id cell_type_ontology_term_id assay_ontology_term_id  \\\n",
       "0          UBERON:0002702               NA(multiple)            EFO:0030004   \n",
       "0          UBERON:0002702               NA(multiple)            EFO:0030004   \n",
       "1          UBERON:0002702               NA(multiple)            EFO:0030004   \n",
       "1          UBERON:0002702               NA(multiple)            EFO:0030004   \n",
       "2          UBERON:0002702               NA(multiple)            EFO:0030004   \n",
       "\n",
       "  suspension_type DV2000 pm_PH donor_id    batch  \n",
       "0         nucleus    NaN   NaN           BATCH_4  \n",
       "0         nucleus    NaN   NaN           BATCH_4  \n",
       "1         nucleus    NaN   NaN           BATCH_4  \n",
       "1         nucleus    NaN   NaN           BATCH_4  \n",
       "2         nucleus    NaN   NaN           BATCH_4  \n",
       "\n",
       "[5 rows x 42 columns]"
      ]
     },
     "execution_count": 117,
     "metadata": {},
     "output_type": "execute_result"
    }
   ],
   "source": [
    "SAMPLE.head()"
   ]
  },
  {
   "cell_type": "code",
   "execution_count": 118,
   "metadata": {},
   "outputs": [
    {
     "data": {
      "text/plain": [
       "['MFGHC1225_S9_L001_R1_001.fastq.gz',\n",
       " 'MFGHC1225_S9_L001_R2_001.fastq.gz',\n",
       " 'MFGHC0602_S2_L001_R1_001.fastq.gz',\n",
       " 'MFGHC0602_S2_L001_R2_001.fastq.gz',\n",
       " 'MFGPD0009_S3_L001_R1_001.fastq.gz',\n",
       " 'MFGPD0009_S3_L001_R2_001.fastq.gz',\n",
       " 'MFGPD1921_S9_L001_R1_001.fastq.gz',\n",
       " 'MFGPD1921_S9_L001_R2_001.fastq.gz',\n",
       " 'MFGPD2058_S5_L001_R1_001.fastq.gz',\n",
       " 'MFGPD2058_S5_L001_R2_001.fastq.gz',\n",
       " 'MFGPD1441_S9_L001_R1_001.fastq.gz',\n",
       " 'MFGPD1441_S9_L001_R2_001.fastq.gz',\n",
       " 'MFGPD1344_S7_L001_R1_001.fastq.gz',\n",
       " 'MFGPD1344_S7_L001_R2_001.fastq.gz',\n",
       " 'MFGHC1939_S15_L001_R1_001.fastq.gz',\n",
       " 'MFGHC1939_S15_L001_R2_001.fastq.gz',\n",
       " 'MFGHC1308_S8_L002_R1_001.fastq.gz',\n",
       " 'MFGHC1308_S8_L002_R2_001.fastq.gz',\n",
       " 'MFGHC1862_S5_L004_R1_001.fastq.gz',\n",
       " 'MFGHC1862_S5_L004_R2_001.fastq.gz',\n",
       " 'MFGHC1864_S1_L002_R1_001.fastq.gz',\n",
       " 'MFGHC1864_S1_L002_R2_001.fastq.gz',\n",
       " 'MFGHC2057_S7_L002_R1_001.fastq.gz',\n",
       " 'MFGHC2057_S7_L002_R2_001.fastq.gz',\n",
       " 'MFGHC2061_S7_L004_R1_001.fastq.gz',\n",
       " 'MFGHC2061_S7_L004_R2_001.fastq.gz',\n",
       " 'MFGHC2062_S2_L002_R1_001.fastq.gz',\n",
       " 'MFGHC2062_S2_L002_R2_001.fastq.gz',\n",
       " 'MFGHC2067_S6_L002_R1_001.fastq.gz',\n",
       " 'MFGHC2067_S6_L002_R2_001.fastq.gz',\n",
       " 'MFGPD0348_S10_L002_R1_001.fastq.gz',\n",
       " 'MFGPD0348_S10_L002_R2_001.fastq.gz',\n",
       " 'MFGPD0413_S3_L002_R1_001.fastq.gz',\n",
       " 'MFGPD0413_S3_L002_R2_001.fastq.gz',\n",
       " 'MFGPD1312_S9_L002_R1_001.fastq.gz',\n",
       " 'MFGPD1312_S9_L002_R2_001.fastq.gz',\n",
       " 'MFGPD1317_S5_L002_R1_001.fastq.gz',\n",
       " 'MFGPD1317_S5_L002_R2_001.fastq.gz',\n",
       " 'MFGPD1504_S9_L001_R1_001.fastq.gz',\n",
       " 'MFGPD1504_S9_L001_R2_001.fastq.gz',\n",
       " 'MFGPD1858_S4_L002_R1_001.fastq.gz',\n",
       " 'MFGPD1858_S4_L002_R2_001.fastq.gz',\n",
       " 'MFGPD1902_S1_L004_R1_001.fastq.gz',\n",
       " 'MFGPD1902_S1_L004_R2_001.fastq.gz',\n",
       " 'MFGPD1973_S2_L004_R1_001.fastq.gz',\n",
       " 'MFGPD1973_S2_L004_R2_001.fastq.gz',\n",
       " 'MFGPD2005_S9_L001_R1_001.fastq.gz',\n",
       " 'MFGPD2005_S9_L001_R2_001.fastq.gz',\n",
       " 'MFGPD2038_S4_L004_R1_001.fastq.gz',\n",
       " 'MFGPD2038_S4_L004_R2_001.fastq.gz',\n",
       " 'HIP_HC_1225_S0_L000_R1_001.fastq.gz',\n",
       " 'HIP_HC_1225_S0_L000_R2_001.fastq.gz',\n",
       " 'HIP_HC_0602_S0_L000_R1_001.fastq.gz',\n",
       " 'HIP_HC_0602_S0_L000_R2_001.fastq.gz',\n",
       " 'HIP_PD_0009_S0_L000_R1_001.fastq.gz',\n",
       " 'HIP_PD_0009_S0_L000_R2_001.fastq.gz',\n",
       " 'HIP_PD_1921_S11_L001_R1_001.fastq.gz',\n",
       " 'HIP_PD_1921_S11_L001_R2_001.fastq.gz',\n",
       " 'HIP_PD_2058_S0_L000_R1_001.fastq.gz',\n",
       " 'HIP_PD_2058_S0_L000_R2_001.fastq.gz',\n",
       " 'HIP_PD_1441_S14_L001_R1_001.fastq.gz',\n",
       " 'HIP_PD_1441_S14_L001_R2_001.fastq.gz',\n",
       " 'HIP_PD_1344_S0_L000_R1_001.fastq.gz',\n",
       " 'HIP_PD_1344_S0_L000_R2_001.fastq.gz',\n",
       " 'HIP_HC_1939_S6_L001_R1_001.fastq.gz',\n",
       " 'HIP_HC_1939_S6_L001_R2_001.fastq.gz',\n",
       " 'HIP_HC_1308_S0_L000_R1_001.fastq.gz',\n",
       " 'HIP_HC_1308_S0_L000_R2_001.fastq.gz',\n",
       " 'HIP_HC_1862_S9_L001_R1_001.fastq.gz',\n",
       " 'HIP_HC_1862_S9_L001_R2_001.fastq.gz',\n",
       " 'HIP_HC_1864_S8_L001_R1_001.fastq.gz',\n",
       " 'HIP_HC_1864_S8_L001_R2_001.fastq.gz',\n",
       " 'HIP_HC_2057_S0_L000_R1_001.fastq.gz',\n",
       " 'HIP_HC_2057_S0_L000_R2_001.fastq.gz',\n",
       " 'HIP_HC_2061_S0_L000_R1_001.fastq.gz',\n",
       " 'HIP_HC_2061_S0_L000_R2_001.fastq.gz',\n",
       " 'HIP_HC_2062_S0_L000_R1_001.fastq.gz',\n",
       " 'HIP_HC_2062_S0_L000_R2_001.fastq.gz',\n",
       " 'HIP_HC_2067_S9_L001_R1_001.fastq.gz',\n",
       " 'HIP_HC_2067_S9_L001_R2_001.fastq.gz',\n",
       " 'HIP_PD_0348_S0_L000_R1_001.fastq.gz',\n",
       " 'HIP_PD_0348_S0_L000_R2_001.fastq.gz',\n",
       " 'HIP_PD_0413_S7_L001_R1_001.fastq.gz',\n",
       " 'HIP_PD_0413_S7_L001_R2_001.fastq.gz',\n",
       " 'HIP_PD_1312_S9_L001_R1_001.fastq.gz',\n",
       " 'HIP_PD_1312_S9_L001_R2_001.fastq.gz',\n",
       " 'HIP_PD_1317_S0_L000_R1_001.fastq.gz',\n",
       " 'HIP_PD_1317_S0_L000_R2_001.fastq.gz',\n",
       " 'HIP_PD_1504_S9_L001_R1_001.fastq.gz',\n",
       " 'HIP_PD_1504_S9_L001_R2_001.fastq.gz',\n",
       " 'HIP_PD_1858_S10_L001_R1_001.fastq.gz',\n",
       " 'HIP_PD_1858_S10_L001_R2_001.fastq.gz',\n",
       " 'HIP_PD_1902_S12_L001_R1_001.fastq.gz',\n",
       " 'HIP_PD_1902_S12_L001_R2_001.fastq.gz',\n",
       " 'HIP_PD_1973_S13_L001_R1_001.fastq.gz',\n",
       " 'HIP_PD_1973_S13_L001_R2_001.fastq.gz',\n",
       " 'HIP_PD_2005_S0_L000_R1_001.fastq.gz',\n",
       " 'HIP_PD_2005_S0_L000_R2_001.fastq.gz',\n",
       " 'HIP_PD_2038_S0_L000_R1_001.fastq.gz',\n",
       " 'HIP_PD_2038_S0_L000_R2_001.fastq.gz',\n",
       " 'SN_1225_HC_S1_L000_R1_001.fastq.gz',\n",
       " 'SN_1225_HC_S1_L000_R2_001.fastq.gz',\n",
       " 'SN_0602_HC_S9_L001_R1_001.fastq.gz',\n",
       " 'SN_0602_HC_S9_L001_R2_001.fastq.gz',\n",
       " 'SN_0009_PD_S1_L000_R1_001.fastq.gz',\n",
       " 'SN_0009_PD_S1_L000_R2_001.fastq.gz',\n",
       " 'SN_1921_PD_S1_L000_R1_001.fastq.gz',\n",
       " 'SN_1921_PD_S1_L000_R2_001.fastq.gz',\n",
       " 'SN_2058_PD_S1_L000_R1_001.fastq.gz',\n",
       " 'SN_2058_PD_S1_L000_R2_001.fastq.gz',\n",
       " 'SN_1441_PD_S1_L000_R1_001.fastq.gz',\n",
       " 'SN_1441_PD_S1_L000_R2_001.fastq.gz',\n",
       " 'SN_1344_PD_S1_L000_R1_001.fastq.gz',\n",
       " 'SN_1344_PD_S1_L000_R2_001.fastq.gz',\n",
       " 'SN_1939_HC_S1_L000_R1_001.fastq.gz',\n",
       " 'SN_1939_HC_S1_L000_R2_001.fastq.gz',\n",
       " 'SN_1308_HC_S1_L001_R1_001.fastq.gz',\n",
       " 'SN_1308_HC_S1_L001_R2_001.fastq.gz',\n",
       " 'SN_1862_HC_S1_L000_R1_001.fastq.gz',\n",
       " 'SN_1862_HC_S1_L000_R2_001.fastq.gz',\n",
       " 'SN_1864_HC_S9_L001_R1_001.fastq.gz',\n",
       " 'SN_1864_HC_S9_L001_R2_001.fastq.gz',\n",
       " 'SN_2057_HC_S1_L000_R1_001.fastq.gz',\n",
       " 'SN_2057_HC_S1_L000_R2_001.fastq.gz',\n",
       " 'SN_2061_HC_S1_L000_R1_001.fastq.gz',\n",
       " 'SN_2061_HC_S1_L000_R2_001.fastq.gz',\n",
       " 'SN_2062_HC_S1_L000_R1_001.fastq.gz',\n",
       " 'SN_2062_HC_S1_L000_R2_001.fastq.gz',\n",
       " 'SN_2067_HC_S1_L000_R1_001.fastq.gz',\n",
       " 'SN_2067_HC_S1_L000_R2_001.fastq.gz',\n",
       " 'SN_0348_PD_S1_L000_R1_001.fastq.gz',\n",
       " 'SN_0348_PD_S1_L000_R2_001.fastq.gz',\n",
       " 'SN_0413_PD_S1_L000_R1_001.fastq.gz',\n",
       " 'SN_0413_PD_S1_L000_R2_001.fastq.gz',\n",
       " 'SN_1312_PD_S1_L000_R1_001.fastq.gz',\n",
       " 'SN_1312_PD_S1_L000_R2_001.fastq.gz',\n",
       " 'SN_1317_PD_S1_L000_R1_001.fastq.gz',\n",
       " 'SN_1317_PD_S1_L000_R2_001.fastq.gz',\n",
       " 'SN_1504_PD_S1_L000_R1_001.fastq.gz',\n",
       " 'SN_1504_PD_S1_L000_R2_001.fastq.gz',\n",
       " 'SN_1858_PD_S1_L000_R1_001.fastq.gz',\n",
       " 'SN_1858_PD_S1_L000_R2_001.fastq.gz',\n",
       " 'SN_1902_PD_S1_L001_R1_001.fastq.gz',\n",
       " 'SN_1902_PD_S1_L001_R2_001.fastq.gz',\n",
       " 'SN_1973_PD_S1_L000_R1_001.fastq.gz',\n",
       " 'SN_1973_PD_S1_L000_R2_001.fastq.gz',\n",
       " 'SN_2005_PD_S1_L001_R1_001.fastq.gz',\n",
       " 'SN_2005_PD_S1_L001_R2_001.fastq.gz',\n",
       " 'SN_2038_PD_S1_L000_R1_001.fastq.gz',\n",
       " 'SN_2038_PD_S1_L000_R2_001.fastq.gz']"
      ]
     },
     "execution_count": 118,
     "metadata": {},
     "output_type": "execute_result"
    }
   ],
   "source": [
    "\n",
    "SAMPLE['file_name'].replace({'HIP_PD_0348_S0_L000_R2_001.fastq.gzgz':'HIP_PD_0348_S0_L000_R2_001.fastq.gz',\n",
    "                              'HIP_HC_1939_S6_L001_R2_001.fastq.gzgz':  'HIP_HC_1939_S6_L001_R2_001.fastq.gz'},inplace=True)\n",
    "SAMPLE.file_name.to_list()\n"
   ]
  },
  {
   "cell_type": "code",
   "execution_count": 119,
   "metadata": {},
   "outputs": [
    {
     "name": "stdout",
     "output_type": "stream",
     "text": [
      "All required fields are present in *CLINPATH* table.\n",
      "🚨⚠️❗ **Required Fields with Empty (nan) values:**\n",
      "\n",
      "\t- age_at_onset: 75/75 empty rows\n",
      "\n",
      "\t- age_at_diagnosis: 75/75 empty rows\n",
      "\n",
      "\t- first_motor_symptom: 75/75 empty rows\n",
      "\n",
      "\t- path_year_death: 75/75 empty rows\n",
      "\n",
      "\t- brain_weight: 75/75 empty rows\n",
      "🚨⚠️❗ **Optional Fields with Empty (nan) values:**\n",
      "\n",
      "\t- smoking_years: 75/75 empty rows\n",
      "## Enums\n",
      "🚨⚠️❗ **Invalid entries**\n",
      "- _*region_level_2*_:  invalid values 💩'Hippocampus'\n",
      "    - valid ➡️ 'Superior frontal gyrus', 'Middle frontal gyrus', 'Inferior frontal gyrus', 'Superior temporal gyrus', 'Middle temporal gyrus', 'Inferior temporal gyrus', 'Fusiform gyrus', 'Transentorhinal region', 'Entorinal region', 'Subiculum', 'CA1-CA4', 'Amygdala', 'Periamygdala cortex', 'Anterior cingulate gyrus', 'Posterior cingulate gyrus', 'Superior parietal lobule', 'Inferior parietal lobule', 'Parastriate cortex', 'Peristriate cortex', 'Striate cortex', 'Insular cortex', 'Caudate nucleus', 'Putamen', 'Globus pallidus', 'Thalamus', 'Subthalamic nucleus', 'Substantia nigra', 'Pontine tegmentum', 'Pontine base', 'Medulla tegmentum', 'Medulla base', 'Cerebellar vermis', 'Cerebellar hemisphere', 'Dentate nucleus', 'Right colon', 'Left colon', 'Unknown'\n",
      "- _*path_braak_asyn*_:  invalid values 💩'L. Olfactory Bulb-Only', 'Lla. Brainstem Predominant', 'Llb. Limbic Predominant', 'LV. Neocortical', 'Lll. Brainstem/Limbic', '0. No Lewy bodies'\n",
      "    - valid ➡️ '0', '1', '2', '3', '4', '5', '6', '1/2', '3/4', '4/5', '5/6'\n",
      "- _*path_mckeith*_:  invalid values 💩'L. Olfactory Bulb-Only', 'Lla. Brainstem Predominant', 'Llb. Limbic Predominant', 'LV. Neocortical', 'Lll. Brainstem/Limbic', '0. No Lewy bodies'\n",
      "    - valid ➡️ 'Neocortical', 'Limbic (transitional)', 'Brainstem', 'Amygdala Predominant', 'Olfactory bulb only', 'Limbic, transitional (brainstem and limbic involvement)', 'Diffuse, neocortical (brainstem, limbic and neocortical involvement)', 'Olfactory Bulb-Only', 'Limbic (amygdala) predominant', 'Absent', 'Present, but extent unknown'\n",
      "- _*path_nia_ri*_:  invalid values 💩'Criteria not met', 'Not AD'\n",
      "    - valid ➡️ 'Low', 'Intermediate', 'High', 'None'\n",
      "- _*TDP43*_:  invalid values 💩'', 'Na'\n",
      "    - valid ➡️ 'None in medial temporal lobe', 'Present in amygdala, only', 'Present in hippocampus, only', 'Present in amygdala and hippocampus, only', 'Present in medial temporal lobe and middle frontal gyrus (not FTLD pattern)', 'Unknown'\n",
      "- _*amyloid_angiopathy_severity_scale*_:  invalid values 💩'', 'Cerebral amyloid angiopathy, temporal and occipital lobe', 'Cerebral amyloid angiopathy, frontal lobe'\n",
      "    - valid ➡️ 'None', 'Mild', 'Moderate', 'Severe', 'Not assessed', 'Unknown'\n",
      "- _*path_ad_level*_:  invalid values 💩'Microscopic changes of Alzheimer's disease, insufficient for diagnosis', 'Microscopic lesions of Alzheimer's disease, insufficient for diagnosis'\n",
      "    - valid ➡️ 'No evidence of Alzheimer's disease neuropathological change', 'Low level Alzheimer's disease neuropathological change', 'At least low level Alzheimer's disease neuropathological change', 'Intermediate level Alzheimer's disease neuropathological change', 'At least intermediate level Alzheimer's disease neuropathological change', 'High level Alzheimer's disease neuropathological change', 'Unknown'\n",
      "\n"
     ]
    }
   ],
   "source": [
    "CLINPATH = prep_table(CLINPATH, CDE_df)\n",
    "\n",
    "\n",
    "CLINPATH.replace(\"Nan\", \"\", inplace=True)\n",
    "\n",
    "report = ReportCollector(destination=\"\")\n",
    "validate_table(CLINPATH, \"CLINPATH\", CDE_df, report)\n",
    "report.print_log()\n"
   ]
  },
  {
   "cell_type": "code",
   "execution_count": 120,
   "metadata": {},
   "outputs": [],
   "source": [
    "CLINPATH['region_level_2'].unique()\n",
    "\n",
    "# change \"Hippocampus\" to \"CA1-CA4\"\n",
    "CLINPATH['region_level_2'] = CLINPATH['region_level_2'].replace('Hippocampus', 'CA1-CA4')\n",
    "\n",
    "# skip hx_melanoma and education level for now as there is not a \"Unknown\" or \"Not Reported\" option in the CDE\n",
    "\n",
    "# leave te APOE_e4_status as is for now . multiple are coded as \"2,3\" \n",
    "# leave cognitive status as is, since there is no \"Unknown\" or \"Not Reported\" option in the CDE\n",
    "\n",
    "# potential \"path_braak_asyn\" coding \n",
    "braak_map = {'L. Olfactory Bulb-Only':\"1/2\", 'Lla. Brainstem Predominant':\"3\",\n",
    "       'Llb. Limbic Predominant':\"3/4\", 'LV. Neocortical':\"5\",\n",
    "       'Lll. Brainstem/Limbic':\"3/4\", '0. No Lewy bodies':\"0\"}\n",
    "# set to NaN for now since this is actualy path_mckeith coding\n",
    "\n",
    "CLINPATH['path_braak_asyn'] = \"\"\n",
    "\n",
    "mckeith_map = {'L. Olfactory Bulb-Only':\"Olfactory bulb only\", 'Lla. Brainstem Predominant':\"Brainstem\",\n",
    "       'Llb. Limbic Predominant':\"Limbic (transitional)\", 'LV. Neocortical':\"Neocortical\",\n",
    "       'Lll. Brainstem/Limbic':\"Amygdala Predominant\", '0. No Lewy bodies':\"Absent\"}\n",
    "\n",
    "\n",
    "CLINPATH['path_mckeith'] = CLINPATH['path_mckeith'].replace(mckeith_map)\n",
    "\n",
    "# leave path_nia_ri like this for now. not sure how to map \"criteria not met\" and \"Not AD\"\n",
    "\n",
    "# leave amyloid_angiopathy_severity_scale like this for now. not sure how to map 'Cerebral amyloid angiopathy, temporal and occipital lobe','Cerebral amyloid angiopathy, frontal lobe']\n"
   ]
  },
  {
   "cell_type": "code",
   "execution_count": 121,
   "metadata": {},
   "outputs": [
    {
     "name": "stdout",
     "output_type": "stream",
     "text": [
      "All required fields are present in *CLINPATH* table.\n",
      "🚨⚠️❗ **Required Fields with Empty (nan) values:**\n",
      "\n",
      "\t- age_at_onset: 75/75 empty rows\n",
      "\n",
      "\t- age_at_diagnosis: 75/75 empty rows\n",
      "\n",
      "\t- first_motor_symptom: 75/75 empty rows\n",
      "\n",
      "\t- path_year_death: 75/75 empty rows\n",
      "\n",
      "\t- brain_weight: 75/75 empty rows\n",
      "🚨⚠️❗ **Optional Fields with Empty (nan) values:**\n",
      "\n",
      "\t- smoking_years: 75/75 empty rows\n",
      "## Enums\n",
      "🚨⚠️❗ **Invalid entries**\n",
      "- _*path_nia_ri*_:  invalid values 💩'Criteria not met', 'Not AD'\n",
      "    - valid ➡️ 'Low', 'Intermediate', 'High', 'None'\n",
      "- _*TDP43*_:  invalid values 💩'', 'Na'\n",
      "    - valid ➡️ 'None in medial temporal lobe', 'Present in amygdala, only', 'Present in hippocampus, only', 'Present in amygdala and hippocampus, only', 'Present in medial temporal lobe and middle frontal gyrus (not FTLD pattern)', 'Unknown'\n",
      "- _*amyloid_angiopathy_severity_scale*_:  invalid values 💩'', 'Cerebral amyloid angiopathy, temporal and occipital lobe', 'Cerebral amyloid angiopathy, frontal lobe'\n",
      "    - valid ➡️ 'None', 'Mild', 'Moderate', 'Severe', 'Not assessed', 'Unknown'\n",
      "- _*path_ad_level*_:  invalid values 💩'Microscopic changes of Alzheimer's disease, insufficient for diagnosis', 'Microscopic lesions of Alzheimer's disease, insufficient for diagnosis'\n",
      "    - valid ➡️ 'No evidence of Alzheimer's disease neuropathological change', 'Low level Alzheimer's disease neuropathological change', 'At least low level Alzheimer's disease neuropathological change', 'Intermediate level Alzheimer's disease neuropathological change', 'At least intermediate level Alzheimer's disease neuropathological change', 'High level Alzheimer's disease neuropathological change', 'Unknown'\n",
      "\n"
     ]
    }
   ],
   "source": [
    "report = ReportCollector(destination=\"\")\n",
    "validate_table(CLINPATH, \"CLINPATH\", CDE_df, report)\n",
    "report.print_log()\n"
   ]
  },
  {
   "cell_type": "code",
   "execution_count": 122,
   "metadata": {},
   "outputs": [],
   "source": [
    "\n",
    "SAMPLE_ALL_CP = SAMPLE_ALL.merge(CLINPATH, on='sample_id', how='outer')\n"
   ]
  },
  {
   "cell_type": "code",
   "execution_count": 123,
   "metadata": {},
   "outputs": [],
   "source": [
    "SAMPLE_ALL_CP.to_csv(\"./clean/team-Lee/auxiluary_metadata.csv\")"
   ]
  },
  {
   "cell_type": "code",
   "execution_count": 124,
   "metadata": {},
   "outputs": [
    {
     "data": {
      "text/plain": [
       "PosixPath('/Users/ergonyc/Projects/ASAP/team-lee')"
      ]
     },
     "execution_count": 124,
     "metadata": {},
     "output_type": "execute_result"
    }
   ],
   "source": [
    "data_path"
   ]
  },
  {
   "cell_type": "code",
   "execution_count": 125,
   "metadata": {},
   "outputs": [
    {
     "name": "stdout",
     "output_type": "stream",
     "text": [
      "added empty column submitter_email to STUDY table\n",
      "added empty column DV200 to SAMPLE table\n",
      "added empty column dig_slide_avail to CLINPATH table\n",
      "added empty column quant_path_avail to CLINPATH table\n"
     ]
    }
   ],
   "source": [
    "# fix the column order\n",
    "STUDY = reorder_table_to_CDE(STUDY, \"STUDY\", CDE_df)\n",
    "SAMPLE = reorder_table_to_CDE(SAMPLE, \"SAMPLE\", CDE_df)\n",
    "PROTOCOL = reorder_table_to_CDE(PROTOCOL, \"PROTOCOL\", CDE_df)\n",
    "SUBJECT = reorder_table_to_CDE(SUBJECT, \"SUBJECT\", CDE_df)     \n",
    "CLINPATH = reorder_table_to_CDE(CLINPATH, \"CLINPATH\", CDE_df)\n",
    "\n",
    "\n",
    "# write the clean metadata\n",
    "STUDY.to_csv(data_path / \"metadata/STUDY.csv\")\n",
    "PROTOCOL.to_csv(data_path / \"metadata/PROTOCOL.csv\")\n",
    "CLINPATH.to_csv(data_path / \"metadata/CLINPATH.csv\")\n",
    "SAMPLE.to_csv(data_path / \"metadata/SAMPLE.csv\")\n",
    "SUBJECT.to_csv(data_path / \"metadata/SUBJECT.csv\")\n",
    "\n",
    "# also writh them to clean...\n",
    "# \n",
    "#  \n",
    "\n",
    "export_root = Path.cwd() / \"clean/team-Lee\"\n",
    "if not export_root.exists():\n",
    "    export_root.mkdir(parents=True, exist_ok=True)\n",
    "\n",
    "\n",
    "STUDY.to_csv( export_root / \"STUDY.csv\")\n",
    "PROTOCOL.to_csv(export_root / \"PROTOCOL.csv\")\n",
    "SAMPLE.to_csv(export_root / \"SAMPLE.csv\")\n",
    "SUBJECT.to_csv(export_root / \"SUBJECT.csv\")\n",
    "CLINPATH.to_csv(export_root / \"CLINPATH.csv\")\n"
   ]
  },
  {
   "cell_type": "markdown",
   "metadata": {},
   "source": [
    "## Update the table to v2"
   ]
  },
  {
   "cell_type": "code",
   "execution_count": 126,
   "metadata": {},
   "outputs": [
    {
     "data": {
      "text/html": [
       "<div>\n",
       "<style scoped>\n",
       "    .dataframe tbody tr th:only-of-type {\n",
       "        vertical-align: middle;\n",
       "    }\n",
       "\n",
       "    .dataframe tbody tr th {\n",
       "        vertical-align: top;\n",
       "    }\n",
       "\n",
       "    .dataframe thead th {\n",
       "        text-align: right;\n",
       "    }\n",
       "</style>\n",
       "<table border=\"1\" class=\"dataframe\">\n",
       "  <thead>\n",
       "    <tr style=\"text-align: right;\">\n",
       "      <th></th>\n",
       "      <th>sample_id</th>\n",
       "      <th>source_sample_id</th>\n",
       "      <th>subject_id</th>\n",
       "      <th>replicate</th>\n",
       "      <th>replicate_count</th>\n",
       "      <th>repeated_sample</th>\n",
       "      <th>batch</th>\n",
       "      <th>tissue</th>\n",
       "      <th>brain_region</th>\n",
       "      <th>source_RIN</th>\n",
       "      <th>...</th>\n",
       "      <th>sex_ontology_term_id</th>\n",
       "      <th>self_reported_ethnicity_ontology_term_id</th>\n",
       "      <th>disease_ontology_term_id</th>\n",
       "      <th>tissue_ontology_term_id</th>\n",
       "      <th>cell_type_ontology_term_id</th>\n",
       "      <th>assay_ontology_term_id</th>\n",
       "      <th>suspension_type</th>\n",
       "      <th>DV200</th>\n",
       "      <th>pm_PH</th>\n",
       "      <th>donor_id</th>\n",
       "    </tr>\n",
       "  </thead>\n",
       "  <tbody>\n",
       "    <tr>\n",
       "      <th>0</th>\n",
       "      <td>MFG_HC_1225</td>\n",
       "      <td>12-25</td>\n",
       "      <td>HC_1225</td>\n",
       "      <td>rep1</td>\n",
       "      <td>1</td>\n",
       "      <td>0</td>\n",
       "      <td>BATCH_4</td>\n",
       "      <td>Brain</td>\n",
       "      <td>Middle_Frontal_Gyrus</td>\n",
       "      <td>NaN</td>\n",
       "      <td>...</td>\n",
       "      <td>PATO:0000384 (male)</td>\n",
       "      <td>Unknown</td>\n",
       "      <td>PATO:0000461</td>\n",
       "      <td>UBERON:0002702</td>\n",
       "      <td>NA(multiple)</td>\n",
       "      <td>EFO:0030004</td>\n",
       "      <td>nucleus</td>\n",
       "      <td>&lt;NA&gt;</td>\n",
       "      <td>NaN</td>\n",
       "      <td></td>\n",
       "    </tr>\n",
       "    <tr>\n",
       "      <th>0</th>\n",
       "      <td>MFG_HC_1225</td>\n",
       "      <td>12-25</td>\n",
       "      <td>HC_1225</td>\n",
       "      <td>rep1</td>\n",
       "      <td>1</td>\n",
       "      <td>0</td>\n",
       "      <td>BATCH_4</td>\n",
       "      <td>Brain</td>\n",
       "      <td>Middle_Frontal_Gyrus</td>\n",
       "      <td>NaN</td>\n",
       "      <td>...</td>\n",
       "      <td>PATO:0000384 (male)</td>\n",
       "      <td>Unknown</td>\n",
       "      <td>PATO:0000461</td>\n",
       "      <td>UBERON:0002702</td>\n",
       "      <td>NA(multiple)</td>\n",
       "      <td>EFO:0030004</td>\n",
       "      <td>nucleus</td>\n",
       "      <td>&lt;NA&gt;</td>\n",
       "      <td>NaN</td>\n",
       "      <td></td>\n",
       "    </tr>\n",
       "    <tr>\n",
       "      <th>1</th>\n",
       "      <td>MFG_HC_0602</td>\n",
       "      <td>06-02</td>\n",
       "      <td>HC_0602</td>\n",
       "      <td>rep1</td>\n",
       "      <td>1</td>\n",
       "      <td>0</td>\n",
       "      <td>BATCH_4</td>\n",
       "      <td>Brain</td>\n",
       "      <td>Middle_Frontal_Gyrus</td>\n",
       "      <td>NaN</td>\n",
       "      <td>...</td>\n",
       "      <td>PATO:0000384 (male)</td>\n",
       "      <td>Unknown</td>\n",
       "      <td>PATO:0000461</td>\n",
       "      <td>UBERON:0002702</td>\n",
       "      <td>NA(multiple)</td>\n",
       "      <td>EFO:0030004</td>\n",
       "      <td>nucleus</td>\n",
       "      <td>&lt;NA&gt;</td>\n",
       "      <td>NaN</td>\n",
       "      <td></td>\n",
       "    </tr>\n",
       "    <tr>\n",
       "      <th>1</th>\n",
       "      <td>MFG_HC_0602</td>\n",
       "      <td>06-02</td>\n",
       "      <td>HC_0602</td>\n",
       "      <td>rep1</td>\n",
       "      <td>1</td>\n",
       "      <td>0</td>\n",
       "      <td>BATCH_4</td>\n",
       "      <td>Brain</td>\n",
       "      <td>Middle_Frontal_Gyrus</td>\n",
       "      <td>NaN</td>\n",
       "      <td>...</td>\n",
       "      <td>PATO:0000384 (male)</td>\n",
       "      <td>Unknown</td>\n",
       "      <td>PATO:0000461</td>\n",
       "      <td>UBERON:0002702</td>\n",
       "      <td>NA(multiple)</td>\n",
       "      <td>EFO:0030004</td>\n",
       "      <td>nucleus</td>\n",
       "      <td>&lt;NA&gt;</td>\n",
       "      <td>NaN</td>\n",
       "      <td></td>\n",
       "    </tr>\n",
       "    <tr>\n",
       "      <th>2</th>\n",
       "      <td>MFG_PD_0009</td>\n",
       "      <td>00-09</td>\n",
       "      <td>PD_0009</td>\n",
       "      <td>rep1</td>\n",
       "      <td>1</td>\n",
       "      <td>0</td>\n",
       "      <td>BATCH_4</td>\n",
       "      <td>Brain</td>\n",
       "      <td>Middle_Frontal_Gyrus</td>\n",
       "      <td>NaN</td>\n",
       "      <td>...</td>\n",
       "      <td>PATO:0000384 (male)</td>\n",
       "      <td>Unknown</td>\n",
       "      <td>MONDO:0005180</td>\n",
       "      <td>UBERON:0002702</td>\n",
       "      <td>NA(multiple)</td>\n",
       "      <td>EFO:0030004</td>\n",
       "      <td>nucleus</td>\n",
       "      <td>&lt;NA&gt;</td>\n",
       "      <td>NaN</td>\n",
       "      <td></td>\n",
       "    </tr>\n",
       "  </tbody>\n",
       "</table>\n",
       "<p>5 rows × 42 columns</p>\n",
       "</div>"
      ],
      "text/plain": [
       "     sample_id source_sample_id subject_id replicate  replicate_count  \\\n",
       "0  MFG_HC_1225            12-25    HC_1225      rep1                1   \n",
       "0  MFG_HC_1225            12-25    HC_1225      rep1                1   \n",
       "1  MFG_HC_0602            06-02    HC_0602      rep1                1   \n",
       "1  MFG_HC_0602            06-02    HC_0602      rep1                1   \n",
       "2  MFG_PD_0009            00-09    PD_0009      rep1                1   \n",
       "\n",
       "   repeated_sample    batch tissue          brain_region  source_RIN  ...  \\\n",
       "0                0  BATCH_4  Brain  Middle_Frontal_Gyrus         NaN  ...   \n",
       "0                0  BATCH_4  Brain  Middle_Frontal_Gyrus         NaN  ...   \n",
       "1                0  BATCH_4  Brain  Middle_Frontal_Gyrus         NaN  ...   \n",
       "1                0  BATCH_4  Brain  Middle_Frontal_Gyrus         NaN  ...   \n",
       "2                0  BATCH_4  Brain  Middle_Frontal_Gyrus         NaN  ...   \n",
       "\n",
       "   sex_ontology_term_id self_reported_ethnicity_ontology_term_id  \\\n",
       "0   PATO:0000384 (male)                                  Unknown   \n",
       "0   PATO:0000384 (male)                                  Unknown   \n",
       "1   PATO:0000384 (male)                                  Unknown   \n",
       "1   PATO:0000384 (male)                                  Unknown   \n",
       "2   PATO:0000384 (male)                                  Unknown   \n",
       "\n",
       "   disease_ontology_term_id tissue_ontology_term_id  \\\n",
       "0              PATO:0000461          UBERON:0002702   \n",
       "0              PATO:0000461          UBERON:0002702   \n",
       "1              PATO:0000461          UBERON:0002702   \n",
       "1              PATO:0000461          UBERON:0002702   \n",
       "2             MONDO:0005180          UBERON:0002702   \n",
       "\n",
       "  cell_type_ontology_term_id assay_ontology_term_id suspension_type DV200  \\\n",
       "0               NA(multiple)            EFO:0030004         nucleus  <NA>   \n",
       "0               NA(multiple)            EFO:0030004         nucleus  <NA>   \n",
       "1               NA(multiple)            EFO:0030004         nucleus  <NA>   \n",
       "1               NA(multiple)            EFO:0030004         nucleus  <NA>   \n",
       "2               NA(multiple)            EFO:0030004         nucleus  <NA>   \n",
       "\n",
       "  pm_PH donor_id  \n",
       "0   NaN           \n",
       "0   NaN           \n",
       "1   NaN           \n",
       "1   NaN           \n",
       "2   NaN           \n",
       "\n",
       "[5 rows x 42 columns]"
      ]
     },
     "execution_count": 126,
     "metadata": {},
     "output_type": "execute_result"
    }
   ],
   "source": [
    "SAMPLE.head()"
   ]
  },
  {
   "cell_type": "code",
   "execution_count": 127,
   "metadata": {},
   "outputs": [],
   "source": [
    "from update_schema import update_tables_to_CDEv2\n",
    "\n",
    "tables_path = Path.cwd() / \"clean/team-Lee\"\n",
    "\n",
    "\n",
    "CDEv1 = pd.read_csv( Path.cwd() / \"ASAP_CDE_v1.csv\" )\n",
    "CDEv2 = pd.read_csv( Path.cwd() / \"ASAP_CDE_v2.csv\" )\n",
    "\n",
    "\n",
    "STUDYv2, PROTOCOLv2, SAMPLEv2, SUBJECTv2, CLINPATHv2, DATAv2 = update_tables_to_CDEv2(tables_path, CDEv1, CDEv2)\n"
   ]
  },
  {
   "cell_type": "code",
   "execution_count": 128,
   "metadata": {},
   "outputs": [],
   "source": [
    "\n",
    "export_root = Path.cwd() / \"clean/team-Lee/v2\"\n",
    "if not export_root.exists():\n",
    "    export_root.mkdir(parents=True, exist_ok=True)\n"
   ]
  },
  {
   "cell_type": "code",
   "execution_count": 129,
   "metadata": {},
   "outputs": [],
   "source": [
    "\n",
    "STUDYv2.to_csv( export_root / \"STUDY.csv\")\n",
    "PROTOCOLv2.to_csv(export_root / \"PROTOCOL.csv\")\n",
    "SAMPLEv2.to_csv(export_root / \"SAMPLE.csv\")\n",
    "SUBJECTv2.to_csv(export_root / \"SUBJECT.csv\")\n",
    "CLINPATHv2.to_csv(export_root / \"CLINPATH.csv\")\n",
    "DATAv2.to_csv(export_root / \"DATA.csv\")\n"
   ]
  },
  {
   "cell_type": "code",
   "execution_count": 130,
   "metadata": {},
   "outputs": [
    {
     "data": {
      "text/plain": [
       "PosixPath('/Users/ergonyc/Projects/ASAP/meta-clean/clean/team-Lee/v2')"
      ]
     },
     "execution_count": 130,
     "metadata": {},
     "output_type": "execute_result"
    }
   ],
   "source": [
    "export_root"
   ]
  },
  {
   "cell_type": "code",
   "execution_count": null,
   "metadata": {},
   "outputs": [],
   "source": []
  },
  {
   "cell_type": "markdown",
   "metadata": {},
   "source": [
    "Transfer cleaned metadata to raw buckets \n",
    "\n",
    "\n"
   ]
  },
  {
   "cell_type": "markdown",
   "metadata": {},
   "source": []
  },
  {
   "cell_type": "markdown",
   "metadata": {},
   "source": [
    "## Lee"
   ]
  },
  {
   "cell_type": "code",
   "execution_count": 131,
   "metadata": {},
   "outputs": [
    {
     "name": "stdout",
     "output_type": "stream",
     "text": [
      "Activated service account credentials for: [raw-admin-lee@dnastack-asap-parkinsons.iam.gserviceaccount.com]\n"
     ]
    }
   ],
   "source": [
    "# Lee\n",
    "!gcloud auth activate-service-account --key-file=/Users/ergonyc/Projects/ASAP/lee-credentials.json \n"
   ]
  },
  {
   "cell_type": "code",
   "execution_count": 132,
   "metadata": {},
   "outputs": [
    {
     "name": "stdout",
     "output_type": "stream",
     "text": [
      "      6243  2023-11-29T22:26:06Z  gs://asap-raw-data-team-lee/metadata/v2/CLINPATH.csv#1701296766077305  metageneration=1\n",
      "     24218  2023-11-29T22:26:06Z  gs://asap-raw-data-team-lee/metadata/v2/DATA.csv#1701296766689376  metageneration=1\n",
      "       968  2023-11-29T22:26:07Z  gs://asap-raw-data-team-lee/metadata/v2/PROTOCOL.csv#1701296767085192  metageneration=1\n",
      "     23092  2023-11-29T22:26:06Z  gs://asap-raw-data-team-lee/metadata/v2/SAMPLE.csv#1701296766486332  metageneration=1\n",
      "      1054  2023-11-29T22:26:06Z  gs://asap-raw-data-team-lee/metadata/v2/STUDY.csv#1701296766878081  metageneration=1\n",
      "      4277  2023-11-29T22:26:06Z  gs://asap-raw-data-team-lee/metadata/v2/SUBJECT.csv#1701296766288192  metageneration=1\n",
      "TOTAL: 6 objects, 59852 bytes (58.45 KiB)\n"
     ]
    }
   ],
   "source": [
    "\n",
    "!gsutil -u dnastack-asap-parkinsons ls -al \"gs://asap-raw-data-team-lee/metadata/v2\"\n"
   ]
  },
  {
   "cell_type": "code",
   "execution_count": 47,
   "metadata": {},
   "outputs": [
    {
     "name": "stdout",
     "output_type": "stream",
     "text": [
      "Removing gs://asap-raw-data-team-lee/metadata/v2/v2_20231128/CLINPATH.csv#1701213902124849...\n",
      "Removing gs://asap-raw-data-team-lee/metadata/v2/v2_20231128/DATA.csv#1701213902800745...\n",
      "Removing gs://asap-raw-data-team-lee/metadata/v2/v2_20231128/PROTOCOL.csv#1701213903243233...\n",
      "Removing gs://asap-raw-data-team-lee/metadata/v2/v2_20231128/SAMPLE.csv#1701213902582568...\n",
      "/ [4 objects]                                                                   \n",
      "==> NOTE: You are performing a sequence of gsutil operations that may\n",
      "run significantly faster if you instead use gsutil -m rm ... Please\n",
      "see the -m section under \"gsutil help options\" for further information\n",
      "about when gsutil -m can be advantageous.\n",
      "\n",
      "Removing gs://asap-raw-data-team-lee/metadata/v2/v2_20231128/STUDY.csv#1701213903050409...\n",
      "Removing gs://asap-raw-data-team-lee/metadata/v2/v2_20231128/SUBJECT.csv#1701213902358354...\n",
      "/ [6 objects]                                                                   \n",
      "Operation completed over 6 objects.                                              \n"
     ]
    }
   ],
   "source": [
    "!gsutil -u dnastack-asap-parkinsons rm -r \"gs://asap-raw-data-team-lee/metadata/v2/v2_20231128\""
   ]
  },
  {
   "cell_type": "code",
   "execution_count": null,
   "metadata": {},
   "outputs": [
    {
     "data": {
      "text/plain": [
       "PosixPath('/Users/ergonyc/Projects/ASAP/meta-clean')"
      ]
     },
     "metadata": {},
     "output_type": "display_data"
    }
   ],
   "source": [
    "Path.cwd()"
   ]
  },
  {
   "cell_type": "code",
   "execution_count": 133,
   "metadata": {},
   "outputs": [
    {
     "name": "stdout",
     "output_type": "stream",
     "text": [
      "Copying file://./clean/team-Lee/v2_20231130/CLINPATH.csv [Content-Type=text/csv]...\n",
      "Copying file://./clean/team-Lee/v2_20231130/SUBJECT.csv [Content-Type=text/csv]...\n",
      "Copying file://./clean/team-Lee/v2_20231130/SAMPLE.csv [Content-Type=text/csv]...\n",
      "Copying file://./clean/team-Lee/v2_20231130/DATA.csv [Content-Type=text/csv]... \n",
      "- [4 files][ 56.5 KiB/ 56.5 KiB]                                                \n",
      "==> NOTE: You are performing a sequence of gsutil operations that may\n",
      "run significantly faster if you instead use gsutil -m cp ... Please\n",
      "see the -m section under \"gsutil help options\" for further information\n",
      "about when gsutil -m can be advantageous.\n",
      "\n",
      "Copying file://./clean/team-Lee/v2_20231130/STUDY.csv [Content-Type=text/csv]...\n",
      "Copying file://./clean/team-Lee/v2_20231130/PROTOCOL.csv [Content-Type=text/csv]...\n",
      "\\ [6 files][ 58.4 KiB/ 58.4 KiB]                                                \n",
      "Operation completed over 6 objects/58.4 KiB.                                     \n"
     ]
    }
   ],
   "source": [
    "\n",
    "!gsutil -u dnastack-asap-parkinsons cp -r \"./clean/team-Lee/v2_20231130/*.csv\"  \"gs://asap-raw-data-team-lee/metadata/v2\""
   ]
  },
  {
   "cell_type": "code",
   "execution_count": 44,
   "metadata": {},
   "outputs": [
    {
     "name": "stdout",
     "output_type": "stream",
     "text": [
      "Copying file://./clean/team-Lee/CLINPATH.csv [Content-Type=text/csv]...\n",
      "Copying file://./clean/team-Lee/SUBJECT.csv [Content-Type=text/csv]...          \n",
      "Copying file://./clean/team-Lee/auxiluary_metadata.csv [Content-Type=text/csv]...\n",
      "Copying file://./clean/team-Lee/SAMPLE.csv [Content-Type=text/csv]...           \n",
      "\\ [4 files][187.4 KiB/187.4 KiB]                                                \n",
      "==> NOTE: You are performing a sequence of gsutil operations that may\n",
      "run significantly faster if you instead use gsutil -m cp ... Please\n",
      "see the -m section under \"gsutil help options\" for further information\n",
      "about when gsutil -m can be advantageous.\n",
      "\n",
      "Copying file://./clean/team-Lee/STUDY.csv [Content-Type=text/csv]...\n",
      "Copying file://./clean/team-Lee/auxilarry_metadata.csv [Content-Type=text/csv]...\n",
      "Copying file://./clean/team-Lee/PROTOCOL.csv [Content-Type=text/csv]...         \n",
      "Copying file://./clean/team-Lee/CDE.csv [Content-Type=text/csv]...              \n",
      "| [8 files][328.0 KiB/328.0 KiB]                                                \n",
      "Operation completed over 8 objects/328.0 KiB.                                    \n"
     ]
    }
   ],
   "source": [
    "!gsutil -u dnastack-asap-parkinsons cp -r \"./clean/team-Lee/*.csv\"  \"gs://asap-raw-data-team-lee/metadata/clean/\""
   ]
  },
  {
   "cell_type": "code",
   "execution_count": 49,
   "metadata": {},
   "outputs": [
    {
     "name": "stdout",
     "output_type": "stream",
     "text": [
      "     37741  2023-11-28T21:58:33Z  gs://asap-raw-data-team-lee/metadata/clean/CDE.csv#1701208713502213  metageneration=1\n",
      "     24241  2023-11-28T21:58:31Z  gs://asap-raw-data-team-lee/metadata/clean/CLINPATH.csv#1701208711158586  metageneration=1\n",
      "       968  2023-11-28T21:58:33Z  gs://asap-raw-data-team-lee/metadata/clean/PROTOCOL.csv#1701208713057031  metageneration=1\n",
      "     60412  2023-11-28T21:58:32Z  gs://asap-raw-data-team-lee/metadata/clean/SAMPLE.csv#1701208712230186  metageneration=1\n",
      "       969  2023-11-28T21:58:32Z  gs://asap-raw-data-team-lee/metadata/clean/STUDY.csv#1701208712490381  metageneration=1\n",
      "      3078  2023-11-28T21:58:31Z  gs://asap-raw-data-team-lee/metadata/clean/SUBJECT.csv#1701208711431682  metageneration=1\n",
      "    104336  2023-11-28T21:58:32Z  gs://asap-raw-data-team-lee/metadata/clean/auxilarry_metadata.csv#1701208712852367  metageneration=1\n",
      "    109904  2023-09-22T10:45:50Z  gs://asap-raw-data-team-lee/metadata/clean/auxiliary_metadata.csv#1695379550068707  metageneration=1\n",
      "    104153  2023-11-28T21:58:31Z  gs://asap-raw-data-team-lee/metadata/clean/auxiluary_metadata.csv#1701208711886220  metageneration=1\n",
      "TOTAL: 9 objects, 445802 bytes (435.35 KiB)\n"
     ]
    }
   ],
   "source": [
    "!gsutil -u dnastack-asap-parkinsons ls -al \"gs://asap-raw-data-team-lee/metadata/clean\"\n"
   ]
  },
  {
   "cell_type": "code",
   "execution_count": null,
   "metadata": {},
   "outputs": [],
   "source": []
  },
  {
   "cell_type": "markdown",
   "metadata": {},
   "source": [
    "### copy to workflow-dev bucket\n",
    "\n",
    "First copy each set of metadata locally ..."
   ]
  },
  {
   "cell_type": "code",
   "execution_count": 135,
   "metadata": {},
   "outputs": [
    {
     "name": "stdout",
     "output_type": "stream",
     "text": [
      "Activated service account credentials for: [admin-workflow-dev@dnastack-asap-parkinsons.iam.gserviceaccount.com]\n"
     ]
    }
   ],
   "source": [
    "!gcloud auth activate-service-account --key-file=/Users/ergonyc/Projects/ASAP/wf-credentials.json"
   ]
  },
  {
   "cell_type": "code",
   "execution_count": 51,
   "metadata": {},
   "outputs": [
    {
     "name": "stdout",
     "output_type": "stream",
     "text": [
      "      6243  2023-11-28T22:21:42Z  gs://asap-workflow-dev/metadata/v2/lee/CLINPATH.csv#1701210102669978  metageneration=1\n",
      "     24218  2023-11-28T22:21:43Z  gs://asap-workflow-dev/metadata/v2/lee/DATA.csv#1701210103715354  metageneration=1\n",
      "       968  2023-11-28T22:21:44Z  gs://asap-workflow-dev/metadata/v2/lee/PROTOCOL.csv#1701210104255218  metageneration=1\n",
      "     23092  2023-11-28T22:21:43Z  gs://asap-workflow-dev/metadata/v2/lee/SAMPLE.csv#1701210103292269  metageneration=1\n",
      "      1054  2023-11-28T22:21:43Z  gs://asap-workflow-dev/metadata/v2/lee/STUDY.csv#1701210103992608  metageneration=1\n",
      "      4277  2023-11-28T22:21:43Z  gs://asap-workflow-dev/metadata/v2/lee/SUBJECT.csv#1701210103010639  metageneration=1\n",
      "                                 gs://asap-workflow-dev/metadata/v2/lee/v2_20231128/\n",
      "TOTAL: 6 objects, 59852 bytes (58.45 KiB)\n"
     ]
    }
   ],
   "source": [
    "# !gsutil  ls -al \"gs://asap-workflow-dev/CDE\"\n",
    "\n",
    "!gsutil  ls -al \"gs://asap-workflow-dev/metadata/v2/lee\"\n"
   ]
  },
  {
   "cell_type": "code",
   "execution_count": 136,
   "metadata": {},
   "outputs": [
    {
     "name": "stdout",
     "output_type": "stream",
     "text": [
      "Copying file://./clean/team-Lee/v2_20231130/CLINPATH.csv [Content-Type=text/csv]...\n",
      "Copying file://./clean/team-Lee/v2_20231130/SUBJECT.csv [Content-Type=text/csv]...\n",
      "Copying file://./clean/team-Lee/v2_20231130/SAMPLE.csv [Content-Type=text/csv]...\n",
      "Copying file://./clean/team-Lee/v2_20231130/DATA.csv [Content-Type=text/csv]... \n",
      "- [4 files][ 56.5 KiB/ 56.5 KiB]                                                \n",
      "==> NOTE: You are performing a sequence of gsutil operations that may\n",
      "run significantly faster if you instead use gsutil -m cp ... Please\n",
      "see the -m section under \"gsutil help options\" for further information\n",
      "about when gsutil -m can be advantageous.\n",
      "\n",
      "Copying file://./clean/team-Lee/v2_20231130/STUDY.csv [Content-Type=text/csv]...\n",
      "Copying file://./clean/team-Lee/v2_20231130/PROTOCOL.csv [Content-Type=text/csv]...\n",
      "\\ [6 files][ 58.4 KiB/ 58.4 KiB]                                                \n",
      "Operation completed over 6 objects/58.4 KiB.                                     \n"
     ]
    }
   ],
   "source": [
    "!gsutil  cp -r \"./clean/team-Lee/v2_20231130/*.csv\" \"gs://asap-workflow-dev/metadata/v2/lee\"\n"
   ]
  },
  {
   "cell_type": "code",
   "execution_count": 56,
   "metadata": {},
   "outputs": [
    {
     "name": "stdout",
     "output_type": "stream",
     "text": [
      "      6243  2023-11-28T22:21:42Z  gs://asap-workflow-dev/metadata/v2/lee/CLINPATH.csv#1701210102669978  metageneration=1\n",
      "     24218  2023-11-28T22:21:43Z  gs://asap-workflow-dev/metadata/v2/lee/DATA.csv#1701210103715354  metageneration=1\n",
      "       968  2023-11-28T22:21:44Z  gs://asap-workflow-dev/metadata/v2/lee/PROTOCOL.csv#1701210104255218  metageneration=1\n",
      "     23092  2023-11-28T22:21:43Z  gs://asap-workflow-dev/metadata/v2/lee/SAMPLE.csv#1701210103292269  metageneration=1\n",
      "      1054  2023-11-28T22:21:43Z  gs://asap-workflow-dev/metadata/v2/lee/STUDY.csv#1701210103992608  metageneration=1\n",
      "      4277  2023-11-28T22:21:43Z  gs://asap-workflow-dev/metadata/v2/lee/SUBJECT.csv#1701210103010639  metageneration=1\n",
      "TOTAL: 6 objects, 59852 bytes (58.45 KiB)\n"
     ]
    }
   ],
   "source": [
    "!gsutil ls -al \"gs://asap-workflow-dev/metadata/v2/lee\"\n"
   ]
  },
  {
   "cell_type": "markdown",
   "metadata": {},
   "source": [
    "## check file md5s"
   ]
  },
  {
   "cell_type": "code",
   "execution_count": 39,
   "metadata": {},
   "outputs": [],
   "source": [
    "from utils.checksums import extract_md5_from_details, extract_md5_from_details2\n"
   ]
  },
  {
   "cell_type": "code",
   "execution_count": 36,
   "metadata": {},
   "outputs": [
    {
     "name": "stdout",
     "output_type": "stream",
     "text": [
      "Activated service account credentials for: [raw-admin-lee@dnastack-asap-parkinsons.iam.gserviceaccount.com]\n"
     ]
    }
   ],
   "source": [
    "!gcloud auth activate-service-account --key-file=/Users/ergonyc/Projects/ASAP/lee-credentials.json  \n",
    "\n"
   ]
  },
  {
   "cell_type": "code",
   "execution_count": 37,
   "metadata": {},
   "outputs": [
    {
     "name": "stdout",
     "output_type": "stream",
     "text": [
      "\n",
      "WARNING: You have requested checksumming but your crcmod installation isn't\n",
      "using the module's C extension, so checksumming will run very slowly. For help\n",
      "installing the extension, please see \"gsutil help crcmod\".\n",
      "\n"
     ]
    }
   ],
   "source": [
    "\n",
    "# !gcloud storage hash \"gs://asap-raw-data-team-lee/**/*.gz\"  --skip-crc32c --hex  --billing-project dnastack-asap-parkinsons > hardy_hexhash.log\n",
    "\n",
    "!gsutil -u dnastack-asap-parkinsons hash -h \"gs://asap-raw-data-team-lee/**/*.gz\" > lee_hexhash.log"
   ]
  },
  {
   "cell_type": "code",
   "execution_count": 40,
   "metadata": {},
   "outputs": [
    {
     "name": "stderr",
     "output_type": "stream",
     "text": [
      "/var/folders/0z/hvx6j8cn6yj3bqbyq6rtsxm40000gn/T/ipykernel_56157/1302936753.py:6: SettingWithCopyWarning: \n",
      "A value is trying to be set on a copy of a slice from a DataFrame.\n",
      "Try using .loc[row_indexer,col_indexer] = value instead\n",
      "\n",
      "See the caveats in the documentation: https://pandas.pydata.org/pandas-docs/stable/user_guide/indexing.html#returning-a-view-versus-a-copy\n",
      "  checksum['check'] = checksum['file_name'].map(bucket_files_md5)\n"
     ]
    }
   ],
   "source": [
    "bucket_files_md5 = extract_md5_from_details2(\"lee_hexhash.log\")\n",
    "\n",
    "\n",
    "\n",
    "checksum = DATAv2[['file_name','file_MD5']]\n",
    "checksum['check1'] = checksum['file_MD5'].str.strip()\n",
    "checksum['check2'] = checksum['file_name'].map(bucket_files_md5)\n",
    "\n"
   ]
  },
  {
   "cell_type": "code",
   "execution_count": 41,
   "metadata": {},
   "outputs": [
    {
     "data": {
      "text/plain": [
       "[]"
      ]
     },
     "execution_count": 41,
     "metadata": {},
     "output_type": "execute_result"
    }
   ],
   "source": [
    "checksum[checksum.check1 != checksum.check2].file_name.to_list()\n",
    "#empty means success!!\n"
   ]
  },
  {
   "cell_type": "code",
   "execution_count": 42,
   "metadata": {},
   "outputs": [
    {
     "data": {
      "text/html": [
       "<div>\n",
       "<style scoped>\n",
       "    .dataframe tbody tr th:only-of-type {\n",
       "        vertical-align: middle;\n",
       "    }\n",
       "\n",
       "    .dataframe tbody tr th {\n",
       "        vertical-align: top;\n",
       "    }\n",
       "\n",
       "    .dataframe thead th {\n",
       "        text-align: right;\n",
       "    }\n",
       "</style>\n",
       "<table border=\"1\" class=\"dataframe\">\n",
       "  <thead>\n",
       "    <tr style=\"text-align: right;\">\n",
       "      <th></th>\n",
       "      <th>file_name</th>\n",
       "      <th>file_MD5</th>\n",
       "      <th>check</th>\n",
       "    </tr>\n",
       "  </thead>\n",
       "  <tbody>\n",
       "    <tr>\n",
       "      <th>0</th>\n",
       "      <td>MFGHC1225_S9_L001_R1_001.fastq.gz</td>\n",
       "      <td>9977258e598d6a52130c29c71aef6925</td>\n",
       "      <td>9977258e598d6a52130c29c71aef6925</td>\n",
       "    </tr>\n",
       "    <tr>\n",
       "      <th>1</th>\n",
       "      <td>MFGHC1225_S9_L001_R2_001.fastq.gz</td>\n",
       "      <td>fe2cf93257801227b7072a4fb7d18792</td>\n",
       "      <td>fe2cf93257801227b7072a4fb7d18792</td>\n",
       "    </tr>\n",
       "    <tr>\n",
       "      <th>2</th>\n",
       "      <td>MFGHC0602_S2_L001_R1_001.fastq.gz</td>\n",
       "      <td>110ca4864cf6938faca67567bebfb6cc</td>\n",
       "      <td>110ca4864cf6938faca67567bebfb6cc</td>\n",
       "    </tr>\n",
       "    <tr>\n",
       "      <th>3</th>\n",
       "      <td>MFGHC0602_S2_L001_R2_001.fastq.gz</td>\n",
       "      <td>0dcc67217e43ab53bae0d0676f9bfe8b</td>\n",
       "      <td>0dcc67217e43ab53bae0d0676f9bfe8b</td>\n",
       "    </tr>\n",
       "    <tr>\n",
       "      <th>4</th>\n",
       "      <td>MFGPD0009_S3_L001_R1_001.fastq.gz</td>\n",
       "      <td>a2608d0bd192333b0076d7091c1c50ea</td>\n",
       "      <td>a2608d0bd192333b0076d7091c1c50ea</td>\n",
       "    </tr>\n",
       "    <tr>\n",
       "      <th>...</th>\n",
       "      <td>...</td>\n",
       "      <td>...</td>\n",
       "      <td>...</td>\n",
       "    </tr>\n",
       "    <tr>\n",
       "      <th>145</th>\n",
       "      <td>SN_1973_PD_S1_L000_R2_001.fastq.gz</td>\n",
       "      <td>53f6c6b4a00299fb41f32b34509835fa</td>\n",
       "      <td>53f6c6b4a00299fb41f32b34509835fa</td>\n",
       "    </tr>\n",
       "    <tr>\n",
       "      <th>146</th>\n",
       "      <td>SN_2005_PD_S1_L001_R1_001.fastq.gz</td>\n",
       "      <td>5bde8fdd8ab28e2c00e3ae327fecc80b</td>\n",
       "      <td>5bde8fdd8ab28e2c00e3ae327fecc80b</td>\n",
       "    </tr>\n",
       "    <tr>\n",
       "      <th>147</th>\n",
       "      <td>SN_2005_PD_S1_L001_R2_001.fastq.gz</td>\n",
       "      <td>14364dc52760fbd3ad08b5ca582d849b</td>\n",
       "      <td>14364dc52760fbd3ad08b5ca582d849b</td>\n",
       "    </tr>\n",
       "    <tr>\n",
       "      <th>148</th>\n",
       "      <td>SN_2038_PD_S1_L000_R1_001.fastq.gz</td>\n",
       "      <td>3215d4e4a68a85546183e820b74cac1f</td>\n",
       "      <td>3215d4e4a68a85546183e820b74cac1f</td>\n",
       "    </tr>\n",
       "    <tr>\n",
       "      <th>149</th>\n",
       "      <td>SN_2038_PD_S1_L000_R2_001.fastq.gz</td>\n",
       "      <td>aeb21109e488f2cd78f077b3feb4a180</td>\n",
       "      <td>aeb21109e488f2cd78f077b3feb4a180</td>\n",
       "    </tr>\n",
       "  </tbody>\n",
       "</table>\n",
       "<p>150 rows × 3 columns</p>\n",
       "</div>"
      ],
      "text/plain": [
       "                              file_name                          file_MD5  \\\n",
       "0     MFGHC1225_S9_L001_R1_001.fastq.gz  9977258e598d6a52130c29c71aef6925   \n",
       "1     MFGHC1225_S9_L001_R2_001.fastq.gz  fe2cf93257801227b7072a4fb7d18792   \n",
       "2     MFGHC0602_S2_L001_R1_001.fastq.gz  110ca4864cf6938faca67567bebfb6cc   \n",
       "3     MFGHC0602_S2_L001_R2_001.fastq.gz  0dcc67217e43ab53bae0d0676f9bfe8b   \n",
       "4     MFGPD0009_S3_L001_R1_001.fastq.gz  a2608d0bd192333b0076d7091c1c50ea   \n",
       "..                                  ...                               ...   \n",
       "145  SN_1973_PD_S1_L000_R2_001.fastq.gz  53f6c6b4a00299fb41f32b34509835fa   \n",
       "146  SN_2005_PD_S1_L001_R1_001.fastq.gz  5bde8fdd8ab28e2c00e3ae327fecc80b   \n",
       "147  SN_2005_PD_S1_L001_R2_001.fastq.gz  14364dc52760fbd3ad08b5ca582d849b   \n",
       "148  SN_2038_PD_S1_L000_R1_001.fastq.gz  3215d4e4a68a85546183e820b74cac1f   \n",
       "149  SN_2038_PD_S1_L000_R2_001.fastq.gz  aeb21109e488f2cd78f077b3feb4a180   \n",
       "\n",
       "                                check  \n",
       "0    9977258e598d6a52130c29c71aef6925  \n",
       "1    fe2cf93257801227b7072a4fb7d18792  \n",
       "2    110ca4864cf6938faca67567bebfb6cc  \n",
       "3    0dcc67217e43ab53bae0d0676f9bfe8b  \n",
       "4    a2608d0bd192333b0076d7091c1c50ea  \n",
       "..                                ...  \n",
       "145  53f6c6b4a00299fb41f32b34509835fa  \n",
       "146  5bde8fdd8ab28e2c00e3ae327fecc80b  \n",
       "147  14364dc52760fbd3ad08b5ca582d849b  \n",
       "148  3215d4e4a68a85546183e820b74cac1f  \n",
       "149  aeb21109e488f2cd78f077b3feb4a180  \n",
       "\n",
       "[150 rows x 3 columns]"
      ]
     },
     "execution_count": 42,
     "metadata": {},
     "output_type": "execute_result"
    }
   ],
   "source": [
    "checksum"
   ]
  },
  {
   "cell_type": "code",
   "execution_count": null,
   "metadata": {},
   "outputs": [],
   "source": []
  }
 ],
 "metadata": {
  "kernelspec": {
   "display_name": "scverse10",
   "language": "python",
   "name": "python3"
  },
  "language_info": {
   "codemirror_mode": {
    "name": "ipython",
    "version": 3
   },
   "file_extension": ".py",
   "mimetype": "text/x-python",
   "name": "python",
   "nbconvert_exporter": "python",
   "pygments_lexer": "ipython3",
   "version": "3.10.13"
  },
  "orig_nbformat": 4
 },
 "nbformat": 4,
 "nbformat_minor": 2
}
