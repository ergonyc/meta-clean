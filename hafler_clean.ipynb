{
 "cells": [
  {
   "cell_type": "code",
   "execution_count": null,
   "metadata": {},
   "outputs": [],
   "source": []
  },
  {
   "cell_type": "markdown",
   "metadata": {},
   "source": [
    "ASAP CRN Metadata validation - wave 1\n",
    "\n",
    "# ASAP CRN Metadata validation - wave 1\n",
    "\n",
    "28 October 2023\n",
    "Andy Henrie\n",
    "\n",
    "\n",
    "\n",
    "## STEPS\n",
    "\n",
    "### imports\n",
    "- pandas\n",
    "- pathlib\n",
    "\n",
    "### Load CDE for validation\n",
    "- check all columns\n",
    "\n",
    "\n",
    "### Team Hafler\n",
    "- load excel file with tables\n",
    "- add batch info\n",
    "- add missing columns\n"
   ]
  },
  {
   "cell_type": "code",
   "execution_count": 1,
   "metadata": {},
   "outputs": [
    {
     "name": "stdout",
     "output_type": "stream",
     "text": [
      "Streamlit NOT successfully\n"
     ]
    }
   ],
   "source": [
    "import pandas as pd\n",
    "from pathlib import Path\n",
    "\n",
    "\n",
    "# local helpers\n",
    "from utils.qcutils import validate_table, force_enum_string, reorder_table_to_CDE\n",
    "from utils.io import ReportCollector, get_dtypes_dict, read_meta_table\n",
    "\n",
    "\n"
   ]
  },
  {
   "cell_type": "markdown",
   "metadata": {},
   "source": [
    "## Load CDE"
   ]
  },
  {
   "cell_type": "code",
   "execution_count": 2,
   "metadata": {},
   "outputs": [
    {
     "data": {
      "text/html": [
       "<div>\n",
       "<style scoped>\n",
       "    .dataframe tbody tr th:only-of-type {\n",
       "        vertical-align: middle;\n",
       "    }\n",
       "\n",
       "    .dataframe tbody tr th {\n",
       "        vertical-align: top;\n",
       "    }\n",
       "\n",
       "    .dataframe thead th {\n",
       "        text-align: right;\n",
       "    }\n",
       "</style>\n",
       "<table border=\"1\" class=\"dataframe\">\n",
       "  <thead>\n",
       "    <tr style=\"text-align: right;\">\n",
       "      <th></th>\n",
       "      <th>Table</th>\n",
       "      <th>Field</th>\n",
       "      <th>Description</th>\n",
       "      <th>DataType</th>\n",
       "      <th>Required</th>\n",
       "      <th>Validation</th>\n",
       "      <th>Unnamed: 6</th>\n",
       "      <th>ClinPath field</th>\n",
       "      <th>team_Hafler type</th>\n",
       "      <th>ClinPath description</th>\n",
       "      <th>Unnamed: 10</th>\n",
       "    </tr>\n",
       "  </thead>\n",
       "  <tbody>\n",
       "    <tr>\n",
       "      <th>0</th>\n",
       "      <td>STUDY</td>\n",
       "      <td>project_name</td>\n",
       "      <td>Project Name:   A Title of the overall project...</td>\n",
       "      <td>String</td>\n",
       "      <td>Required</td>\n",
       "      <td>NaN</td>\n",
       "      <td>NaN</td>\n",
       "      <td>NaN</td>\n",
       "      <td>NaN</td>\n",
       "      <td>NaN</td>\n",
       "      <td>bard</td>\n",
       "    </tr>\n",
       "    <tr>\n",
       "      <th>1</th>\n",
       "      <td>STUDY</td>\n",
       "      <td>project_dataset</td>\n",
       "      <td>Dataset Name:   A unique name is required for ...</td>\n",
       "      <td>String</td>\n",
       "      <td>Required</td>\n",
       "      <td>NaN</td>\n",
       "      <td>NaN</td>\n",
       "      <td>NaN</td>\n",
       "      <td>NaN</td>\n",
       "      <td>NaN</td>\n",
       "      <td>NaN</td>\n",
       "    </tr>\n",
       "    <tr>\n",
       "      <th>2</th>\n",
       "      <td>STUDY</td>\n",
       "      <td>project_description</td>\n",
       "      <td>Project Description:   Brief description of th...</td>\n",
       "      <td>String</td>\n",
       "      <td>Required</td>\n",
       "      <td>NaN</td>\n",
       "      <td>NaN</td>\n",
       "      <td>NaN</td>\n",
       "      <td>NaN</td>\n",
       "      <td>NaN</td>\n",
       "      <td>NaN</td>\n",
       "    </tr>\n",
       "    <tr>\n",
       "      <th>3</th>\n",
       "      <td>STUDY</td>\n",
       "      <td>ASAP_team_name</td>\n",
       "      <td>ASAP Team Name:   Name of the ASAP CRN Team. i...</td>\n",
       "      <td>Enum</td>\n",
       "      <td>Required</td>\n",
       "      <td>[\"TEAM-LEE\",\"TEAM-HAFLER\",\"TEAM-HARDY\", \"TEAM-...</td>\n",
       "      <td>NaN</td>\n",
       "      <td>NaN</td>\n",
       "      <td>NaN</td>\n",
       "      <td>NaN</td>\n",
       "      <td>NaN</td>\n",
       "    </tr>\n",
       "    <tr>\n",
       "      <th>4</th>\n",
       "      <td>STUDY</td>\n",
       "      <td>ASAP_lab_name</td>\n",
       "      <td>Lab Name. :   Lab name that is submitting data...</td>\n",
       "      <td>String</td>\n",
       "      <td>Required</td>\n",
       "      <td>NaN</td>\n",
       "      <td>NaN</td>\n",
       "      <td>NaN</td>\n",
       "      <td>NaN</td>\n",
       "      <td>NaN</td>\n",
       "      <td>NaN</td>\n",
       "    </tr>\n",
       "  </tbody>\n",
       "</table>\n",
       "</div>"
      ],
      "text/plain": [
       "   Table                Field   \n",
       "0  STUDY         project_name  \\\n",
       "1  STUDY      project_dataset   \n",
       "2  STUDY  project_description   \n",
       "3  STUDY       ASAP_team_name   \n",
       "4  STUDY        ASAP_lab_name   \n",
       "\n",
       "                                         Description DataType  Required   \n",
       "0  Project Name:   A Title of the overall project...   String  Required  \\\n",
       "1  Dataset Name:   A unique name is required for ...   String  Required   \n",
       "2  Project Description:   Brief description of th...   String  Required   \n",
       "3  ASAP Team Name:   Name of the ASAP CRN Team. i...     Enum  Required   \n",
       "4  Lab Name. :   Lab name that is submitting data...   String  Required   \n",
       "\n",
       "                                          Validation  Unnamed: 6   \n",
       "0                                                NaN         NaN  \\\n",
       "1                                                NaN         NaN   \n",
       "2                                                NaN         NaN   \n",
       "3  [\"TEAM-LEE\",\"TEAM-HAFLER\",\"TEAM-HARDY\", \"TEAM-...         NaN   \n",
       "4                                                NaN         NaN   \n",
       "\n",
       "  ClinPath field team_Hafler type ClinPath description Unnamed: 10  \n",
       "0            NaN              NaN                  NaN        bard  \n",
       "1            NaN              NaN                  NaN         NaN  \n",
       "2            NaN              NaN                  NaN         NaN  \n",
       "3            NaN              NaN                  NaN         NaN  \n",
       "4            NaN              NaN                  NaN         NaN  "
      ]
     },
     "execution_count": 2,
     "metadata": {},
     "output_type": "execute_result"
    }
   ],
   "source": [
    "CDE_path = Path.cwd() / \"ASAP_CDE.csv\" \n",
    "CDE = pd.read_csv(CDE_path )\n",
    "\n",
    "CDE.head()\n",
    "\n"
   ]
  },
  {
   "cell_type": "markdown",
   "metadata": {},
   "source": [
    "## Clean Team Hafler tables\n",
    "\n",
    "### Load Tables from excel"
   ]
  },
  {
   "cell_type": "code",
   "execution_count": 3,
   "metadata": {},
   "outputs": [],
   "source": [
    "## convert to seurat Object\n",
    "data_path = Path.home() / (\"Projects/ASAP\")\n",
    "metadata_path = data_path / \"team-hafler/metadata\"\n",
    "\n",
    "sheets = [\"SAMPLE\",\"SUBJECT\",\"CLINPATH\",\"STUDY\",\"PROTOCOL\"]\n",
    "excel_path = data_path / \"ASAP_CDE_ALL_Team_Hafler_v1.xlsx\"\n",
    "STUDY = pd.read_excel(excel_path,sheet_name=\"STUDY\",header=1).drop(columns=\"Field\")\n",
    "CLINPATH = pd.read_excel(excel_path,sheet_name=\"CLINPATH\",header=1).drop(columns=\"Field\")\n",
    "SUBJECT = pd.read_excel(excel_path,sheet_name=\"SUBJECT\",header=1).drop(columns=\"Field\")\n",
    "SAMPLE = pd.read_excel(excel_path,sheet_name=\"SAMPLE\",header=1).drop(columns=\"Field\")\n",
    "PROTOCOL = pd.read_excel(excel_path,sheet_name=\"PROTOCOL\",header=1).drop(columns=\"Field\")\n",
    "\n",
    "\n",
    "# fix the column order\n",
    "STUDY = reorder_table_to_CDE(STUDY, \"STUDY\", CDE)\n",
    "SAMPLE = reorder_table_to_CDE(SAMPLE, \"SAMPLE\", CDE)\n",
    "PROTOCOL = reorder_table_to_CDE(PROTOCOL, \"PROTOCOL\", CDE)\n",
    "SUBJECT = reorder_table_to_CDE(SUBJECT, \"SUBJECT\", CDE)     \n",
    "CLINPATH = reorder_table_to_CDE(CLINPATH, \"CLINPATH\", CDE)\n",
    "\n"
   ]
  },
  {
   "cell_type": "markdown",
   "metadata": {},
   "source": [
    "### SUBJECT"
   ]
  },
  {
   "cell_type": "code",
   "execution_count": 4,
   "metadata": {},
   "outputs": [],
   "source": [
    "# SUBJECT = force_enum_string(SUBJECT, \"SUBJECT\", CDE)\n",
    "\n",
    "SUBJECT['sex'] = SUBJECT['sex'].replace({'F':\"Female\", 'M':\"Male\"})\n",
    "SUBJECT['race'] = SUBJECT['race'].replace({'W':\"White\", 'B':\"Black or African American\"})\n",
    "\n",
    "SUBJECT['primary_diagnosis'] = SUBJECT['primary_diagnosis'].replace({'normal control':\"Healthy Control\", \"idiopathic Parkinson's disease\":\"Idiopathic PD\"})\n"
   ]
  },
  {
   "cell_type": "code",
   "execution_count": 5,
   "metadata": {},
   "outputs": [
    {
     "data": {
      "text/plain": [
       "0"
      ]
     },
     "execution_count": 5,
     "metadata": {},
     "output_type": "execute_result"
    }
   ],
   "source": [
    "subject_report = ReportCollector(destination=\"print\")\n",
    "\n",
    "validate_table(SUBJECT, \"SUBJECT\", CDE, subject_report)"
   ]
  },
  {
   "cell_type": "code",
   "execution_count": 6,
   "metadata": {},
   "outputs": [
    {
     "name": "stdout",
     "output_type": "stream",
     "text": [
      "All required fields are present in *SUBJECT* table.\n",
      "No empty entries (Nan) found in _Required_ fields.\n",
      "🚨⚠️❗ **Optional Fields with Empty (nan) values:**\n",
      "\n",
      "\t- primary_diagnosis_text: 12/12 empty rows\n",
      "## Enum fields have valid values in SUBJECT. 🥳\n",
      "\n"
     ]
    }
   ],
   "source": [
    "print(subject_report.get_log())"
   ]
  },
  {
   "cell_type": "markdown",
   "metadata": {},
   "source": [
    "### SAMPLE"
   ]
  },
  {
   "cell_type": "code",
   "execution_count": 7,
   "metadata": {},
   "outputs": [],
   "source": [
    "\n",
    "def add_hafler_batch(sample_df):\n",
    "\n",
    "    # First batch: HSDG07HC HSDG10HC HSDG148PD HSDG199PD\n",
    "    # batch[batch.sample_id in ['hSDG07HC', 'hSDG10HC', 'hSDG148PD', 'hSDG199PD']]=1\n",
    "    Batch_1 = ['hSDG07', 'hSDG10', 'hSDG148', 'hSDG199'] \n",
    "    # Second batch: hsDG101HC hsDG13HC hsDG151PD hsDG197PD hsDG30HC hsDG99HC\n",
    "    Batch_2 = ['hSDG101', 'hSDG13', 'hSDG151', 'hSDG197', 'hSDG30', 'hSDG99']\n",
    "    # Third batch: hsDG142PD hsDG208PD\n",
    "    Batch_3 = ['hSDG142', 'hSDG208'] \n",
    "\n",
    "\n",
    "    batch_col = []\n",
    "    for row in sample_df.sample_id:\n",
    "        if row in Batch_1:\n",
    "            batch_col.append(\"Batch_1\")\n",
    "        elif row in Batch_2:\n",
    "            batch_col.append(\"Batch_2\")\n",
    "        elif row in Batch_3:\n",
    "            batch_col.append(\"Batch_3\")\n",
    "        else:\n",
    "            print(\"ERROR >>>>>>>> not no batch info\")\n",
    "            batch_col.append(\"\")\n",
    "\n",
    "\n",
    "    sample_df['batch'] = batch_col\n",
    "    return sample_df\n",
    "\n",
    "SAMPLE = add_hafler_batch(SAMPLE)\n"
   ]
  },
  {
   "cell_type": "code",
   "execution_count": 8,
   "metadata": {},
   "outputs": [],
   "source": [
    "# # fix replicate & replicate_count\n",
    "SAMPLE['replicate'] = \"Rep1\"\n",
    "SAMPLE['replicate_count'] = 1\n",
    "\n",
    "\n",
    "# force the right sex_ontology_term_id\n",
    "SAMPLE[\"organism_ontology_term_id\"] = \"NCBITaxon:9606\"\n",
    "\n",
    "# set time == 0 for all samples\n",
    "SAMPLE['time'] = 0\n",
    "\n",
    "SAMPLE['file_type'] = SAMPLE['file_type'].replace({\"Fastq\":\"fastq\"})\n"
   ]
  },
  {
   "cell_type": "code",
   "execution_count": 9,
   "metadata": {},
   "outputs": [],
   "source": [
    "\n",
    "# need to join with subject to get \"sex\" and convert to ontology term\n",
    "SAMPLE_SUBJECT = SAMPLE.merge(SUBJECT, on='subject_id',  how='left')\n",
    "SAMPLE_og = SAMPLE.copy()\n",
    "SAMPLE['sex_ontology_term_id'] = SAMPLE_SUBJECT['sex'].replace({\"Male\":\"PATO:0000384 (male)\", \"Female\":\"PATO:0000383 (female)\" })\n",
    "\n",
    "# ignore development_stage_ontology_term_id, self_reported_ethnicity_ontology_term_id, assay_ontology_term_id, etc for now. (Check wiht Le)"
   ]
  },
  {
   "cell_type": "code",
   "execution_count": 10,
   "metadata": {},
   "outputs": [],
   "source": [
    "# fix assay\n",
    "SAMPLE['assay'] = SAMPLE['assay'].replace({'v3.1 - Single Index, 10x Genomics ':\"v3.1 - Single Index\"})\n",
    "# fix assay\n",
    "SAMPLE['sequencing_length'] = SAMPLE['sequencing_length'].replace({'150bp x2':\"150\"})\n"
   ]
  },
  {
   "cell_type": "code",
   "execution_count": 11,
   "metadata": {},
   "outputs": [
    {
     "data": {
      "text/plain": [
       "0"
      ]
     },
     "execution_count": 11,
     "metadata": {},
     "output_type": "execute_result"
    }
   ],
   "source": [
    "sample_report = ReportCollector(destination=\"print\")\n",
    "\n",
    "validate_table(SAMPLE, \"SAMPLE\", CDE, sample_report)"
   ]
  },
  {
   "cell_type": "code",
   "execution_count": 12,
   "metadata": {},
   "outputs": [
    {
     "name": "stdout",
     "output_type": "stream",
     "text": [
      "All required fields are present in *SAMPLE* table.\n",
      "🚨⚠️❗ **Required Fields with Empty (nan) values:**\n",
      "\n",
      "\t- source_RIN: 36/36 empty rows\n",
      "\n",
      "\t- RIN: 36/36 empty rows\n",
      "\n",
      "\t- suspension_type: 36/36 empty rows\n",
      "🚨⚠️❗ **Optional Fields with Empty (nan) values:**\n",
      "\n",
      "\t- pm_PH: 36/36 empty rows\n",
      "## Enum fields have valid values in SAMPLE. 🥳\n",
      "\n"
     ]
    }
   ],
   "source": [
    "print(sample_report.get_log())"
   ]
  },
  {
   "cell_type": "markdown",
   "metadata": {},
   "source": [
    "### CLINPATH"
   ]
  },
  {
   "cell_type": "code",
   "execution_count": 13,
   "metadata": {},
   "outputs": [],
   "source": [
    "# redact \"Prefrontal Cortex\" from region_level_2 for now\n",
    "CLINPATH['region_level_2'] = CLINPATH['region_level_2'].replace({'Prefrontal Cortex':\"\"})\n",
    "CLINPATH['region_level_2'] = CLINPATH['region_level_2'].replace({'Prefrontal cortex':\"\"})\n",
    "\n",
    "# leave te APOE_e4_status as is for now . multiple are coded as \"2,3\" \n",
    "# but remove commas\n",
    "CLINPATH[\"APOE_e4_status\"] = CLINPATH[\"APOE_e4_status\"].str.replace(\",\",\"\")\n",
    "\n",
    "# need to fix the path_autopsy_dx_main"
   ]
  },
  {
   "cell_type": "code",
   "execution_count": 14,
   "metadata": {},
   "outputs": [
    {
     "data": {
      "text/plain": [
       "0"
      ]
     },
     "execution_count": 14,
     "metadata": {},
     "output_type": "execute_result"
    }
   ],
   "source": [
    "clinpath_report = ReportCollector(destination=\"print\")\n",
    "validate_table(CLINPATH, \"CLINPATH\", CDE, clinpath_report)\n"
   ]
  },
  {
   "cell_type": "code",
   "execution_count": 15,
   "metadata": {},
   "outputs": [
    {
     "name": "stdout",
     "output_type": "stream",
     "text": [
      "All required fields are present in *CLINPATH* table.\n",
      "🚨⚠️❗ **Required Fields with Empty (nan) values:**\n",
      "\n",
      "\t- age_at_onset: 12/12 empty rows\n",
      "\n",
      "\t- age_at_diagnosis: 12/12 empty rows\n",
      "\n",
      "\t- first_motor_symptom: 12/12 empty rows\n",
      "\n",
      "\t- path_year_death: 12/12 empty rows\n",
      "\n",
      "\t- brain_weight: 12/12 empty rows\n",
      "🚨⚠️❗ **Optional Fields with Empty (nan) values:**\n",
      "\n",
      "\t- smoking_years: 12/12 empty rows\n",
      "## Enum fields have valid values in CLINPATH. 🥳\n",
      "\n"
     ]
    }
   ],
   "source": [
    "print(clinpath_report.get_log())"
   ]
  },
  {
   "cell_type": "markdown",
   "metadata": {},
   "source": [
    "### STUDY"
   ]
  },
  {
   "cell_type": "code",
   "execution_count": 16,
   "metadata": {},
   "outputs": [
    {
     "data": {
      "text/plain": [
       "1"
      ]
     },
     "execution_count": 16,
     "metadata": {},
     "output_type": "execute_result"
    }
   ],
   "source": [
    "study_report = ReportCollector(destination=\"print\")\n",
    "validate_table(STUDY, \"STUDY\", CDE, study_report)\n"
   ]
  },
  {
   "cell_type": "code",
   "execution_count": 17,
   "metadata": {},
   "outputs": [
    {
     "name": "stdout",
     "output_type": "stream",
     "text": [
      "All required fields are present in *STUDY* table.\n",
      "No empty entries (Nan) found in _Required_ fields.\n",
      "No empty entries (Nan) found in _Optional_ fields.\n",
      "## Enum fields have valid values in STUDY. 🥳\n",
      "\n"
     ]
    }
   ],
   "source": [
    "print(study_report.get_log())"
   ]
  },
  {
   "cell_type": "markdown",
   "metadata": {},
   "source": [
    "### PROTOCOL"
   ]
  },
  {
   "cell_type": "code",
   "execution_count": 18,
   "metadata": {},
   "outputs": [
    {
     "data": {
      "text/plain": [
       "1"
      ]
     },
     "execution_count": 18,
     "metadata": {},
     "output_type": "execute_result"
    }
   ],
   "source": [
    "protocol_report = ReportCollector(destination=\"print\")\n",
    "validate_table(PROTOCOL, \"PROTOCOL\", CDE, protocol_report)\n"
   ]
  },
  {
   "cell_type": "code",
   "execution_count": 19,
   "metadata": {},
   "outputs": [
    {
     "name": "stdout",
     "output_type": "stream",
     "text": [
      "All required fields are present in *PROTOCOL* table.\n",
      "No empty entries (Nan) found in _Required_ fields.\n",
      "No empty entries (Nan) found in _Optional_ fields.\n",
      "## Enum fields have valid values in PROTOCOL. 🥳\n",
      "\n"
     ]
    }
   ],
   "source": [
    "\n",
    "print(protocol_report.get_log())"
   ]
  },
  {
   "cell_type": "markdown",
   "metadata": {},
   "source": [
    "### export clean tables"
   ]
  },
  {
   "cell_type": "code",
   "execution_count": 20,
   "metadata": {},
   "outputs": [],
   "source": [
    "data_path = data_path / \"team-hafler\"\n",
    "data_path = Path.home() / (\"Projects/ASAP/team-hafler\")"
   ]
  },
  {
   "cell_type": "code",
   "execution_count": 21,
   "metadata": {},
   "outputs": [],
   "source": [
    "\n",
    "# # write the clean metadata\n",
    "# STUDY.to_csv(data_path / \"metadata/STUDY.csv\")\n",
    "# PROTOCOL.to_csv(data_path / \"metadata/PROTOCOL.csv\")\n",
    "# CLINPATH.to_csv(data_path / \"metadata/CLINPATH.csv\")\n",
    "# SAMPLE.to_csv(data_path / \"metadata/SAMPLE.csv\")\n",
    "# SUBJECT.to_csv(data_path / \"metadata/SUBJECT.csv\")\n",
    "\n",
    "# also writh them to clean...\n",
    "# \n",
    "#  \n",
    "\n",
    "export_root = Path.cwd() / \"clean/team-Hafler\"\n",
    "if not export_root.exists():\n",
    "    export_root.mkdir(parents=True, exist_ok=True)\n",
    "\n",
    "\n",
    "STUDY.to_csv( export_root / \"STUDY.csv\")\n",
    "PROTOCOL.to_csv(export_root / \"PROTOCOL.csv\")\n",
    "SAMPLE.to_csv(export_root / \"SAMPLE.csv\")\n",
    "SUBJECT.to_csv(export_root / \"SUBJECT.csv\")\n",
    "CLINPATH.to_csv(export_root / \"CLINPATH.csv\")\n"
   ]
  },
  {
   "cell_type": "code",
   "execution_count": 23,
   "metadata": {},
   "outputs": [],
   "source": [
    "\n",
    "# Initialize the data types dictionary\n",
    "dtypes_dict = get_dtypes_dict(CDE)\n",
    "    \n",
    "\n",
    "\n",
    "# make sure cleaned files are correct\n",
    "\n",
    "SUBJECT = read_meta_table(f\"{export_root}/SUBJECT.csv\", dtypes_dict)\n",
    "CLINPATH = read_meta_table(f\"{export_root}/CLINPATH.csv\", dtypes_dict)\n",
    "STUDY = read_meta_table(f\"{export_root}/STUDY.csv\", dtypes_dict)\n",
    "PROTOCOL = read_meta_table(f\"{export_root}/PROTOCOL.csv\", dtypes_dict)\n",
    "SAMPLE = read_meta_table(f\"{export_root}/SAMPLE.csv\", dtypes_dict)\n"
   ]
  },
  {
   "cell_type": "code",
   "execution_count": 25,
   "metadata": {},
   "outputs": [
    {
     "name": "stdout",
     "output_type": "stream",
     "text": [
      "All required fields are present in *SUBJECT* table.\n",
      "No empty entries (Nan) found in _Required_ fields.\n",
      "🚨⚠️❗ **Optional Fields with Empty (nan) values:**\n",
      "\n",
      "\t- primary_diagnosis_text: 12/12 empty rows\n",
      "## Enum fields have valid values in SUBJECT. 🥳\n",
      "\n"
     ]
    }
   ],
   "source": [
    "table, table_name = SUBJECT, \"SUBJECT\"\n",
    "\n",
    "report = ReportCollector(destination=\"print\")\n",
    "validate_table(table, table_name, CDE, report)\n",
    "print(report.get_log())"
   ]
  },
  {
   "cell_type": "code",
   "execution_count": 26,
   "metadata": {},
   "outputs": [
    {
     "name": "stdout",
     "output_type": "stream",
     "text": [
      "All required fields are present in *SAMPLE* table.\n",
      "🚨⚠️❗ **Required Fields with Empty (nan) values:**\n",
      "\n",
      "\t- source_RIN: 36/36 empty rows\n",
      "\n",
      "\t- RIN: 36/36 empty rows\n",
      "\n",
      "\t- suspension_type: 36/36 empty rows\n",
      "🚨⚠️❗ **Optional Fields with Empty (nan) values:**\n",
      "\n",
      "\t- DV200: 36/36 empty rows\n",
      "\n",
      "\t- pm_PH: 36/36 empty rows\n",
      "## Enum fields have valid values in SAMPLE. 🥳\n",
      "\n"
     ]
    }
   ],
   "source": [
    "table, table_name = SAMPLE, \"SAMPLE\"\n",
    "\n",
    "report = ReportCollector(destination=\"print\")\n",
    "validate_table(table, table_name, CDE, report)\n",
    "print(report.get_log())"
   ]
  },
  {
   "cell_type": "code",
   "execution_count": 27,
   "metadata": {},
   "outputs": [
    {
     "name": "stdout",
     "output_type": "stream",
     "text": [
      "All required fields are present in *CLINPATH* table.\n",
      "🚨⚠️❗ **Required Fields with Empty (nan) values:**\n",
      "\n",
      "\t- age_at_onset: 12/12 empty rows\n",
      "\n",
      "\t- age_at_diagnosis: 12/12 empty rows\n",
      "\n",
      "\t- first_motor_symptom: 12/12 empty rows\n",
      "\n",
      "\t- path_year_death: 12/12 empty rows\n",
      "\n",
      "\t- brain_weight: 12/12 empty rows\n",
      "🚨⚠️❗ **Optional Fields with Empty (nan) values:**\n",
      "\n",
      "\t- smoking_years: 12/12 empty rows\n",
      "## Enum fields have valid values in CLINPATH. 🥳\n",
      "\n"
     ]
    }
   ],
   "source": [
    "table, table_name = CLINPATH, \"CLINPATH\"\n",
    "\n",
    "report = ReportCollector(destination=\"print\")\n",
    "validate_table(table, table_name, CDE, report)\n",
    "print(report.get_log())"
   ]
  },
  {
   "cell_type": "code",
   "execution_count": null,
   "metadata": {},
   "outputs": [],
   "source": []
  },
  {
   "cell_type": "code",
   "execution_count": null,
   "metadata": {},
   "outputs": [],
   "source": []
  },
  {
   "cell_type": "code",
   "execution_count": null,
   "metadata": {},
   "outputs": [],
   "source": []
  },
  {
   "cell_type": "code",
   "execution_count": null,
   "metadata": {},
   "outputs": [],
   "source": []
  }
 ],
 "metadata": {
  "kernelspec": {
   "display_name": "scverse10",
   "language": "python",
   "name": "python3"
  },
  "language_info": {
   "codemirror_mode": {
    "name": "ipython",
    "version": 3
   },
   "file_extension": ".py",
   "mimetype": "text/x-python",
   "name": "python",
   "nbconvert_exporter": "python",
   "pygments_lexer": "ipython3",
   "version": "3.10.10"
  },
  "orig_nbformat": 4
 },
 "nbformat": 4,
 "nbformat_minor": 2
}
