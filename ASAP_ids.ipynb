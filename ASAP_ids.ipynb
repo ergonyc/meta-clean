{
 "cells": [
  {
   "cell_type": "code",
   "execution_count": null,
   "metadata": {},
   "outputs": [],
   "source": []
  },
  {
   "cell_type": "markdown",
   "metadata": {},
   "source": [
    "ASAP CRN Unique ID generation - wave 1\n",
    "\n",
    "# ASAP CRN Unique ID generation - wave 1\n",
    "\n",
    "\n",
    "Postmortem-derived Brain Sequencing Collection\n",
    "\n",
    "\n",
    "25 OCT 2023\n",
    "Andy Henrie\n",
    "\n",
    "\n",
    "### Dataset ID\n",
    "- \"ASAP_PBMSC\" to identify that it is part of the Postmortem-derived Brain Sequencing Collection\n",
    "- `ASAP_dataset_id`\n",
    "    - also need to generate a \"team_dataset_id\" (Add to CDE/DataDictionary). TeamCODE+\"one to two word descriptor\"\n",
    "\n",
    "### Team ID\n",
    "- hardcoded definitions\n",
    "- `ASAP_team_id`\n",
    "\n",
    "### Subject ID\n",
    "- unique for ASAP\n",
    "- could exist across several Teams / Datasets\n",
    "- `ASAP_subject_id`\n",
    "\n",
    "### Sample ID\n",
    "- unique for each sample\n",
    "- multiple could derive from same `ASAP_subject_id`.  \n",
    "    - multiple brain regions from a single team\n",
    "    - multiple teams from same biobank\n",
    "    - \"other\" repeated samples??\n",
    "- `ASAP_sample_id`\n",
    "- Unique ASAP_subject_id + \"sample repeat number\"\n",
    "\n",
    "## Study ID: Postmortem-derived Brain Sequencing Collection (PMBDS) \n",
    "- All ASAP_dataset_id, and ASAP_subject_id here will start with \"ASAP_PMBDS_\"\n",
    "\n",
    "\n",
    "###  Issues\n",
    "\n",
    "- storing \"master\" IDs for lookup: choosing json to make an easy `dict` mapper, but could make .csv tables \n"
   ]
  },
  {
   "cell_type": "code",
   "execution_count": 36,
   "metadata": {},
   "outputs": [],
   "source": [
    "# conda create -n lw10 python=3.10 notebook ipykernel pip pandas ijson - y && conda activate lw10"
   ]
  },
  {
   "cell_type": "code",
   "execution_count": 37,
   "metadata": {},
   "outputs": [
    {
     "name": "stdout",
     "output_type": "stream",
     "text": [
      "The autoreload extension is already loaded. To reload it, use:\n",
      "  %reload_ext autoreload\n"
     ]
    }
   ],
   "source": [
    "import pandas as pd\n",
    "from pathlib import Path\n",
    "\n",
    "\n",
    "from asap_ids import (read_meta_table, get_dtypes_dict, STUDY_PREFIX, DATASET_ID, \n",
    "                      load_id_mapper, write_id_mapper, generate_asap_sample_ids,\n",
    "                      generate_asap_subject_ids, process_meta_files)\n",
    "\n",
    "\n",
    "                       \n",
    "\n",
    "%load_ext autoreload\n",
    "%autoreload 2\n"
   ]
  },
  {
   "cell_type": "markdown",
   "metadata": {},
   "source": [
    "Load CDE for properly reading the team tables."
   ]
  },
  {
   "cell_type": "code",
   "execution_count": 38,
   "metadata": {},
   "outputs": [],
   "source": [
    "CDE_path = Path.cwd() / \"ASAP_CDE.csv\" \n",
    "CDE = pd.read_csv(CDE_path )\n",
    "# Initialize the data types dictionary\n",
    "dtypes_dict = get_dtypes_dict(CDE)\n"
   ]
  },
  {
   "cell_type": "code",
   "execution_count": null,
   "metadata": {},
   "outputs": [],
   "source": [
    "\n"
   ]
  },
  {
   "cell_type": "markdown",
   "metadata": {},
   "source": [
    "## `ASAP_team_id`\n",
    "\n",
    "On meta-data ingest, add this to:\n",
    "- STUDY, PROTOCOL"
   ]
  },
  {
   "cell_type": "code",
   "execution_count": 39,
   "metadata": {},
   "outputs": [
    {
     "data": {
      "text/plain": [
       "['LEE', 'HAFLER', 'HARDY', 'JAKOBSSON', 'SHERZER', 'SULZER', 'VOET', 'WOOD']"
      ]
     },
     "execution_count": 39,
     "metadata": {},
     "output_type": "execute_result"
    }
   ],
   "source": [
    "team_names = [\"lee\", \"hafler\", \"hardy\", \"jakobsson\", \"sherzer\",\"sulzer\", \"voet\",\"wood\"]\n",
    "[x.upper() for x in team_names]\n",
    "\n"
   ]
  },
  {
   "cell_type": "code",
   "execution_count": 40,
   "metadata": {},
   "outputs": [],
   "source": [
    "team_codes = [\"LEE\", \"HAF\", \"HAR\", \"JAK\", \"SHE\", \"SUL\", \"VOE\", \"WOO\"]\n",
    "\n",
    "\n"
   ]
  },
  {
   "cell_type": "code",
   "execution_count": 41,
   "metadata": {},
   "outputs": [
    {
     "data": {
      "text/plain": [
       "['TEAM_LEE',\n",
       " 'TEAM_HAFLER',\n",
       " 'TEAM_HARDY',\n",
       " 'TEAM_JAKOBSSON',\n",
       " 'TEAM_SHERZER',\n",
       " 'TEAM_SULZER',\n",
       " 'TEAM_VOET',\n",
       " 'TEAM_WOOD']"
      ]
     },
     "execution_count": 41,
     "metadata": {},
     "output_type": "execute_result"
    }
   ],
   "source": [
    "ASAP_team_id = [\"TEAM_\" + team_name.upper() for team_name in team_names]\n",
    "ASAP_team_id "
   ]
  },
  {
   "cell_type": "markdown",
   "metadata": {},
   "source": [
    "## `ASAP_dataset_id`\n",
    "\n",
    "This compares with the GP2 \"study code\".\n",
    "\n",
    "This is done by hand for now. On meta-data ingest, add this (?) to:\n",
    "- STUDY, PROTOCOL, SAMPLE\n",
    "\n",
    "\n",
    "\n",
    "Currently we have:\n",
    "- Team Lee \n",
    "- Team Hardy\n",
    "- Team Hafler\n",
    "\n"
   ]
  },
  {
   "cell_type": "code",
   "execution_count": 42,
   "metadata": {},
   "outputs": [
    {
     "data": {
      "text/plain": [
       "'ASAP_PMBDS'"
      ]
     },
     "execution_count": 42,
     "metadata": {},
     "output_type": "execute_result"
    }
   ],
   "source": [
    "ASAP_dataset_id = DATASET_ID\n",
    "ASAP_dataset_id\n"
   ]
  },
  {
   "cell_type": "markdown",
   "metadata": {},
   "source": [
    "## `ASAP_subject_id`\n",
    "\n",
    "\n",
    "### Subject ID\n",
    "- unique for ASAP\n",
    "- could exist across several Teams / Datasets\n",
    "- `ASAP_subject_id`\n",
    "\n",
    "\n",
    "On meta-data ingest, add this to:\n",
    "- SUBJECT\n",
    "\n",
    "\"ASAP_XXXXXXX\"\n",
    "\n",
    "Team Lee:  \n",
    "\n",
    "Team Hardy:\n",
    "\n",
    "Team Hafler:\n",
    "\n",
    "\n",
    "\n",
    "We need to define a function that creates the _master_archive_ (if it doesn't exist), and assigns  \n",
    "\n"
   ]
  },
  {
   "cell_type": "markdown",
   "metadata": {},
   "source": [
    "## `ASAP_sample_id`\n",
    "\n",
    "- unique for each sample\n",
    "- multiple could derive from same `ASAP_subject_id`\n",
    "- `ASAP_sample_id`\n",
    "- Unique ASAP_subject_id + \"sample repeat number\"\n",
    "\n",
    "\n",
    "On meta-data ingest, add this to:\n",
    "- SAMPLE"
   ]
  },
  {
   "cell_type": "code",
   "execution_count": 43,
   "metadata": {},
   "outputs": [],
   "source": [
    "MASTER_SUBJECT_IDs = pd.DataFrame()\n",
    "\n"
   ]
  },
  {
   "cell_type": "code",
   "execution_count": 44,
   "metadata": {},
   "outputs": [],
   "source": [
    "\n",
    "data_path = Path.cwd() / \"clean/team-Lee\"\n",
    "# make sure cleaned files are correct\n",
    "\n",
    "\n",
    "SUBJECT = read_meta_table(f\"{data_path}/SUBJECT.csv\", dtypes_dict)\n",
    "CLINPATH = read_meta_table(f\"{data_path}/CLINPATH.csv\", dtypes_dict)\n",
    "STUDY = read_meta_table(f\"{data_path}/STUDY.csv\", dtypes_dict)\n",
    "PROTOCOL = read_meta_table(f\"{data_path}/PROTOCOL.csv\", dtypes_dict)\n",
    "SAMPLE = read_meta_table(f\"{data_path}/SAMPLE.csv\", dtypes_dict)\n"
   ]
  },
  {
   "cell_type": "markdown",
   "metadata": {},
   "source": [
    "Examples of how to generate the subj_id_mapper  and samp_id_mapper `dict`s"
   ]
  },
  {
   "cell_type": "code",
   "execution_count": 45,
   "metadata": {},
   "outputs": [
    {
     "name": "stdout",
     "output_type": "stream",
     "text": [
      "id_mapper not found at /Users/ergonyc/Projects/ASAP/meta-clean/ASAP_subj_map2.json\n",
      "id_mapper not found at /Users/ergonyc/Projects/ASAP/meta-clean/ASAP_samp_map2.json\n"
     ]
    }
   ],
   "source": [
    "\n",
    "\n",
    "\n",
    "## test with team Lee\n",
    "subject_mapper_path = Path.cwd() / \"ASAP_subj_map2.json\"\n",
    "sample_mapper_path = Path.cwd() / \"ASAP_samp_map2.json\"\n",
    "\n",
    "subj_id_mapper = load_id_mapper(subject_mapper_path)\n",
    "samp_id_mapper = load_id_mapper(sample_mapper_path)\n",
    "\n",
    "ud_subj_id_mapper, ud_subject_df, n = generate_asap_subject_ids(subj_id_mapper, SUBJECT)\n",
    "ud_samp_id_mapper, sample_df = generate_asap_sample_ids(ud_subj_id_mapper, SAMPLE, n, samp_id_mapper)\n",
    "\n",
    "\n"
   ]
  },
  {
   "cell_type": "code",
   "execution_count": 46,
   "metadata": {},
   "outputs": [
    {
     "data": {
      "text/plain": [
       "({'HC_1225': 'ASAP_PMBDS_000001',\n",
       "  'HC_0602': 'ASAP_PMBDS_000002',\n",
       "  'PD_0009': 'ASAP_PMBDS_000003',\n",
       "  'PD_1921': 'ASAP_PMBDS_000004',\n",
       "  'PD_2058': 'ASAP_PMBDS_000005',\n",
       "  'PD_1441': 'ASAP_PMBDS_000006',\n",
       "  'PD_1344': 'ASAP_PMBDS_000007',\n",
       "  'HC_1939': 'ASAP_PMBDS_000008',\n",
       "  'HC_1308': 'ASAP_PMBDS_000009',\n",
       "  'HC_1862': 'ASAP_PMBDS_000010',\n",
       "  'HC_1864': 'ASAP_PMBDS_000011',\n",
       "  'HC_2057': 'ASAP_PMBDS_000012',\n",
       "  'HC_2061': 'ASAP_PMBDS_000013',\n",
       "  'HC_2062': 'ASAP_PMBDS_000014',\n",
       "  'HC_2067': 'ASAP_PMBDS_000015',\n",
       "  'PD_0348': 'ASAP_PMBDS_000016',\n",
       "  'PD_0413': 'ASAP_PMBDS_000017',\n",
       "  'PD_1312': 'ASAP_PMBDS_000018',\n",
       "  'PD_1317': 'ASAP_PMBDS_000019',\n",
       "  'PD_1504': 'ASAP_PMBDS_000020',\n",
       "  'PD_1858': 'ASAP_PMBDS_000021',\n",
       "  'PD_1902': 'ASAP_PMBDS_000022',\n",
       "  'PD_1973': 'ASAP_PMBDS_000023',\n",
       "  'PD_2005': 'ASAP_PMBDS_000024',\n",
       "  'PD_2038': 'ASAP_PMBDS_000025'},\n",
       " {'MFG_HC_1225': 'ASAP_PMBDS_000001_000001_s1',\n",
       "  'HIP_HC_1225': 'ASAP_PMBDS_000001_000001_s2',\n",
       "  'SN_HC_1225': 'ASAP_PMBDS_000001_000001_s3',\n",
       "  'MFG_HC_0602': 'ASAP_PMBDS_000002_000002_s1',\n",
       "  'HIP_HC_0602': 'ASAP_PMBDS_000002_000002_s2',\n",
       "  'SN_HC_0602': 'ASAP_PMBDS_000002_000002_s3',\n",
       "  'MFG_PD_0009': 'ASAP_PMBDS_000003_000003_s1',\n",
       "  'HIP_PD_0009': 'ASAP_PMBDS_000003_000003_s2',\n",
       "  'SN_PD_0009': 'ASAP_PMBDS_000003_000003_s3',\n",
       "  'MFG_PD_1921': 'ASAP_PMBDS_000004_000004_s1',\n",
       "  'HIP_PD_1921': 'ASAP_PMBDS_000004_000004_s2',\n",
       "  'SN_PD_1921': 'ASAP_PMBDS_000004_000004_s3',\n",
       "  'MFG_PD_2058': 'ASAP_PMBDS_000005_000005_s1',\n",
       "  'HIP_PD_2058': 'ASAP_PMBDS_000005_000005_s2',\n",
       "  'SN_PD_2058': 'ASAP_PMBDS_000005_000005_s3',\n",
       "  'MFG_PD_1441': 'ASAP_PMBDS_000006_000006_s1',\n",
       "  'HIP_PD_1441': 'ASAP_PMBDS_000006_000006_s2',\n",
       "  'SN_PD_1441': 'ASAP_PMBDS_000006_000006_s3',\n",
       "  'MFG_PD_1344': 'ASAP_PMBDS_000007_000007_s1',\n",
       "  'HIP_PD_1344': 'ASAP_PMBDS_000007_000007_s2',\n",
       "  'SN_PD_1344': 'ASAP_PMBDS_000007_000007_s3',\n",
       "  'MFG_HC_1939': 'ASAP_PMBDS_000008_000008_s1',\n",
       "  'HIP_HC_1939': 'ASAP_PMBDS_000008_000008_s2',\n",
       "  'SN_HC_1939': 'ASAP_PMBDS_000008_000008_s3',\n",
       "  'MFG_HC_1308': 'ASAP_PMBDS_000009_000009_s1',\n",
       "  'HIP_HC_1308': 'ASAP_PMBDS_000009_000009_s2',\n",
       "  'SN_HC_1308': 'ASAP_PMBDS_000009_000009_s3',\n",
       "  'MFG_HC_1862': 'ASAP_PMBDS_000010_000010_s1',\n",
       "  'HIP_HC_1862': 'ASAP_PMBDS_000010_000010_s2',\n",
       "  'SN_HC_1862': 'ASAP_PMBDS_000010_000010_s3',\n",
       "  'MFG_HC_1864': 'ASAP_PMBDS_000011_000011_s1',\n",
       "  'HIP_HC_1864': 'ASAP_PMBDS_000011_000011_s2',\n",
       "  'SN_HC_1864': 'ASAP_PMBDS_000011_000011_s3',\n",
       "  'MFG_HC_2057': 'ASAP_PMBDS_000012_000012_s1',\n",
       "  'HIP_HC_2057': 'ASAP_PMBDS_000012_000012_s2',\n",
       "  'SN_HC_2057': 'ASAP_PMBDS_000012_000012_s3',\n",
       "  'MFG_HC_2061': 'ASAP_PMBDS_000013_000013_s1',\n",
       "  'HIP_HC_2061': 'ASAP_PMBDS_000013_000013_s2',\n",
       "  'SN_HC_2061': 'ASAP_PMBDS_000013_000013_s3',\n",
       "  'MFG_HC_2062': 'ASAP_PMBDS_000014_000014_s1',\n",
       "  'HIP_HC_2062': 'ASAP_PMBDS_000014_000014_s2',\n",
       "  'SN_HC_2062': 'ASAP_PMBDS_000014_000014_s3',\n",
       "  'MFG_HC_2067': 'ASAP_PMBDS_000015_000015_s1',\n",
       "  'HIP_HC_2067': 'ASAP_PMBDS_000015_000015_s2',\n",
       "  'SN_HC_2067': 'ASAP_PMBDS_000015_000015_s3',\n",
       "  'MFG_PD_0348': 'ASAP_PMBDS_000016_000016_s1',\n",
       "  'HIP_PD_0348': 'ASAP_PMBDS_000016_000016_s2',\n",
       "  'SN_PD_0348': 'ASAP_PMBDS_000016_000016_s3',\n",
       "  'MFG_PD_0413': 'ASAP_PMBDS_000017_000017_s1',\n",
       "  'HIP_PD_0413': 'ASAP_PMBDS_000017_000017_s2',\n",
       "  'SN_PD_0413': 'ASAP_PMBDS_000017_000017_s3',\n",
       "  'MFG_PD_1312': 'ASAP_PMBDS_000018_000018_s1',\n",
       "  'HIP_PD_1312': 'ASAP_PMBDS_000018_000018_s2',\n",
       "  'SN_PD_1312': 'ASAP_PMBDS_000018_000018_s3',\n",
       "  'MFG_PD_1317': 'ASAP_PMBDS_000019_000019_s1',\n",
       "  'HIP_PD_1317': 'ASAP_PMBDS_000019_000019_s2',\n",
       "  'SN_PD_1317': 'ASAP_PMBDS_000019_000019_s3',\n",
       "  'MFG_PD_1504': 'ASAP_PMBDS_000020_000020_s1',\n",
       "  'HIP_PD_1504': 'ASAP_PMBDS_000020_000020_s2',\n",
       "  'SN_PD_1504': 'ASAP_PMBDS_000020_000020_s3',\n",
       "  'MFG_PD_1858': 'ASAP_PMBDS_000021_000021_s1',\n",
       "  'HIP_PD_1858': 'ASAP_PMBDS_000021_000021_s2',\n",
       "  'SN_PD_1858': 'ASAP_PMBDS_000021_000021_s3',\n",
       "  'MFG_PD_1902': 'ASAP_PMBDS_000022_000022_s1',\n",
       "  'HIP_PD_1902': 'ASAP_PMBDS_000022_000022_s2',\n",
       "  'SN_PD_1902': 'ASAP_PMBDS_000022_000022_s3',\n",
       "  'MFG_PD_1973': 'ASAP_PMBDS_000023_000023_s1',\n",
       "  'HIP_PD_1973': 'ASAP_PMBDS_000023_000023_s2',\n",
       "  'SN_PD_1973': 'ASAP_PMBDS_000023_000023_s3',\n",
       "  'MFG_PD_2005': 'ASAP_PMBDS_000024_000024_s1',\n",
       "  'HIP_PD_2005': 'ASAP_PMBDS_000024_000024_s2',\n",
       "  'SN_PD_2005': 'ASAP_PMBDS_000024_000024_s3',\n",
       "  'MFG_PD_2038': 'ASAP_PMBDS_000025_000025_s1',\n",
       "  'HIP_PD_2038': 'ASAP_PMBDS_000025_000025_s2',\n",
       "  'SN_PD_2038': 'ASAP_PMBDS_000025_000025_s3'})"
      ]
     },
     "execution_count": 46,
     "metadata": {},
     "output_type": "execute_result"
    }
   ],
   "source": [
    "ud_subj_id_mapper, ud_samp_id_mapper\n",
    "\n"
   ]
  },
  {
   "cell_type": "markdown",
   "metadata": {},
   "source": [
    "Use the `process_meta_files` function to generate the mappers and update the meta tables."
   ]
  },
  {
   "cell_type": "code",
   "execution_count": 47,
   "metadata": {},
   "outputs": [
    {
     "name": "stdout",
     "output_type": "stream",
     "text": [
      "id_mapper not found at /Users/ergonyc/Projects/ASAP/meta-clean/ASAP_subj_map3.json\n",
      "id_mapper not found at /Users/ergonyc/Projects/ASAP/meta-clean/ASAP_samp_map3.json\n",
      "exporting to /Users/ergonyc/Projects/ASAP/meta-clean/ASAP_tables/Lee\n"
     ]
    },
    {
     "data": {
      "text/plain": [
       "1"
      ]
     },
     "execution_count": 47,
     "metadata": {},
     "output_type": "execute_result"
    }
   ],
   "source": [
    "subject_mapper_path = Path.cwd() / \"ASAP_subj_map3.json\"\n",
    "sample_mapper_path = Path.cwd() / \"ASAP_samp_map3.json\"\n",
    "\n",
    "\n",
    "\n",
    "export_root = Path.cwd() / \"ASAP_tables\" \n",
    "\n",
    "table_root = Path.cwd() / \"clean/team-Lee\"\n",
    "## add team Lee\n",
    "process_meta_files(table_root, \n",
    "                       CDE_path, \n",
    "                       subject_mapper_path, \n",
    "                       sample_mapper_path, \n",
    "                       export_path=export_root)\n",
    "\n"
   ]
  },
  {
   "cell_type": "markdown",
   "metadata": {},
   "source": [
    "Using the same mapper_paths we can continue to generate ASAP IDs"
   ]
  },
  {
   "cell_type": "code",
   "execution_count": 48,
   "metadata": {},
   "outputs": [
    {
     "name": "stdout",
     "output_type": "stream",
     "text": [
      "id_mapper loaded from /Users/ergonyc/Projects/ASAP/meta-clean/ASAP_subj_map3.json\n",
      "id_mapper loaded from /Users/ergonyc/Projects/ASAP/meta-clean/ASAP_samp_map3.json\n",
      "exporting to /Users/ergonyc/Projects/ASAP/meta-clean/ASAP_tables/Hafler\n",
      "id_mapper loaded from /Users/ergonyc/Projects/ASAP/meta-clean/ASAP_subj_map3.json\n",
      "id_mapper loaded from /Users/ergonyc/Projects/ASAP/meta-clean/ASAP_samp_map3.json\n",
      "exporting to /Users/ergonyc/Projects/ASAP/meta-clean/ASAP_tables/Hardy\n"
     ]
    },
    {
     "data": {
      "text/plain": [
       "1"
      ]
     },
     "execution_count": 48,
     "metadata": {},
     "output_type": "execute_result"
    }
   ],
   "source": [
    "\n",
    "## add team Hafler\n",
    "table_root = Path.cwd() / \"clean/team-Hafler\"\n",
    "process_meta_files(table_root, \n",
    "                       CDE_path, \n",
    "                       subject_mapper_path, \n",
    "                       sample_mapper_path, \n",
    "                       export_path=export_root)\n",
    "\n",
    "## add team Hardy\n",
    "table_root = Path.cwd() / \"clean/team-Hardy\"\n",
    "process_meta_files(table_root, \n",
    "                       CDE_path, \n",
    "                       subject_mapper_path, \n",
    "                       sample_mapper_path, \n",
    "                       export_path=export_root)\n"
   ]
  }
 ],
 "metadata": {
  "kernelspec": {
   "display_name": "scverse10",
   "language": "python",
   "name": "python3"
  },
  "language_info": {
   "codemirror_mode": {
    "name": "ipython",
    "version": 3
   },
   "file_extension": ".py",
   "mimetype": "text/x-python",
   "name": "python",
   "nbconvert_exporter": "python",
   "pygments_lexer": "ipython3",
   "version": "3.10.13"
  },
  "orig_nbformat": 4
 },
 "nbformat": 4,
 "nbformat_minor": 2
}
